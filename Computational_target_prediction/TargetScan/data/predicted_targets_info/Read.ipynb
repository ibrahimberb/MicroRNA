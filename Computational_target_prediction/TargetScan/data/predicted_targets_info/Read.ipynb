{
 "cells": [
  {
   "cell_type": "markdown",
   "metadata": {
    "collapsed": true,
    "pycharm": {
     "name": "#%% md\n"
    }
   },
   "source": [
    "# Predicted Targets Info\n",
    "\n",
    "Downloaded from [http://www.targetscan.org/cgi-bin/targetscan/data_download.mmu80.cgi](http://www.targetscan.org/cgi-bin/targetscan/data_download.mmu80.cgi)\n",
    "\n",
    "**Default predictions (conserved sites of conserved miRNA families)**\n",
    "\n",
    "* **Predicted Targets (default predictions) - (9.84 MB) (817,387 rows)**"
   ]
  },
  {
   "cell_type": "code",
   "execution_count": 3,
   "outputs": [],
   "source": [
    "import pandas as pd\n",
    "\n",
    "DATA_PATH = \"Predicted_Targets_Info.default_predictions.txt\"\n",
    "MOUSE_TAXONOMY_ID = 10090"
   ],
   "metadata": {
    "collapsed": false,
    "pycharm": {
     "name": "#%%\n"
    }
   }
  },
  {
   "cell_type": "code",
   "execution_count": 2,
   "outputs": [
    {
     "data": {
      "text/plain": "               miR Family                Gene ID    Gene Symbol  \\\n0                 miR-346   ENSMUSG00000021252.6  0610007P14Rik   \n1                miR-7-5p   ENSMUSG00000021252.6  0610007P14Rik   \n2                miR-7-5p   ENSMUSG00000021252.6  0610007P14Rik   \n3                   miR-7   ENSMUSG00000021252.6  0610007P14Rik   \n4                   miR-7   ENSMUSG00000021252.6  0610007P14Rik   \n...                   ...                    ...            ...   \n817381            miR-302  ENSMUSG00000039068.11           Zzz3   \n817382       miR-383-5p.2  ENSMUSG00000039068.11           Zzz3   \n817383            miR-452  ENSMUSG00000039068.11           Zzz3   \n817384  miR-452-5p/892-3p  ENSMUSG00000039068.11           Zzz3   \n817385         miR-323-3p  ENSMUSG00000039068.11           Zzz3   \n\n               Transcript ID  Species ID  UTR start  UTR end  MSA start  \\\n0       ENSMUST00000021676.6        9606       2346     2352       4932   \n1       ENSMUST00000021676.6       10116         31       38         38   \n2       ENSMUST00000021676.6       10090         28       35         35   \n3       ENSMUST00000021676.6        9598         31       38         38   \n4       ENSMUST00000021676.6        9544         31       37         38   \n...                      ...         ...        ...      ...        ...   \n817381  ENSMUST00000106100.3        9031        604      611        852   \n817382  ENSMUST00000106100.3        9606       4900     4907       8009   \n817383  ENSMUST00000106100.3        9615        372      378        511   \n817384  ENSMUST00000106100.3        9606        361      367        511   \n817385  ENSMUST00000106100.3        9606        679      685        972   \n\n        MSA end Seed match   PCT  \n0          4938    7mer-m8 -1.00  \n1            46       8mer  0.45  \n2            43       8mer  0.45  \n3            46       8mer  0.45  \n4            45    7mer-m8  0.19  \n...         ...        ...   ...  \n817381      859       8mer  0.80  \n817382     8016       8mer  0.00  \n817383      523    7mer-m8 -1.00  \n817384      523    7mer-m8 -1.00  \n817385      978    7mer-m8 -1.00  \n\n[817386 rows x 11 columns]",
      "text/html": "<div>\n<style scoped>\n    .dataframe tbody tr th:only-of-type {\n        vertical-align: middle;\n    }\n\n    .dataframe tbody tr th {\n        vertical-align: top;\n    }\n\n    .dataframe thead th {\n        text-align: right;\n    }\n</style>\n<table border=\"1\" class=\"dataframe\">\n  <thead>\n    <tr style=\"text-align: right;\">\n      <th></th>\n      <th>miR Family</th>\n      <th>Gene ID</th>\n      <th>Gene Symbol</th>\n      <th>Transcript ID</th>\n      <th>Species ID</th>\n      <th>UTR start</th>\n      <th>UTR end</th>\n      <th>MSA start</th>\n      <th>MSA end</th>\n      <th>Seed match</th>\n      <th>PCT</th>\n    </tr>\n  </thead>\n  <tbody>\n    <tr>\n      <th>0</th>\n      <td>miR-346</td>\n      <td>ENSMUSG00000021252.6</td>\n      <td>0610007P14Rik</td>\n      <td>ENSMUST00000021676.6</td>\n      <td>9606</td>\n      <td>2346</td>\n      <td>2352</td>\n      <td>4932</td>\n      <td>4938</td>\n      <td>7mer-m8</td>\n      <td>-1.00</td>\n    </tr>\n    <tr>\n      <th>1</th>\n      <td>miR-7-5p</td>\n      <td>ENSMUSG00000021252.6</td>\n      <td>0610007P14Rik</td>\n      <td>ENSMUST00000021676.6</td>\n      <td>10116</td>\n      <td>31</td>\n      <td>38</td>\n      <td>38</td>\n      <td>46</td>\n      <td>8mer</td>\n      <td>0.45</td>\n    </tr>\n    <tr>\n      <th>2</th>\n      <td>miR-7-5p</td>\n      <td>ENSMUSG00000021252.6</td>\n      <td>0610007P14Rik</td>\n      <td>ENSMUST00000021676.6</td>\n      <td>10090</td>\n      <td>28</td>\n      <td>35</td>\n      <td>35</td>\n      <td>43</td>\n      <td>8mer</td>\n      <td>0.45</td>\n    </tr>\n    <tr>\n      <th>3</th>\n      <td>miR-7</td>\n      <td>ENSMUSG00000021252.6</td>\n      <td>0610007P14Rik</td>\n      <td>ENSMUST00000021676.6</td>\n      <td>9598</td>\n      <td>31</td>\n      <td>38</td>\n      <td>38</td>\n      <td>46</td>\n      <td>8mer</td>\n      <td>0.45</td>\n    </tr>\n    <tr>\n      <th>4</th>\n      <td>miR-7</td>\n      <td>ENSMUSG00000021252.6</td>\n      <td>0610007P14Rik</td>\n      <td>ENSMUST00000021676.6</td>\n      <td>9544</td>\n      <td>31</td>\n      <td>37</td>\n      <td>38</td>\n      <td>45</td>\n      <td>7mer-m8</td>\n      <td>0.19</td>\n    </tr>\n    <tr>\n      <th>...</th>\n      <td>...</td>\n      <td>...</td>\n      <td>...</td>\n      <td>...</td>\n      <td>...</td>\n      <td>...</td>\n      <td>...</td>\n      <td>...</td>\n      <td>...</td>\n      <td>...</td>\n      <td>...</td>\n    </tr>\n    <tr>\n      <th>817381</th>\n      <td>miR-302</td>\n      <td>ENSMUSG00000039068.11</td>\n      <td>Zzz3</td>\n      <td>ENSMUST00000106100.3</td>\n      <td>9031</td>\n      <td>604</td>\n      <td>611</td>\n      <td>852</td>\n      <td>859</td>\n      <td>8mer</td>\n      <td>0.80</td>\n    </tr>\n    <tr>\n      <th>817382</th>\n      <td>miR-383-5p.2</td>\n      <td>ENSMUSG00000039068.11</td>\n      <td>Zzz3</td>\n      <td>ENSMUST00000106100.3</td>\n      <td>9606</td>\n      <td>4900</td>\n      <td>4907</td>\n      <td>8009</td>\n      <td>8016</td>\n      <td>8mer</td>\n      <td>0.00</td>\n    </tr>\n    <tr>\n      <th>817383</th>\n      <td>miR-452</td>\n      <td>ENSMUSG00000039068.11</td>\n      <td>Zzz3</td>\n      <td>ENSMUST00000106100.3</td>\n      <td>9615</td>\n      <td>372</td>\n      <td>378</td>\n      <td>511</td>\n      <td>523</td>\n      <td>7mer-m8</td>\n      <td>-1.00</td>\n    </tr>\n    <tr>\n      <th>817384</th>\n      <td>miR-452-5p/892-3p</td>\n      <td>ENSMUSG00000039068.11</td>\n      <td>Zzz3</td>\n      <td>ENSMUST00000106100.3</td>\n      <td>9606</td>\n      <td>361</td>\n      <td>367</td>\n      <td>511</td>\n      <td>523</td>\n      <td>7mer-m8</td>\n      <td>-1.00</td>\n    </tr>\n    <tr>\n      <th>817385</th>\n      <td>miR-323-3p</td>\n      <td>ENSMUSG00000039068.11</td>\n      <td>Zzz3</td>\n      <td>ENSMUST00000106100.3</td>\n      <td>9606</td>\n      <td>679</td>\n      <td>685</td>\n      <td>972</td>\n      <td>978</td>\n      <td>7mer-m8</td>\n      <td>-1.00</td>\n    </tr>\n  </tbody>\n</table>\n<p>817386 rows × 11 columns</p>\n</div>"
     },
     "execution_count": 2,
     "metadata": {},
     "output_type": "execute_result"
    }
   ],
   "source": [
    "data = pd.read_csv(DATA_PATH, sep=\"\\t\")\n",
    "data"
   ],
   "metadata": {
    "collapsed": false,
    "pycharm": {
     "name": "#%%\n"
    }
   }
  },
  {
   "cell_type": "code",
   "execution_count": 4,
   "outputs": [
    {
     "data": {
      "text/plain": "(100832, 11)"
     },
     "execution_count": 4,
     "metadata": {},
     "output_type": "execute_result"
    }
   ],
   "source": [
    "data_mouse = data[data[\"Species ID\"] == MOUSE_TAXONOMY_ID]\n",
    "data_mouse.shape"
   ],
   "metadata": {
    "collapsed": false,
    "pycharm": {
     "name": "#%%\n"
    }
   }
  },
  {
   "cell_type": "code",
   "execution_count": 5,
   "outputs": [
    {
     "data": {
      "text/plain": "(344, 11)"
     },
     "execution_count": 5,
     "metadata": {},
     "output_type": "execute_result"
    }
   ],
   "source": [
    "data_mouse_miR_223 = data_mouse[\n",
    "    data_mouse[\"miR Family\"].str.contains(\"miR-223\")\n",
    "]\n",
    "data_mouse_miR_223.shape"
   ],
   "metadata": {
    "collapsed": false,
    "pycharm": {
     "name": "#%%\n"
    }
   }
  },
  {
   "cell_type": "code",
   "execution_count": 6,
   "outputs": [
    {
     "data": {
      "text/plain": "        miR Family               Gene ID    Gene Symbol         Transcript ID  \\\n3211    miR-223-3p  ENSMUSG00000035401.8  2210018M11Rik  ENSMUST00000038359.4   \n3680    miR-223-3p  ENSMUSG00000026319.8  2310035C23Rik  ENSMUST00000086721.4   \n5656    miR-223-3p  ENSMUSG00000073741.1  4732440D04Rik  ENSMUST00000097832.1   \n7553    miR-223-3p  ENSMUSG00000034959.7  5031414D18Rik  ENSMUST00000036072.7   \n7935    miR-223-3p  ENSMUSG00000070690.4  5830473C10Rik  ENSMUST00000094615.4   \n...            ...                   ...            ...                   ...   \n794580  miR-223-3p  ENSMUSG00000061410.6        Zcchc14  ENSMUST00000046386.4   \n797206  miR-223-3p  ENSMUSG00000024238.8           Zeb1  ENSMUST00000025081.6   \n798361  miR-223-3p  ENSMUSG00000024750.5         Zfand5  ENSMUST00000025659.5   \n798705  miR-223-3p  ENSMUSG00000038872.9          Zfhx3  ENSMUST00000043896.9   \n812047  miR-223-3p  ENSMUSG00000079509.5            Zfx  ENSMUST00000088102.6   \n\n        Species ID  UTR start  UTR end  MSA start  MSA end Seed match   PCT  \n3211         10090       1181     1187       2140     2151    7mer-1a  0.45  \n3680         10090        484      490        715      723    7mer-m8  0.32  \n5656         10090       1239     1246       2372     2379       8mer  0.09  \n7553         10090        335      342        822      829       8mer  0.48  \n7935         10090       2749     2756       3767     3774       8mer  0.00  \n...            ...        ...      ...        ...      ...        ...   ...  \n794580       10090       1680     1687       2860     2871       8mer  0.49  \n797206       10090       1245     1251       1936     1944    7mer-1a  0.44  \n798361       10090      17515    17521      21933    21939    7mer-1a  0.42  \n798705       10090        884      890       1587     1593    7mer-m8  0.46  \n812047       10090       2395     2401       3875     3881    7mer-1a  0.40  \n\n[344 rows x 11 columns]",
      "text/html": "<div>\n<style scoped>\n    .dataframe tbody tr th:only-of-type {\n        vertical-align: middle;\n    }\n\n    .dataframe tbody tr th {\n        vertical-align: top;\n    }\n\n    .dataframe thead th {\n        text-align: right;\n    }\n</style>\n<table border=\"1\" class=\"dataframe\">\n  <thead>\n    <tr style=\"text-align: right;\">\n      <th></th>\n      <th>miR Family</th>\n      <th>Gene ID</th>\n      <th>Gene Symbol</th>\n      <th>Transcript ID</th>\n      <th>Species ID</th>\n      <th>UTR start</th>\n      <th>UTR end</th>\n      <th>MSA start</th>\n      <th>MSA end</th>\n      <th>Seed match</th>\n      <th>PCT</th>\n    </tr>\n  </thead>\n  <tbody>\n    <tr>\n      <th>3211</th>\n      <td>miR-223-3p</td>\n      <td>ENSMUSG00000035401.8</td>\n      <td>2210018M11Rik</td>\n      <td>ENSMUST00000038359.4</td>\n      <td>10090</td>\n      <td>1181</td>\n      <td>1187</td>\n      <td>2140</td>\n      <td>2151</td>\n      <td>7mer-1a</td>\n      <td>0.45</td>\n    </tr>\n    <tr>\n      <th>3680</th>\n      <td>miR-223-3p</td>\n      <td>ENSMUSG00000026319.8</td>\n      <td>2310035C23Rik</td>\n      <td>ENSMUST00000086721.4</td>\n      <td>10090</td>\n      <td>484</td>\n      <td>490</td>\n      <td>715</td>\n      <td>723</td>\n      <td>7mer-m8</td>\n      <td>0.32</td>\n    </tr>\n    <tr>\n      <th>5656</th>\n      <td>miR-223-3p</td>\n      <td>ENSMUSG00000073741.1</td>\n      <td>4732440D04Rik</td>\n      <td>ENSMUST00000097832.1</td>\n      <td>10090</td>\n      <td>1239</td>\n      <td>1246</td>\n      <td>2372</td>\n      <td>2379</td>\n      <td>8mer</td>\n      <td>0.09</td>\n    </tr>\n    <tr>\n      <th>7553</th>\n      <td>miR-223-3p</td>\n      <td>ENSMUSG00000034959.7</td>\n      <td>5031414D18Rik</td>\n      <td>ENSMUST00000036072.7</td>\n      <td>10090</td>\n      <td>335</td>\n      <td>342</td>\n      <td>822</td>\n      <td>829</td>\n      <td>8mer</td>\n      <td>0.48</td>\n    </tr>\n    <tr>\n      <th>7935</th>\n      <td>miR-223-3p</td>\n      <td>ENSMUSG00000070690.4</td>\n      <td>5830473C10Rik</td>\n      <td>ENSMUST00000094615.4</td>\n      <td>10090</td>\n      <td>2749</td>\n      <td>2756</td>\n      <td>3767</td>\n      <td>3774</td>\n      <td>8mer</td>\n      <td>0.00</td>\n    </tr>\n    <tr>\n      <th>...</th>\n      <td>...</td>\n      <td>...</td>\n      <td>...</td>\n      <td>...</td>\n      <td>...</td>\n      <td>...</td>\n      <td>...</td>\n      <td>...</td>\n      <td>...</td>\n      <td>...</td>\n      <td>...</td>\n    </tr>\n    <tr>\n      <th>794580</th>\n      <td>miR-223-3p</td>\n      <td>ENSMUSG00000061410.6</td>\n      <td>Zcchc14</td>\n      <td>ENSMUST00000046386.4</td>\n      <td>10090</td>\n      <td>1680</td>\n      <td>1687</td>\n      <td>2860</td>\n      <td>2871</td>\n      <td>8mer</td>\n      <td>0.49</td>\n    </tr>\n    <tr>\n      <th>797206</th>\n      <td>miR-223-3p</td>\n      <td>ENSMUSG00000024238.8</td>\n      <td>Zeb1</td>\n      <td>ENSMUST00000025081.6</td>\n      <td>10090</td>\n      <td>1245</td>\n      <td>1251</td>\n      <td>1936</td>\n      <td>1944</td>\n      <td>7mer-1a</td>\n      <td>0.44</td>\n    </tr>\n    <tr>\n      <th>798361</th>\n      <td>miR-223-3p</td>\n      <td>ENSMUSG00000024750.5</td>\n      <td>Zfand5</td>\n      <td>ENSMUST00000025659.5</td>\n      <td>10090</td>\n      <td>17515</td>\n      <td>17521</td>\n      <td>21933</td>\n      <td>21939</td>\n      <td>7mer-1a</td>\n      <td>0.42</td>\n    </tr>\n    <tr>\n      <th>798705</th>\n      <td>miR-223-3p</td>\n      <td>ENSMUSG00000038872.9</td>\n      <td>Zfhx3</td>\n      <td>ENSMUST00000043896.9</td>\n      <td>10090</td>\n      <td>884</td>\n      <td>890</td>\n      <td>1587</td>\n      <td>1593</td>\n      <td>7mer-m8</td>\n      <td>0.46</td>\n    </tr>\n    <tr>\n      <th>812047</th>\n      <td>miR-223-3p</td>\n      <td>ENSMUSG00000079509.5</td>\n      <td>Zfx</td>\n      <td>ENSMUST00000088102.6</td>\n      <td>10090</td>\n      <td>2395</td>\n      <td>2401</td>\n      <td>3875</td>\n      <td>3881</td>\n      <td>7mer-1a</td>\n      <td>0.40</td>\n    </tr>\n  </tbody>\n</table>\n<p>344 rows × 11 columns</p>\n</div>"
     },
     "execution_count": 6,
     "metadata": {},
     "output_type": "execute_result"
    }
   ],
   "source": [
    "data_mouse_miR_223"
   ],
   "metadata": {
    "collapsed": false,
    "pycharm": {
     "name": "#%%\n"
    }
   }
  },
  {
   "cell_type": "code",
   "execution_count": 9,
   "outputs": [],
   "source": [
    "# save the data\n",
    "data_mouse_miR_223.to_csv(\"Predicted_Targets_Info_Mouse_miR-223.txt\", sep=\"\\t\", index=False)"
   ],
   "metadata": {
    "collapsed": false,
    "pycharm": {
     "name": "#%%\n"
    }
   }
  },
  {
   "cell_type": "code",
   "execution_count": null,
   "outputs": [],
   "source": [],
   "metadata": {
    "collapsed": false,
    "pycharm": {
     "name": "#%%\n"
    }
   }
  },
  {
   "cell_type": "code",
   "execution_count": null,
   "outputs": [],
   "source": [],
   "metadata": {
    "collapsed": false,
    "pycharm": {
     "name": "#%%\n"
    }
   }
  },
  {
   "cell_type": "code",
   "execution_count": null,
   "outputs": [],
   "source": [],
   "metadata": {
    "collapsed": false,
    "pycharm": {
     "name": "#%%\n"
    }
   }
  },
  {
   "cell_type": "code",
   "execution_count": 7,
   "outputs": [
    {
     "data": {
      "text/plain": "        miR Family               Gene ID Gene Symbol         Transcript ID  \\\n373661  miR-223-3p  ENSMUSG00000027927.4       Lelp1  ENSMUST00000029535.4   \n373665  miR-223-3p  ENSMUSG00000027927.4       Lelp1  ENSMUST00000029535.4   \n\n        Species ID  UTR start  UTR end  MSA start  MSA end Seed match   PCT  \n373661       10090         83       90        126      159       8mer  0.33  \n373665       10090        349      356        538      545       8mer  0.49  ",
      "text/html": "<div>\n<style scoped>\n    .dataframe tbody tr th:only-of-type {\n        vertical-align: middle;\n    }\n\n    .dataframe tbody tr th {\n        vertical-align: top;\n    }\n\n    .dataframe thead th {\n        text-align: right;\n    }\n</style>\n<table border=\"1\" class=\"dataframe\">\n  <thead>\n    <tr style=\"text-align: right;\">\n      <th></th>\n      <th>miR Family</th>\n      <th>Gene ID</th>\n      <th>Gene Symbol</th>\n      <th>Transcript ID</th>\n      <th>Species ID</th>\n      <th>UTR start</th>\n      <th>UTR end</th>\n      <th>MSA start</th>\n      <th>MSA end</th>\n      <th>Seed match</th>\n      <th>PCT</th>\n    </tr>\n  </thead>\n  <tbody>\n    <tr>\n      <th>373661</th>\n      <td>miR-223-3p</td>\n      <td>ENSMUSG00000027927.4</td>\n      <td>Lelp1</td>\n      <td>ENSMUST00000029535.4</td>\n      <td>10090</td>\n      <td>83</td>\n      <td>90</td>\n      <td>126</td>\n      <td>159</td>\n      <td>8mer</td>\n      <td>0.33</td>\n    </tr>\n    <tr>\n      <th>373665</th>\n      <td>miR-223-3p</td>\n      <td>ENSMUSG00000027927.4</td>\n      <td>Lelp1</td>\n      <td>ENSMUST00000029535.4</td>\n      <td>10090</td>\n      <td>349</td>\n      <td>356</td>\n      <td>538</td>\n      <td>545</td>\n      <td>8mer</td>\n      <td>0.49</td>\n    </tr>\n  </tbody>\n</table>\n</div>"
     },
     "execution_count": 7,
     "metadata": {},
     "output_type": "execute_result"
    }
   ],
   "source": [
    "data_mouse_miR_223[data_mouse_miR_223[\"Gene Symbol\"] == \"Lelp1\"]"
   ],
   "metadata": {
    "collapsed": false,
    "pycharm": {
     "name": "#%%\n"
    }
   }
  },
  {
   "cell_type": "code",
   "execution_count": null,
   "outputs": [],
   "source": [],
   "metadata": {
    "collapsed": false,
    "pycharm": {
     "name": "#%%\n"
    }
   }
  },
  {
   "cell_type": "code",
   "execution_count": null,
   "outputs": [],
   "source": [],
   "metadata": {
    "collapsed": false,
    "pycharm": {
     "name": "#%%\n"
    }
   }
  },
  {
   "cell_type": "code",
   "execution_count": null,
   "outputs": [],
   "source": [],
   "metadata": {
    "collapsed": false,
    "pycharm": {
     "name": "#%%\n"
    }
   }
  },
  {
   "cell_type": "code",
   "execution_count": null,
   "outputs": [],
   "source": [],
   "metadata": {
    "collapsed": false,
    "pycharm": {
     "name": "#%%\n"
    }
   }
  },
  {
   "cell_type": "code",
   "execution_count": null,
   "outputs": [],
   "source": [],
   "metadata": {
    "collapsed": false,
    "pycharm": {
     "name": "#%%\n"
    }
   }
  }
 ],
 "metadata": {
  "kernelspec": {
   "display_name": "Python 3",
   "language": "python",
   "name": "python3"
  },
  "language_info": {
   "codemirror_mode": {
    "name": "ipython",
    "version": 2
   },
   "file_extension": ".py",
   "mimetype": "text/x-python",
   "name": "python",
   "nbconvert_exporter": "python",
   "pygments_lexer": "ipython2",
   "version": "2.7.6"
  }
 },
 "nbformat": 4,
 "nbformat_minor": 0
}