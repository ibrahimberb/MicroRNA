{
 "cells": [
  {
   "cell_type": "markdown",
   "metadata": {
    "collapsed": true,
    "pycharm": {
     "name": "#%% md\n"
    }
   },
   "source": [
    "# UTR Sequence\n",
    "\n",
    "Downloaded from [http://www.targetscan.org/cgi-bin/targetscan/data_download.mmu80.cgi](http://www.targetscan.org/cgi-bin/targetscan/data_download.mmu80.cgi)\n",
    "\n",
    "**Data Download** / **Gene and miRNA annotations** / **UTR Sequences - (377.8 MB)**\n",
    "_UTR sequences from 46-way alignments |\tTranscript ID, Gene ID, Gene Symbol, Species ID, and UTR Sequence_ | **1,294,698**\n",
    "\n",
    "---\n",
    "Mus musculus\n",
    "Taxonomy ID: 10090"
   ]
  },
  {
   "cell_type": "code",
   "execution_count": 1,
   "outputs": [],
   "source": [
    "import pandas as pd\n",
    "\n",
    "DATA_PATH = \"UTR_Sequences.txt\"\n",
    "MOUSE_TAXONOMY_ID = 10090"
   ],
   "metadata": {
    "collapsed": false,
    "pycharm": {
     "name": "#%%\n"
    }
   }
  },
  {
   "cell_type": "code",
   "execution_count": 2,
   "outputs": [
    {
     "data": {
      "text/plain": "(1294696, 5)"
     },
     "execution_count": 2,
     "metadata": {},
     "output_type": "execute_result"
    }
   ],
   "source": [
    "data = pd.read_csv(DATA_PATH, sep=\"\\t\")\n",
    "data.shape"
   ],
   "metadata": {
    "collapsed": false,
    "pycharm": {
     "name": "#%%\n"
    }
   }
  },
  {
   "cell_type": "code",
   "execution_count": 3,
   "outputs": [
    {
     "data": {
      "text/plain": "  Refseq ID Gene ID Gene Symbol  Species ID  \\\n0    CDR1as  CDR1as      CDR1as        7897   \n1    CDR1as  CDR1as      CDR1as        8364   \n2    CDR1as  CDR1as      CDR1as        8478   \n3    CDR1as  CDR1as      CDR1as        9031   \n4    CDR1as  CDR1as      CDR1as        9103   \n\n                                        UTR sequence  \n0  ----------------------------------------------...  \n1  ----------------------------------------------...  \n2  ----------------------------------------------...  \n3  GG--------CCUCCAA-------GGUCACCAAGUCCUCCAACAAC...  \n4  ----------------------------------------------...  ",
      "text/html": "<div>\n<style scoped>\n    .dataframe tbody tr th:only-of-type {\n        vertical-align: middle;\n    }\n\n    .dataframe tbody tr th {\n        vertical-align: top;\n    }\n\n    .dataframe thead th {\n        text-align: right;\n    }\n</style>\n<table border=\"1\" class=\"dataframe\">\n  <thead>\n    <tr style=\"text-align: right;\">\n      <th></th>\n      <th>Refseq ID</th>\n      <th>Gene ID</th>\n      <th>Gene Symbol</th>\n      <th>Species ID</th>\n      <th>UTR sequence</th>\n    </tr>\n  </thead>\n  <tbody>\n    <tr>\n      <th>0</th>\n      <td>CDR1as</td>\n      <td>CDR1as</td>\n      <td>CDR1as</td>\n      <td>7897</td>\n      <td>----------------------------------------------...</td>\n    </tr>\n    <tr>\n      <th>1</th>\n      <td>CDR1as</td>\n      <td>CDR1as</td>\n      <td>CDR1as</td>\n      <td>8364</td>\n      <td>----------------------------------------------...</td>\n    </tr>\n    <tr>\n      <th>2</th>\n      <td>CDR1as</td>\n      <td>CDR1as</td>\n      <td>CDR1as</td>\n      <td>8478</td>\n      <td>----------------------------------------------...</td>\n    </tr>\n    <tr>\n      <th>3</th>\n      <td>CDR1as</td>\n      <td>CDR1as</td>\n      <td>CDR1as</td>\n      <td>9031</td>\n      <td>GG--------CCUCCAA-------GGUCACCAAGUCCUCCAACAAC...</td>\n    </tr>\n    <tr>\n      <th>4</th>\n      <td>CDR1as</td>\n      <td>CDR1as</td>\n      <td>CDR1as</td>\n      <td>9103</td>\n      <td>----------------------------------------------...</td>\n    </tr>\n  </tbody>\n</table>\n</div>"
     },
     "execution_count": 3,
     "metadata": {},
     "output_type": "execute_result"
    }
   ],
   "source": [
    "data.head()"
   ],
   "metadata": {
    "collapsed": false,
    "pycharm": {
     "name": "#%%\n"
    }
   }
  },
  {
   "cell_type": "markdown",
   "source": [
    "Looks like this data contains entries for various **Species ID** values. The data is therefore, filtered for _Mus musculus_ (mouse) taxonomy id."
   ],
   "metadata": {
    "collapsed": false,
    "pycharm": {
     "name": "#%% md\n"
    }
   }
  },
  {
   "cell_type": "code",
   "execution_count": 4,
   "outputs": [
    {
     "data": {
      "text/plain": "(24898, 5)"
     },
     "execution_count": 4,
     "metadata": {},
     "output_type": "execute_result"
    }
   ],
   "source": [
    "data_mouse = data[\n",
    "    data[\"Species ID\"] == MOUSE_TAXONOMY_ID\n",
    "]\n",
    "data_mouse.shape"
   ],
   "metadata": {
    "collapsed": false,
    "pycharm": {
     "name": "#%%\n"
    }
   }
  },
  {
   "cell_type": "code",
   "execution_count": 5,
   "outputs": [],
   "source": [
    "# Saving the mouse data\n",
    "data_mouse.to_csv(\"UTR_sequences_mouse.txt\", sep=\"\\t\", index=False)"
   ],
   "metadata": {
    "collapsed": false,
    "pycharm": {
     "name": "#%%\n"
    }
   }
  },
  {
   "cell_type": "code",
   "execution_count": 7,
   "outputs": [
    {
     "data": {
      "text/plain": "                  Refseq ID                Gene ID Gene Symbol  Species ID  \\\n0                    CDR1as                 CDR1as      CDR1as       10090   \n1      ENSMUST00000000001.4   ENSMUSG00000000001.4       Gnai3       10090   \n2      ENSMUST00000000003.8  ENSMUSG00000000003.10        Pbsn       10090   \n3      ENSMUST00000000010.8   ENSMUSG00000020875.9       Hoxb9       10090   \n4      ENSMUST00000000028.8   ENSMUSG00000000028.9       Cdc45       10090   \n...                     ...                    ...         ...         ...   \n24893  ENSMUST00000191553.1   ENSMUSG00000095606.2     Gm21258       10090   \n24894  ENSMUST00000191565.1   ENSMUSG00000047528.8    Als2cr12       10090   \n24895  ENSMUST00000191577.1   ENSMUSG00000042451.7       Mybph       10090   \n24896  ENSMUST00000191598.1  ENSMUSG00000024038.11      Ndufv3       10090   \n24897  ENSMUST00000191610.1   ENSMUSG00000061080.6       Lsamp       10090   \n\n                                            UTR sequence  \n0      UAUCUA-GGGUUUCCAGUGGUGCCAGUACCAAGGUCUUCCAACAUC...  \n1      GAGGAUG-GC---AU----------AG-U-----------A-AAAG...  \n2      UGACUCAACAAGAUCAGGAUUAGCAUUACAGAUGACAUCAGGAAUU...  \n3      AGA--UGACC------------------------------------...  \n4      GGAAUUC--AACUU-CU-CCAGAAGUGA------CCUCCUUUUCCU...  \n...                                                  ...  \n24893  GAUAUGCUUUUU---GGUGUAGAUGGUGAACUGAGAAAAAAAAAUG...  \n24894  GUA-ACUAACUGCUC-CUGGG-GCUG----AGC----GACACUGCC...  \n24895  AGA-GCAACAGA------------GG------C--AGAGAC---UG...  \n24896  ACUUC---UGAUGCUUUGCUCAGGAAGGGCAAAC-CC---------...  \n24897  AAGAUGCUGCUCCCU--------------------------GG-GA...  \n\n[24898 rows x 5 columns]",
      "text/html": "<div>\n<style scoped>\n    .dataframe tbody tr th:only-of-type {\n        vertical-align: middle;\n    }\n\n    .dataframe tbody tr th {\n        vertical-align: top;\n    }\n\n    .dataframe thead th {\n        text-align: right;\n    }\n</style>\n<table border=\"1\" class=\"dataframe\">\n  <thead>\n    <tr style=\"text-align: right;\">\n      <th></th>\n      <th>Refseq ID</th>\n      <th>Gene ID</th>\n      <th>Gene Symbol</th>\n      <th>Species ID</th>\n      <th>UTR sequence</th>\n    </tr>\n  </thead>\n  <tbody>\n    <tr>\n      <th>0</th>\n      <td>CDR1as</td>\n      <td>CDR1as</td>\n      <td>CDR1as</td>\n      <td>10090</td>\n      <td>UAUCUA-GGGUUUCCAGUGGUGCCAGUACCAAGGUCUUCCAACAUC...</td>\n    </tr>\n    <tr>\n      <th>1</th>\n      <td>ENSMUST00000000001.4</td>\n      <td>ENSMUSG00000000001.4</td>\n      <td>Gnai3</td>\n      <td>10090</td>\n      <td>GAGGAUG-GC---AU----------AG-U-----------A-AAAG...</td>\n    </tr>\n    <tr>\n      <th>2</th>\n      <td>ENSMUST00000000003.8</td>\n      <td>ENSMUSG00000000003.10</td>\n      <td>Pbsn</td>\n      <td>10090</td>\n      <td>UGACUCAACAAGAUCAGGAUUAGCAUUACAGAUGACAUCAGGAAUU...</td>\n    </tr>\n    <tr>\n      <th>3</th>\n      <td>ENSMUST00000000010.8</td>\n      <td>ENSMUSG00000020875.9</td>\n      <td>Hoxb9</td>\n      <td>10090</td>\n      <td>AGA--UGACC------------------------------------...</td>\n    </tr>\n    <tr>\n      <th>4</th>\n      <td>ENSMUST00000000028.8</td>\n      <td>ENSMUSG00000000028.9</td>\n      <td>Cdc45</td>\n      <td>10090</td>\n      <td>GGAAUUC--AACUU-CU-CCAGAAGUGA------CCUCCUUUUCCU...</td>\n    </tr>\n    <tr>\n      <th>...</th>\n      <td>...</td>\n      <td>...</td>\n      <td>...</td>\n      <td>...</td>\n      <td>...</td>\n    </tr>\n    <tr>\n      <th>24893</th>\n      <td>ENSMUST00000191553.1</td>\n      <td>ENSMUSG00000095606.2</td>\n      <td>Gm21258</td>\n      <td>10090</td>\n      <td>GAUAUGCUUUUU---GGUGUAGAUGGUGAACUGAGAAAAAAAAAUG...</td>\n    </tr>\n    <tr>\n      <th>24894</th>\n      <td>ENSMUST00000191565.1</td>\n      <td>ENSMUSG00000047528.8</td>\n      <td>Als2cr12</td>\n      <td>10090</td>\n      <td>GUA-ACUAACUGCUC-CUGGG-GCUG----AGC----GACACUGCC...</td>\n    </tr>\n    <tr>\n      <th>24895</th>\n      <td>ENSMUST00000191577.1</td>\n      <td>ENSMUSG00000042451.7</td>\n      <td>Mybph</td>\n      <td>10090</td>\n      <td>AGA-GCAACAGA------------GG------C--AGAGAC---UG...</td>\n    </tr>\n    <tr>\n      <th>24896</th>\n      <td>ENSMUST00000191598.1</td>\n      <td>ENSMUSG00000024038.11</td>\n      <td>Ndufv3</td>\n      <td>10090</td>\n      <td>ACUUC---UGAUGCUUUGCUCAGGAAGGGCAAAC-CC---------...</td>\n    </tr>\n    <tr>\n      <th>24897</th>\n      <td>ENSMUST00000191610.1</td>\n      <td>ENSMUSG00000061080.6</td>\n      <td>Lsamp</td>\n      <td>10090</td>\n      <td>AAGAUGCUGCUCCCU--------------------------GG-GA...</td>\n    </tr>\n  </tbody>\n</table>\n<p>24898 rows × 5 columns</p>\n</div>"
     },
     "execution_count": 7,
     "metadata": {},
     "output_type": "execute_result"
    }
   ],
   "source": [
    "# Confirm it has been exported correctly.\n",
    "data_mouse_read = pd.read_csv(\"UTR_sequences_mouse.txt\", sep=\"\\t\")\n",
    "data_mouse_read"
   ],
   "metadata": {
    "collapsed": false,
    "pycharm": {
     "name": "#%%\n"
    }
   }
  },
  {
   "cell_type": "code",
   "execution_count": null,
   "outputs": [],
   "source": [],
   "metadata": {
    "collapsed": false,
    "pycharm": {
     "name": "#%%\n"
    }
   }
  }
 ],
 "metadata": {
  "kernelspec": {
   "display_name": "Python 3",
   "language": "python",
   "name": "python3"
  },
  "language_info": {
   "codemirror_mode": {
    "name": "ipython",
    "version": 2
   },
   "file_extension": ".py",
   "mimetype": "text/x-python",
   "name": "python",
   "nbconvert_exporter": "python",
   "pygments_lexer": "ipython2",
   "version": "2.7.6"
  }
 },
 "nbformat": 4,
 "nbformat_minor": 0
}