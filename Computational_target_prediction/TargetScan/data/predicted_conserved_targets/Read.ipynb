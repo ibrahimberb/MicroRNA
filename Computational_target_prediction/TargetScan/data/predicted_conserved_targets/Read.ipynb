{
 "cells": [
  {
   "cell_type": "markdown",
   "source": [
    "# Genome coordinates of Predicted Conserved Targets (default predictions)\n",
    "\n",
    "Downloaded from [http://www.targetscan.org/cgi-bin/targetscan/data_download.mmu80.cgi](http://www.targetscan.org/cgi-bin/targetscan/data_download.mmu80.cgi)\n",
    "\n",
    "**Genome coordinates of Predicted Conserved Targets (default predictions) - (1.6 MB)**"
   ],
   "metadata": {
    "collapsed": false,
    "pycharm": {
     "name": "#%% md\n"
    }
   }
  },
  {
   "cell_type": "code",
   "execution_count": 1,
   "metadata": {
    "collapsed": true
   },
   "outputs": [],
   "source": [
    "import pandas as pd\n",
    "\n",
    "DATA_PATH = \"Predicted_Target_Locations.default_predictions.mm10.bed\""
   ]
  },
  {
   "cell_type": "code",
   "execution_count": 2,
   "outputs": [
    {
     "data": {
      "text/plain": "       chrom  chromStart  chromEnd                                       name  \\\n0       chr1     3214499   3214506                            Xkr4:miR-155-5p   \n1       chr1     3214511   3214518                          Xkr4:miR-330-3p.2   \n2       chr1     3214513   3214520                             Xkr4:miR-29-3p   \n3       chr1     3214882   3214889                            Xkr4:miR-182-5p   \n4       chr1     3214882   3214890                             Xkr4:miR-96-5p   \n...      ...         ...       ...                                        ...   \n103312  chrY     1261748   1261756                           Ddx3y:miR-382-3p   \n103313  chrY     1261867   1261874                            Ddx3y:miR-19-3p   \n103314  chrY     1261935   1261942                            Ddx3y:miR-29-3p   \n103315  chrY     1261997   1262004                         Ddx3y:miR-124-3p.1   \n103316  chrY     1262020   1262028  Ddx3y:miR-25-3p/32-5p/92-3p/363-3p/367-3p   \n\n        score strand  thickStart   thickEnd     itemRgb  blockCount  \\\n0        75.0      -   3214499.0  3214506.0  30,144,255         1.0   \n1        95.0      -   3214511.0  3214518.0     255,0,0         1.0   \n2        97.0      -   3214513.0  3214520.0     255,0,0         1.0   \n3        92.0      -   3214882.0  3214889.0  30,144,255         1.0   \n4        99.0      -   3214882.0  3214890.0   128,0,128         1.0   \n...       ...    ...         ...        ...         ...         ...   \n103312   82.0      -   1261748.0  1261756.0   128,0,128         1.0   \n103313   84.0      -   1261867.0  1261874.0  30,144,255         1.0   \n103314   90.0      -   1261935.0  1261942.0  30,144,255         1.0   \n103315   96.0      -   1261997.0  1262004.0     255,0,0         1.0   \n103316   97.0      -   1262020.0  1262028.0   128,0,128         1.0   \n\n       blockSizes blockStarts  \n0               7           0  \n1               7           0  \n2               7           0  \n3               7           0  \n4               8           0  \n...           ...         ...  \n103312          8           0  \n103313          7           0  \n103314          7           0  \n103315          7           0  \n103316          8           0  \n\n[103317 rows x 12 columns]",
      "text/html": "<div>\n<style scoped>\n    .dataframe tbody tr th:only-of-type {\n        vertical-align: middle;\n    }\n\n    .dataframe tbody tr th {\n        vertical-align: top;\n    }\n\n    .dataframe thead th {\n        text-align: right;\n    }\n</style>\n<table border=\"1\" class=\"dataframe\">\n  <thead>\n    <tr style=\"text-align: right;\">\n      <th></th>\n      <th>chrom</th>\n      <th>chromStart</th>\n      <th>chromEnd</th>\n      <th>name</th>\n      <th>score</th>\n      <th>strand</th>\n      <th>thickStart</th>\n      <th>thickEnd</th>\n      <th>itemRgb</th>\n      <th>blockCount</th>\n      <th>blockSizes</th>\n      <th>blockStarts</th>\n    </tr>\n  </thead>\n  <tbody>\n    <tr>\n      <th>0</th>\n      <td>chr1</td>\n      <td>3214499</td>\n      <td>3214506</td>\n      <td>Xkr4:miR-155-5p</td>\n      <td>75.0</td>\n      <td>-</td>\n      <td>3214499.0</td>\n      <td>3214506.0</td>\n      <td>30,144,255</td>\n      <td>1.0</td>\n      <td>7</td>\n      <td>0</td>\n    </tr>\n    <tr>\n      <th>1</th>\n      <td>chr1</td>\n      <td>3214511</td>\n      <td>3214518</td>\n      <td>Xkr4:miR-330-3p.2</td>\n      <td>95.0</td>\n      <td>-</td>\n      <td>3214511.0</td>\n      <td>3214518.0</td>\n      <td>255,0,0</td>\n      <td>1.0</td>\n      <td>7</td>\n      <td>0</td>\n    </tr>\n    <tr>\n      <th>2</th>\n      <td>chr1</td>\n      <td>3214513</td>\n      <td>3214520</td>\n      <td>Xkr4:miR-29-3p</td>\n      <td>97.0</td>\n      <td>-</td>\n      <td>3214513.0</td>\n      <td>3214520.0</td>\n      <td>255,0,0</td>\n      <td>1.0</td>\n      <td>7</td>\n      <td>0</td>\n    </tr>\n    <tr>\n      <th>3</th>\n      <td>chr1</td>\n      <td>3214882</td>\n      <td>3214889</td>\n      <td>Xkr4:miR-182-5p</td>\n      <td>92.0</td>\n      <td>-</td>\n      <td>3214882.0</td>\n      <td>3214889.0</td>\n      <td>30,144,255</td>\n      <td>1.0</td>\n      <td>7</td>\n      <td>0</td>\n    </tr>\n    <tr>\n      <th>4</th>\n      <td>chr1</td>\n      <td>3214882</td>\n      <td>3214890</td>\n      <td>Xkr4:miR-96-5p</td>\n      <td>99.0</td>\n      <td>-</td>\n      <td>3214882.0</td>\n      <td>3214890.0</td>\n      <td>128,0,128</td>\n      <td>1.0</td>\n      <td>8</td>\n      <td>0</td>\n    </tr>\n    <tr>\n      <th>...</th>\n      <td>...</td>\n      <td>...</td>\n      <td>...</td>\n      <td>...</td>\n      <td>...</td>\n      <td>...</td>\n      <td>...</td>\n      <td>...</td>\n      <td>...</td>\n      <td>...</td>\n      <td>...</td>\n      <td>...</td>\n    </tr>\n    <tr>\n      <th>103312</th>\n      <td>chrY</td>\n      <td>1261748</td>\n      <td>1261756</td>\n      <td>Ddx3y:miR-382-3p</td>\n      <td>82.0</td>\n      <td>-</td>\n      <td>1261748.0</td>\n      <td>1261756.0</td>\n      <td>128,0,128</td>\n      <td>1.0</td>\n      <td>8</td>\n      <td>0</td>\n    </tr>\n    <tr>\n      <th>103313</th>\n      <td>chrY</td>\n      <td>1261867</td>\n      <td>1261874</td>\n      <td>Ddx3y:miR-19-3p</td>\n      <td>84.0</td>\n      <td>-</td>\n      <td>1261867.0</td>\n      <td>1261874.0</td>\n      <td>30,144,255</td>\n      <td>1.0</td>\n      <td>7</td>\n      <td>0</td>\n    </tr>\n    <tr>\n      <th>103314</th>\n      <td>chrY</td>\n      <td>1261935</td>\n      <td>1261942</td>\n      <td>Ddx3y:miR-29-3p</td>\n      <td>90.0</td>\n      <td>-</td>\n      <td>1261935.0</td>\n      <td>1261942.0</td>\n      <td>30,144,255</td>\n      <td>1.0</td>\n      <td>7</td>\n      <td>0</td>\n    </tr>\n    <tr>\n      <th>103315</th>\n      <td>chrY</td>\n      <td>1261997</td>\n      <td>1262004</td>\n      <td>Ddx3y:miR-124-3p.1</td>\n      <td>96.0</td>\n      <td>-</td>\n      <td>1261997.0</td>\n      <td>1262004.0</td>\n      <td>255,0,0</td>\n      <td>1.0</td>\n      <td>7</td>\n      <td>0</td>\n    </tr>\n    <tr>\n      <th>103316</th>\n      <td>chrY</td>\n      <td>1262020</td>\n      <td>1262028</td>\n      <td>Ddx3y:miR-25-3p/32-5p/92-3p/363-3p/367-3p</td>\n      <td>97.0</td>\n      <td>-</td>\n      <td>1262020.0</td>\n      <td>1262028.0</td>\n      <td>128,0,128</td>\n      <td>1.0</td>\n      <td>8</td>\n      <td>0</td>\n    </tr>\n  </tbody>\n</table>\n<p>103317 rows × 12 columns</p>\n</div>"
     },
     "execution_count": 2,
     "metadata": {},
     "output_type": "execute_result"
    }
   ],
   "source": [
    "data = pd.read_csv(DATA_PATH, sep='\\t', comment='t', header=None)\n",
    "column_names = ['chrom', 'chromStart', 'chromEnd', 'name', 'score', 'strand', 'thickStart', 'thickEnd', 'itemRgb', 'blockCount', 'blockSizes', 'blockStarts']\n",
    "data.columns = column_names[:len(data.columns)]\n",
    "data"
   ],
   "metadata": {
    "collapsed": false,
    "pycharm": {
     "name": "#%%\n"
    }
   }
  },
  {
   "cell_type": "code",
   "execution_count": null,
   "outputs": [],
   "source": [],
   "metadata": {
    "collapsed": false,
    "pycharm": {
     "name": "#%%\n"
    }
   }
  },
  {
   "cell_type": "markdown",
   "source": [
    "Filter for **miR-223**"
   ],
   "metadata": {
    "collapsed": false,
    "pycharm": {
     "name": "#%% md\n"
    }
   }
  },
  {
   "cell_type": "code",
   "execution_count": 5,
   "outputs": [
    {
     "data": {
      "text/plain": "(303, 12)"
     },
     "execution_count": 5,
     "metadata": {},
     "output_type": "execute_result"
    }
   ],
   "source": [
    "data_miR_223 = data[\n",
    "    data[\"name\"].str.contains(\"miR-223\")\n",
    "].copy()\n",
    "data_miR_223.shape"
   ],
   "metadata": {
    "collapsed": false,
    "pycharm": {
     "name": "#%%\n"
    }
   }
  },
  {
   "cell_type": "code",
   "execution_count": 6,
   "outputs": [
    {
     "data": {
      "text/plain": "       chrom  chromStart   chromEnd                      name  score strand  \\\n58      chr1     6213365    6213373  4732440D04Rik:miR-223-3p   94.0      -   \n126     chr1     9667576    9667583          Mybl1:miR-223-3p   84.0      -   \n139     chr1     9668552    9668559          Mybl1:miR-223-3p   37.0      -   \n401     chr1    16131558   16131565          Rdh10:miR-223-3p   97.0      +   \n745     chr1    25068120   25068127           Bai3:miR-223-3p   84.0      -   \n...      ...         ...        ...                       ...    ...    ...   \n102335  chrX   137076842  137076849        Fam199x:miR-223-3p   87.0      +   \n102339  chrX   137078966  137078974        Fam199x:miR-223-3p   39.0      +   \n102580  chrX   143795829  143795837           Pak3:miR-223-3p   88.0      +   \n102733  chrX   151471547  151471554        Fam120c:miR-223-3p   77.0      +   \n103232  chrX   166385529  166385536          Gpm6b:miR-223-3p   84.0      +   \n\n         thickStart     thickEnd     itemRgb  blockCount blockSizes  \\\n58        6213365.0    6213373.0   128,0,128         1.0          8   \n126       9667576.0    9667583.0     255,0,0         1.0          7   \n139       9668552.0    9668559.0  30,144,255         1.0          7   \n401      16131558.0   16131565.0     255,0,0         1.0          7   \n745      25068120.0   25068127.0  30,144,255         1.0          7   \n...             ...          ...         ...         ...        ...   \n102335  137076842.0  137076849.0  30,144,255         1.0          7   \n102339  137078966.0  137078974.0   128,0,128         1.0          8   \n102580  143795829.0  143795837.0   128,0,128         1.0          8   \n102733  151471547.0  151471554.0     255,0,0         1.0          7   \n103232  166385529.0  166385536.0  30,144,255         1.0          7   \n\n       blockStarts  \n58               0  \n126              0  \n139              0  \n401              0  \n745              0  \n...            ...  \n102335           0  \n102339           0  \n102580           0  \n102733           0  \n103232           0  \n\n[303 rows x 12 columns]",
      "text/html": "<div>\n<style scoped>\n    .dataframe tbody tr th:only-of-type {\n        vertical-align: middle;\n    }\n\n    .dataframe tbody tr th {\n        vertical-align: top;\n    }\n\n    .dataframe thead th {\n        text-align: right;\n    }\n</style>\n<table border=\"1\" class=\"dataframe\">\n  <thead>\n    <tr style=\"text-align: right;\">\n      <th></th>\n      <th>chrom</th>\n      <th>chromStart</th>\n      <th>chromEnd</th>\n      <th>name</th>\n      <th>score</th>\n      <th>strand</th>\n      <th>thickStart</th>\n      <th>thickEnd</th>\n      <th>itemRgb</th>\n      <th>blockCount</th>\n      <th>blockSizes</th>\n      <th>blockStarts</th>\n    </tr>\n  </thead>\n  <tbody>\n    <tr>\n      <th>58</th>\n      <td>chr1</td>\n      <td>6213365</td>\n      <td>6213373</td>\n      <td>4732440D04Rik:miR-223-3p</td>\n      <td>94.0</td>\n      <td>-</td>\n      <td>6213365.0</td>\n      <td>6213373.0</td>\n      <td>128,0,128</td>\n      <td>1.0</td>\n      <td>8</td>\n      <td>0</td>\n    </tr>\n    <tr>\n      <th>126</th>\n      <td>chr1</td>\n      <td>9667576</td>\n      <td>9667583</td>\n      <td>Mybl1:miR-223-3p</td>\n      <td>84.0</td>\n      <td>-</td>\n      <td>9667576.0</td>\n      <td>9667583.0</td>\n      <td>255,0,0</td>\n      <td>1.0</td>\n      <td>7</td>\n      <td>0</td>\n    </tr>\n    <tr>\n      <th>139</th>\n      <td>chr1</td>\n      <td>9668552</td>\n      <td>9668559</td>\n      <td>Mybl1:miR-223-3p</td>\n      <td>37.0</td>\n      <td>-</td>\n      <td>9668552.0</td>\n      <td>9668559.0</td>\n      <td>30,144,255</td>\n      <td>1.0</td>\n      <td>7</td>\n      <td>0</td>\n    </tr>\n    <tr>\n      <th>401</th>\n      <td>chr1</td>\n      <td>16131558</td>\n      <td>16131565</td>\n      <td>Rdh10:miR-223-3p</td>\n      <td>97.0</td>\n      <td>+</td>\n      <td>16131558.0</td>\n      <td>16131565.0</td>\n      <td>255,0,0</td>\n      <td>1.0</td>\n      <td>7</td>\n      <td>0</td>\n    </tr>\n    <tr>\n      <th>745</th>\n      <td>chr1</td>\n      <td>25068120</td>\n      <td>25068127</td>\n      <td>Bai3:miR-223-3p</td>\n      <td>84.0</td>\n      <td>-</td>\n      <td>25068120.0</td>\n      <td>25068127.0</td>\n      <td>30,144,255</td>\n      <td>1.0</td>\n      <td>7</td>\n      <td>0</td>\n    </tr>\n    <tr>\n      <th>...</th>\n      <td>...</td>\n      <td>...</td>\n      <td>...</td>\n      <td>...</td>\n      <td>...</td>\n      <td>...</td>\n      <td>...</td>\n      <td>...</td>\n      <td>...</td>\n      <td>...</td>\n      <td>...</td>\n      <td>...</td>\n    </tr>\n    <tr>\n      <th>102335</th>\n      <td>chrX</td>\n      <td>137076842</td>\n      <td>137076849</td>\n      <td>Fam199x:miR-223-3p</td>\n      <td>87.0</td>\n      <td>+</td>\n      <td>137076842.0</td>\n      <td>137076849.0</td>\n      <td>30,144,255</td>\n      <td>1.0</td>\n      <td>7</td>\n      <td>0</td>\n    </tr>\n    <tr>\n      <th>102339</th>\n      <td>chrX</td>\n      <td>137078966</td>\n      <td>137078974</td>\n      <td>Fam199x:miR-223-3p</td>\n      <td>39.0</td>\n      <td>+</td>\n      <td>137078966.0</td>\n      <td>137078974.0</td>\n      <td>128,0,128</td>\n      <td>1.0</td>\n      <td>8</td>\n      <td>0</td>\n    </tr>\n    <tr>\n      <th>102580</th>\n      <td>chrX</td>\n      <td>143795829</td>\n      <td>143795837</td>\n      <td>Pak3:miR-223-3p</td>\n      <td>88.0</td>\n      <td>+</td>\n      <td>143795829.0</td>\n      <td>143795837.0</td>\n      <td>128,0,128</td>\n      <td>1.0</td>\n      <td>8</td>\n      <td>0</td>\n    </tr>\n    <tr>\n      <th>102733</th>\n      <td>chrX</td>\n      <td>151471547</td>\n      <td>151471554</td>\n      <td>Fam120c:miR-223-3p</td>\n      <td>77.0</td>\n      <td>+</td>\n      <td>151471547.0</td>\n      <td>151471554.0</td>\n      <td>255,0,0</td>\n      <td>1.0</td>\n      <td>7</td>\n      <td>0</td>\n    </tr>\n    <tr>\n      <th>103232</th>\n      <td>chrX</td>\n      <td>166385529</td>\n      <td>166385536</td>\n      <td>Gpm6b:miR-223-3p</td>\n      <td>84.0</td>\n      <td>+</td>\n      <td>166385529.0</td>\n      <td>166385536.0</td>\n      <td>30,144,255</td>\n      <td>1.0</td>\n      <td>7</td>\n      <td>0</td>\n    </tr>\n  </tbody>\n</table>\n<p>303 rows × 12 columns</p>\n</div>"
     },
     "execution_count": 6,
     "metadata": {},
     "output_type": "execute_result"
    }
   ],
   "source": [
    "data_miR_223"
   ],
   "metadata": {
    "collapsed": false,
    "pycharm": {
     "name": "#%%\n"
    }
   }
  },
  {
   "cell_type": "code",
   "execution_count": null,
   "outputs": [],
   "source": [],
   "metadata": {
    "collapsed": false,
    "pycharm": {
     "name": "#%%\n"
    }
   }
  },
  {
   "cell_type": "code",
   "execution_count": null,
   "outputs": [],
   "source": [],
   "metadata": {
    "collapsed": false,
    "pycharm": {
     "name": "#%%\n"
    }
   }
  },
  {
   "cell_type": "code",
   "execution_count": null,
   "outputs": [],
   "source": [],
   "metadata": {
    "collapsed": false,
    "pycharm": {
     "name": "#%%\n"
    }
   }
  },
  {
   "cell_type": "code",
   "execution_count": null,
   "outputs": [],
   "source": [],
   "metadata": {
    "collapsed": false,
    "pycharm": {
     "name": "#%%\n"
    }
   }
  },
  {
   "cell_type": "code",
   "execution_count": null,
   "outputs": [],
   "source": [],
   "metadata": {
    "collapsed": false,
    "pycharm": {
     "name": "#%%\n"
    }
   }
  }
 ],
 "metadata": {
  "kernelspec": {
   "display_name": "Python 3",
   "language": "python",
   "name": "python3"
  },
  "language_info": {
   "codemirror_mode": {
    "name": "ipython",
    "version": 2
   },
   "file_extension": ".py",
   "mimetype": "text/x-python",
   "name": "python",
   "nbconvert_exporter": "python",
   "pygments_lexer": "ipython2",
   "version": "2.7.6"
  }
 },
 "nbformat": 4,
 "nbformat_minor": 0
}