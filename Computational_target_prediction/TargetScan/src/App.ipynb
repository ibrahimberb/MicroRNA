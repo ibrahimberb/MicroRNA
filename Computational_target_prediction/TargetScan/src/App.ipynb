{
 "cells": [
  {
   "cell_type": "markdown",
   "source": [
    "# Mouse miR-223 Program"
   ],
   "metadata": {
    "collapsed": false
   }
  },
  {
   "cell_type": "code",
   "execution_count": 1,
   "outputs": [],
   "source": [
    "# Reflect changes in the modules immediately.\n",
    "\n",
    "# @formatter:off\n",
    "%load_ext autoreload\n",
    "%autoreload 2\n",
    "# @formatter:on"
   ],
   "metadata": {
    "collapsed": false,
    "pycharm": {
     "name": "#%%\n"
    }
   }
  },
  {
   "cell_type": "code",
   "execution_count": 2,
   "outputs": [],
   "source": [
    "import os\n",
    "import pandas as pd\n",
    "from helpers.utils import construct_table\n",
    "import glob\n",
    "\n",
    "UTR_SEQUENCE_MOUSE_DATA_PATH = \"../data/UTR_Sequences/UTR_sequences_mouse.txt\"\n",
    "PREDICTED_TARGET_INFO_MOUSE_DATA_PATH = \"../data/predicted_targets_info/Predicted_Targets_Info_Mouse_miR-223.txt\"\n",
    "PREDICTED_TARGET_REPRESENTATIVE_DATA_PATH = \"../data/predicted_targets/TargetScanMouse_8.0__miR-223-3p.predicted_targets.txt\""
   ],
   "metadata": {
    "collapsed": false,
    "pycharm": {
     "name": "#%%\n"
    }
   }
  },
  {
   "cell_type": "code",
   "execution_count": 3,
   "outputs": [
    {
     "data": {
      "text/plain": "['ENSMUST00000029535', 'ENSMUST00000067384', 'ENSMUST00000067077']"
     },
     "execution_count": 3,
     "metadata": {},
     "output_type": "execute_result"
    }
   ],
   "source": [
    "predicted_target_representative_mouse_data = pd.read_csv(PREDICTED_TARGET_REPRESENTATIVE_DATA_PATH, sep=\"\\t\")\n",
    "miR_223_representative_transcripts = predicted_target_representative_mouse_data[\"Representative transcript\"].tolist()\n",
    "miR_223_representative_transcripts = [transcript.split(\".\")[0] for transcript in miR_223_representative_transcripts]\n",
    "miR_223_representative_transcripts[:3]"
   ],
   "metadata": {
    "collapsed": false,
    "pycharm": {
     "name": "#%%\n"
    }
   }
  },
  {
   "cell_type": "code",
   "execution_count": 4,
   "outputs": [],
   "source": [
    "MOTIF_LIST = [\n",
    "    \"AUUUA\",\n",
    "    \"UAUUUAU\",\n",
    "]"
   ],
   "metadata": {
    "collapsed": false,
    "pycharm": {
     "name": "#%%\n"
    }
   }
  },
  {
   "cell_type": "code",
   "execution_count": 5,
   "outputs": [
    {
     "data": {
      "text/plain": "                  Refseq ID                Gene ID Gene Symbol  Species ID  \\\n0                    CDR1as                 CDR1as      CDR1as       10090   \n1      ENSMUST00000000001.4   ENSMUSG00000000001.4       Gnai3       10090   \n2      ENSMUST00000000003.8  ENSMUSG00000000003.10        Pbsn       10090   \n3      ENSMUST00000000010.8   ENSMUSG00000020875.9       Hoxb9       10090   \n4      ENSMUST00000000028.8   ENSMUSG00000000028.9       Cdc45       10090   \n...                     ...                    ...         ...         ...   \n24893  ENSMUST00000191553.1   ENSMUSG00000095606.2     Gm21258       10090   \n24894  ENSMUST00000191565.1   ENSMUSG00000047528.8    Als2cr12       10090   \n24895  ENSMUST00000191577.1   ENSMUSG00000042451.7       Mybph       10090   \n24896  ENSMUST00000191598.1  ENSMUSG00000024038.11      Ndufv3       10090   \n24897  ENSMUST00000191610.1   ENSMUSG00000061080.6       Lsamp       10090   \n\n                                            UTR sequence  \n0      UAUCUA-GGGUUUCCAGUGGUGCCAGUACCAAGGUCUUCCAACAUC...  \n1      GAGGAUG-GC---AU----------AG-U-----------A-AAAG...  \n2      UGACUCAACAAGAUCAGGAUUAGCAUUACAGAUGACAUCAGGAAUU...  \n3      AGA--UGACC------------------------------------...  \n4      GGAAUUC--AACUU-CU-CCAGAAGUGA------CCUCCUUUUCCU...  \n...                                                  ...  \n24893  GAUAUGCUUUUU---GGUGUAGAUGGUGAACUGAGAAAAAAAAAUG...  \n24894  GUA-ACUAACUGCUC-CUGGG-GCUG----AGC----GACACUGCC...  \n24895  AGA-GCAACAGA------------GG------C--AGAGAC---UG...  \n24896  ACUUC---UGAUGCUUUGCUCAGGAAGGGCAAAC-CC---------...  \n24897  AAGAUGCUGCUCCCU--------------------------GG-GA...  \n\n[24898 rows x 5 columns]",
      "text/html": "<div>\n<style scoped>\n    .dataframe tbody tr th:only-of-type {\n        vertical-align: middle;\n    }\n\n    .dataframe tbody tr th {\n        vertical-align: top;\n    }\n\n    .dataframe thead th {\n        text-align: right;\n    }\n</style>\n<table border=\"1\" class=\"dataframe\">\n  <thead>\n    <tr style=\"text-align: right;\">\n      <th></th>\n      <th>Refseq ID</th>\n      <th>Gene ID</th>\n      <th>Gene Symbol</th>\n      <th>Species ID</th>\n      <th>UTR sequence</th>\n    </tr>\n  </thead>\n  <tbody>\n    <tr>\n      <th>0</th>\n      <td>CDR1as</td>\n      <td>CDR1as</td>\n      <td>CDR1as</td>\n      <td>10090</td>\n      <td>UAUCUA-GGGUUUCCAGUGGUGCCAGUACCAAGGUCUUCCAACAUC...</td>\n    </tr>\n    <tr>\n      <th>1</th>\n      <td>ENSMUST00000000001.4</td>\n      <td>ENSMUSG00000000001.4</td>\n      <td>Gnai3</td>\n      <td>10090</td>\n      <td>GAGGAUG-GC---AU----------AG-U-----------A-AAAG...</td>\n    </tr>\n    <tr>\n      <th>2</th>\n      <td>ENSMUST00000000003.8</td>\n      <td>ENSMUSG00000000003.10</td>\n      <td>Pbsn</td>\n      <td>10090</td>\n      <td>UGACUCAACAAGAUCAGGAUUAGCAUUACAGAUGACAUCAGGAAUU...</td>\n    </tr>\n    <tr>\n      <th>3</th>\n      <td>ENSMUST00000000010.8</td>\n      <td>ENSMUSG00000020875.9</td>\n      <td>Hoxb9</td>\n      <td>10090</td>\n      <td>AGA--UGACC------------------------------------...</td>\n    </tr>\n    <tr>\n      <th>4</th>\n      <td>ENSMUST00000000028.8</td>\n      <td>ENSMUSG00000000028.9</td>\n      <td>Cdc45</td>\n      <td>10090</td>\n      <td>GGAAUUC--AACUU-CU-CCAGAAGUGA------CCUCCUUUUCCU...</td>\n    </tr>\n    <tr>\n      <th>...</th>\n      <td>...</td>\n      <td>...</td>\n      <td>...</td>\n      <td>...</td>\n      <td>...</td>\n    </tr>\n    <tr>\n      <th>24893</th>\n      <td>ENSMUST00000191553.1</td>\n      <td>ENSMUSG00000095606.2</td>\n      <td>Gm21258</td>\n      <td>10090</td>\n      <td>GAUAUGCUUUUU---GGUGUAGAUGGUGAACUGAGAAAAAAAAAUG...</td>\n    </tr>\n    <tr>\n      <th>24894</th>\n      <td>ENSMUST00000191565.1</td>\n      <td>ENSMUSG00000047528.8</td>\n      <td>Als2cr12</td>\n      <td>10090</td>\n      <td>GUA-ACUAACUGCUC-CUGGG-GCUG----AGC----GACACUGCC...</td>\n    </tr>\n    <tr>\n      <th>24895</th>\n      <td>ENSMUST00000191577.1</td>\n      <td>ENSMUSG00000042451.7</td>\n      <td>Mybph</td>\n      <td>10090</td>\n      <td>AGA-GCAACAGA------------GG------C--AGAGAC---UG...</td>\n    </tr>\n    <tr>\n      <th>24896</th>\n      <td>ENSMUST00000191598.1</td>\n      <td>ENSMUSG00000024038.11</td>\n      <td>Ndufv3</td>\n      <td>10090</td>\n      <td>ACUUC---UGAUGCUUUGCUCAGGAAGGGCAAAC-CC---------...</td>\n    </tr>\n    <tr>\n      <th>24897</th>\n      <td>ENSMUST00000191610.1</td>\n      <td>ENSMUSG00000061080.6</td>\n      <td>Lsamp</td>\n      <td>10090</td>\n      <td>AAGAUGCUGCUCCCU--------------------------GG-GA...</td>\n    </tr>\n  </tbody>\n</table>\n<p>24898 rows × 5 columns</p>\n</div>"
     },
     "execution_count": 5,
     "metadata": {},
     "output_type": "execute_result"
    }
   ],
   "source": [
    "UTR_seq_mouse_data = pd.read_csv(UTR_SEQUENCE_MOUSE_DATA_PATH, sep=\"\\t\")\n",
    "UTR_seq_mouse_data"
   ],
   "metadata": {
    "collapsed": false,
    "pycharm": {
     "name": "#%%\n"
    }
   }
  },
  {
   "cell_type": "code",
   "execution_count": 6,
   "outputs": [
    {
     "data": {
      "text/plain": "     miR Family               Gene ID    Gene Symbol         Transcript ID  \\\n0    miR-223-3p  ENSMUSG00000035401.8  2210018M11Rik  ENSMUST00000038359.4   \n1    miR-223-3p  ENSMUSG00000026319.8  2310035C23Rik  ENSMUST00000086721.4   \n2    miR-223-3p  ENSMUSG00000073741.1  4732440D04Rik  ENSMUST00000097832.1   \n3    miR-223-3p  ENSMUSG00000034959.7  5031414D18Rik  ENSMUST00000036072.7   \n4    miR-223-3p  ENSMUSG00000070690.4  5830473C10Rik  ENSMUST00000094615.4   \n..          ...                   ...            ...                   ...   \n339  miR-223-3p  ENSMUSG00000061410.6        Zcchc14  ENSMUST00000046386.4   \n340  miR-223-3p  ENSMUSG00000024238.8           Zeb1  ENSMUST00000025081.6   \n341  miR-223-3p  ENSMUSG00000024750.5         Zfand5  ENSMUST00000025659.5   \n342  miR-223-3p  ENSMUSG00000038872.9          Zfhx3  ENSMUST00000043896.9   \n343  miR-223-3p  ENSMUSG00000079509.5            Zfx  ENSMUST00000088102.6   \n\n     Species ID  UTR start  UTR end  MSA start  MSA end Seed match   PCT  \n0         10090       1181     1187       2140     2151    7mer-1a  0.45  \n1         10090        484      490        715      723    7mer-m8  0.32  \n2         10090       1239     1246       2372     2379       8mer  0.09  \n3         10090        335      342        822      829       8mer  0.48  \n4         10090       2749     2756       3767     3774       8mer  0.00  \n..          ...        ...      ...        ...      ...        ...   ...  \n339       10090       1680     1687       2860     2871       8mer  0.49  \n340       10090       1245     1251       1936     1944    7mer-1a  0.44  \n341       10090      17515    17521      21933    21939    7mer-1a  0.42  \n342       10090        884      890       1587     1593    7mer-m8  0.46  \n343       10090       2395     2401       3875     3881    7mer-1a  0.40  \n\n[344 rows x 11 columns]",
      "text/html": "<div>\n<style scoped>\n    .dataframe tbody tr th:only-of-type {\n        vertical-align: middle;\n    }\n\n    .dataframe tbody tr th {\n        vertical-align: top;\n    }\n\n    .dataframe thead th {\n        text-align: right;\n    }\n</style>\n<table border=\"1\" class=\"dataframe\">\n  <thead>\n    <tr style=\"text-align: right;\">\n      <th></th>\n      <th>miR Family</th>\n      <th>Gene ID</th>\n      <th>Gene Symbol</th>\n      <th>Transcript ID</th>\n      <th>Species ID</th>\n      <th>UTR start</th>\n      <th>UTR end</th>\n      <th>MSA start</th>\n      <th>MSA end</th>\n      <th>Seed match</th>\n      <th>PCT</th>\n    </tr>\n  </thead>\n  <tbody>\n    <tr>\n      <th>0</th>\n      <td>miR-223-3p</td>\n      <td>ENSMUSG00000035401.8</td>\n      <td>2210018M11Rik</td>\n      <td>ENSMUST00000038359.4</td>\n      <td>10090</td>\n      <td>1181</td>\n      <td>1187</td>\n      <td>2140</td>\n      <td>2151</td>\n      <td>7mer-1a</td>\n      <td>0.45</td>\n    </tr>\n    <tr>\n      <th>1</th>\n      <td>miR-223-3p</td>\n      <td>ENSMUSG00000026319.8</td>\n      <td>2310035C23Rik</td>\n      <td>ENSMUST00000086721.4</td>\n      <td>10090</td>\n      <td>484</td>\n      <td>490</td>\n      <td>715</td>\n      <td>723</td>\n      <td>7mer-m8</td>\n      <td>0.32</td>\n    </tr>\n    <tr>\n      <th>2</th>\n      <td>miR-223-3p</td>\n      <td>ENSMUSG00000073741.1</td>\n      <td>4732440D04Rik</td>\n      <td>ENSMUST00000097832.1</td>\n      <td>10090</td>\n      <td>1239</td>\n      <td>1246</td>\n      <td>2372</td>\n      <td>2379</td>\n      <td>8mer</td>\n      <td>0.09</td>\n    </tr>\n    <tr>\n      <th>3</th>\n      <td>miR-223-3p</td>\n      <td>ENSMUSG00000034959.7</td>\n      <td>5031414D18Rik</td>\n      <td>ENSMUST00000036072.7</td>\n      <td>10090</td>\n      <td>335</td>\n      <td>342</td>\n      <td>822</td>\n      <td>829</td>\n      <td>8mer</td>\n      <td>0.48</td>\n    </tr>\n    <tr>\n      <th>4</th>\n      <td>miR-223-3p</td>\n      <td>ENSMUSG00000070690.4</td>\n      <td>5830473C10Rik</td>\n      <td>ENSMUST00000094615.4</td>\n      <td>10090</td>\n      <td>2749</td>\n      <td>2756</td>\n      <td>3767</td>\n      <td>3774</td>\n      <td>8mer</td>\n      <td>0.00</td>\n    </tr>\n    <tr>\n      <th>...</th>\n      <td>...</td>\n      <td>...</td>\n      <td>...</td>\n      <td>...</td>\n      <td>...</td>\n      <td>...</td>\n      <td>...</td>\n      <td>...</td>\n      <td>...</td>\n      <td>...</td>\n      <td>...</td>\n    </tr>\n    <tr>\n      <th>339</th>\n      <td>miR-223-3p</td>\n      <td>ENSMUSG00000061410.6</td>\n      <td>Zcchc14</td>\n      <td>ENSMUST00000046386.4</td>\n      <td>10090</td>\n      <td>1680</td>\n      <td>1687</td>\n      <td>2860</td>\n      <td>2871</td>\n      <td>8mer</td>\n      <td>0.49</td>\n    </tr>\n    <tr>\n      <th>340</th>\n      <td>miR-223-3p</td>\n      <td>ENSMUSG00000024238.8</td>\n      <td>Zeb1</td>\n      <td>ENSMUST00000025081.6</td>\n      <td>10090</td>\n      <td>1245</td>\n      <td>1251</td>\n      <td>1936</td>\n      <td>1944</td>\n      <td>7mer-1a</td>\n      <td>0.44</td>\n    </tr>\n    <tr>\n      <th>341</th>\n      <td>miR-223-3p</td>\n      <td>ENSMUSG00000024750.5</td>\n      <td>Zfand5</td>\n      <td>ENSMUST00000025659.5</td>\n      <td>10090</td>\n      <td>17515</td>\n      <td>17521</td>\n      <td>21933</td>\n      <td>21939</td>\n      <td>7mer-1a</td>\n      <td>0.42</td>\n    </tr>\n    <tr>\n      <th>342</th>\n      <td>miR-223-3p</td>\n      <td>ENSMUSG00000038872.9</td>\n      <td>Zfhx3</td>\n      <td>ENSMUST00000043896.9</td>\n      <td>10090</td>\n      <td>884</td>\n      <td>890</td>\n      <td>1587</td>\n      <td>1593</td>\n      <td>7mer-m8</td>\n      <td>0.46</td>\n    </tr>\n    <tr>\n      <th>343</th>\n      <td>miR-223-3p</td>\n      <td>ENSMUSG00000079509.5</td>\n      <td>Zfx</td>\n      <td>ENSMUST00000088102.6</td>\n      <td>10090</td>\n      <td>2395</td>\n      <td>2401</td>\n      <td>3875</td>\n      <td>3881</td>\n      <td>7mer-1a</td>\n      <td>0.40</td>\n    </tr>\n  </tbody>\n</table>\n<p>344 rows × 11 columns</p>\n</div>"
     },
     "execution_count": 6,
     "metadata": {},
     "output_type": "execute_result"
    }
   ],
   "source": [
    "predicted_target_info_mouse_data = pd.read_csv(PREDICTED_TARGET_INFO_MOUSE_DATA_PATH, sep=\"\\t\")\n",
    "predicted_target_info_mouse_data"
   ],
   "metadata": {
    "collapsed": false,
    "pycharm": {
     "name": "#%%\n"
    }
   }
  },
  {
   "cell_type": "code",
   "execution_count": 6,
   "outputs": [],
   "source": [],
   "metadata": {
    "collapsed": false,
    "pycharm": {
     "name": "#%%\n"
    }
   }
  },
  {
   "cell_type": "markdown",
   "source": [
    "# App"
   ],
   "metadata": {
    "collapsed": false
   }
  },
  {
   "cell_type": "code",
   "execution_count": 7,
   "outputs": [
    {
     "data": {
      "text/plain": "{'ENSMUSG00000035401': '2210018M11Rik',\n 'ENSMUSG00000026319': '2310035C23Rik',\n 'ENSMUSG00000073741': '4732440D04Rik',\n 'ENSMUSG00000034959': '5031414D18Rik',\n 'ENSMUSG00000070690': '5830473C10Rik',\n 'ENSMUSG00000040396': 'Abhd13',\n 'ENSMUSG00000028405': 'Aco1',\n 'ENSMUSG00000032883': 'Acsl3',\n 'ENSMUSG00000025228': 'Actr1a',\n 'ENSMUSG00000052155': 'Acvr2a',\n 'ENSMUSG00000053399': 'Adamts18',\n 'ENSMUSG00000031659': 'Adcy7',\n 'ENSMUSG00000030232': 'Aebp2',\n 'ENSMUSG00000050103': 'Agmo',\n 'ENSMUSG00000028842': 'Ago3',\n 'ENSMUSG00000022636': 'Alcam',\n 'ENSMUSG00000055204': 'Ankrd17',\n 'ENSMUSG00000020864': 'Ankrd40',\n 'ENSMUSG00000058589': 'Anks1b',\n 'ENSMUSG00000025525': 'Apool',\n 'ENSMUSG00000074513': 'Arfip1',\n 'ENSMUSG00000035133': 'Arhgap5',\n 'ENSMUSG00000007880': 'Arid1a',\n 'ENSMUSG00000027599': 'Armc1',\n 'ENSMUSG00000033460': 'Armcx1',\n 'ENSMUSG00000007656': 'Arpp19',\n 'ENSMUSG00000000325': 'Arvcf',\n 'ENSMUSG00000026576': 'Atp1b1',\n 'ENSMUSG00000019943': 'Atp2b1',\n 'ENSMUSG00000054894': 'Atp5s',\n 'ENSMUSG00000033792': 'Atp7a',\n 'ENSMUSG00000046876': 'Atxn1',\n 'ENSMUSG00000016541': 'Atxn10',\n 'ENSMUSG00000033569': 'Bai3',\n 'ENSMUSG00000035021': 'Baz1a',\n 'ENSMUSG00000025484': 'Bet1l',\n 'ENSMUSG00000035131': 'Brinp3',\n 'ENSMUSG00000063952': 'Brpf3',\n 'ENSMUSG00000025103': 'Btbd1',\n 'ENSMUSG00000028222': 'Calb1',\n 'ENSMUSG00000032246': 'Calml4',\n 'ENSMUSG00000032185': 'Carm1',\n 'ENSMUSG00000027861': 'Casq2',\n 'ENSMUSG00000031885': 'Cbfb',\n 'ENSMUSG00000009575': 'Cbx5',\n 'ENSMUSG00000002068': 'Ccne1',\n 'ENSMUSG00000026349': 'Ccnt2',\n 'ENSMUSG00000061665': 'Cd2ap',\n 'ENSMUSG00000040452': 'Cdh12',\n 'ENSMUSG00000020015': 'Cdk17',\n 'ENSMUSG00000059288': 'Cdyl',\n 'ENSMUSG00000005506': 'Celf1',\n 'ENSMUSG00000002107': 'Celf2',\n 'ENSMUSG00000068101': 'Cenpm',\n 'ENSMUSG00000044066': 'Cep68',\n 'ENSMUSG00000027035': 'Cers6',\n 'ENSMUSG00000041216': 'Clvs1',\n 'ENSMUSG00000036810': 'Cnep1r1',\n 'ENSMUSG00000020166': 'Cnot2',\n 'ENSMUSG00000027206': 'Cops2',\n 'ENSMUSG00000039652': 'Cpeb3',\n 'ENSMUSG00000032564': 'Cpne4',\n 'ENSMUSG00000051451': 'Crebzf',\n 'ENSMUSG00000024074': 'Crim1',\n 'ENSMUSG00000032384': 'Csnk1g1',\n 'ENSMUSG00000021477': 'Ctsl',\n 'ENSMUSG00000029705': 'Cux1',\n 'ENSMUSG00000028621': 'Cyb5rl',\n 'ENSMUSG00000019929': 'Dcn',\n 'ENSMUSG00000030313': 'Dennd5b',\n 'ENSMUSG00000040818': 'Dennd6a',\n 'ENSMUSG00000030225': 'Dera',\n 'ENSMUSG00000022365': 'Derl1',\n 'ENSMUSG00000003279': 'Dlgap1',\n 'ENSMUSG00000048138': 'Dmrt2',\n 'ENSMUSG00000028410': 'Dnaja1',\n 'ENSMUSG00000021221': 'Dpf3',\n 'ENSMUSG00000027368': 'Dusp2',\n 'ENSMUSG00000010476': 'Ebf3',\n 'ENSMUSG00000038957': 'Edc3',\n 'ENSMUSG00000027954': 'Efna1',\n 'ENSMUSG00000024841': 'Eif1ad',\n 'ENSMUSG00000026083': 'Eif5b',\n 'ENSMUSG00000009406': 'Elk1',\n 'ENSMUSG00000027167': 'Elp4',\n 'ENSMUSG00000035104': 'Eva1a',\n 'ENSMUSG00000028128': 'F3',\n 'ENSMUSG00000033579': 'Fa2h',\n 'ENSMUSG00000025262': 'Fam120c',\n 'ENSMUSG00000029461': 'Fam168a',\n 'ENSMUSG00000042595': 'Fam199x',\n 'ENSMUSG00000032265': 'Fam46a',\n 'ENSMUSG00000073007': 'Fam46d',\n 'ENSMUSG00000031879': 'Fam96b',\n 'ENSMUSG00000070047': 'Fat1',\n 'ENSMUSG00000038365': 'Fbxo25',\n 'ENSMUSG00000050428': 'Fbxo46',\n 'ENSMUSG00000038206': 'Fbxo8',\n 'ENSMUSG00000028086': 'Fbxw7',\n 'ENSMUSG00000000183': 'Fgf6',\n 'ENSMUSG00000030849': 'Fgfr2',\n 'ENSMUSG00000095440': 'Fignl2',\n 'ENSMUSG00000047787': 'Flrt1',\n 'ENSMUSG00000039735': 'Fnbp1l',\n 'ENSMUSG00000048756': 'Foxo3',\n 'ENSMUSG00000030067': 'Foxp1',\n 'ENSMUSG00000019779': 'Frk',\n 'ENSMUSG00000026657': 'Frmd4a',\n 'ENSMUSG00000026843': 'Fubp3',\n 'ENSMUSG00000009633': 'G0s2',\n 'ENSMUSG00000018583': 'G3bp1',\n 'ENSMUSG00000070717': 'Gm10300',\n 'ENSMUSG00000052673': 'Gm9887',\n 'ENSMUSG00000054178': 'Gm9938',\n 'ENSMUSG00000000253': 'Gmpr',\n 'ENSMUSG00000020611': 'Gna13',\n 'ENSMUSG00000026754': 'Golga1',\n 'ENSMUSG00000031342': 'Gpm6b',\n 'ENSMUSG00000039116': 'Gpr126',\n 'ENSMUSG00000041762': 'Gpr155',\n 'ENSMUSG00000044067': 'Gpr22',\n 'ENSMUSG00000091735': 'Gpr62',\n 'ENSMUSG00000021033': 'Gstz1',\n 'ENSMUSG00000022668': 'Gtpbp8',\n 'ENSMUSG00000024986': 'Hhex',\n 'ENSMUSG00000061436': 'Hipk2',\n 'ENSMUSG00000049539': 'Hist1h1a',\n 'ENSMUSG00000003949': 'Hlf',\n 'ENSMUSG00000051022': 'Hs3st1',\n 'ENSMUSG00000020048': 'Hsp90b1',\n 'ENSMUSG00000090877': 'Hspa1b',\n 'ENSMUSG00000005533': 'Igf1r',\n 'ENSMUSG00000038544': 'Inip',\n 'ENSMUSG00000026113': 'Inpp4a',\n 'ENSMUSG00000028894': 'Inpp5b',\n 'ENSMUSG00000025809': 'Itgb1',\n 'ENSMUSG00000021690': 'Jmy',\n 'ENSMUSG00000031540': 'Kat6a',\n 'ENSMUSG00000009545': 'Kcnq1',\n 'ENSMUSG00000038080': 'Kdm1b',\n 'ENSMUSG00000041642': 'Kif21b',\n 'ENSMUSG00000038056': 'Kmt2c',\n 'ENSMUSG00000021929': 'Kpna3',\n 'ENSMUSG00000025019': 'Lcor',\n 'ENSMUSG00000027927': 'Lelp1',\n 'ENSMUSG00000034394': 'Lif',\n 'ENSMUSG00000022802': 'Lmln',\n 'ENSMUSG00000032698': 'Lmo2',\n 'ENSMUSG00000055435': 'Maf',\n 'ENSMUSG00000074622': 'Mafb',\n 'ENSMUSG00000059401': 'Mamld1',\n 'ENSMUSG00000052727': 'Map1b',\n 'ENSMUSG00000020623': 'Map2k6',\n 'ENSMUSG00000032479': 'Map4',\n 'ENSMUSG00000032656': 'March3',\n 'ENSMUSG00000027763': 'Mbnl1',\n 'ENSMUSG00000020646': 'Mboat2',\n 'ENSMUSG00000048170': 'Mcmbp',\n 'ENSMUSG00000005583': 'Mef2c',\n 'ENSMUSG00000033943': 'Mga',\n 'ENSMUSG00000025609': 'Mkln1',\n 'ENSMUSG00000028226': 'Mmp16',\n 'ENSMUSG00000034602': 'Mon2',\n 'ENSMUSG00000035559': 'Mpv17l2',\n 'ENSMUSG00000056569': 'Mpz',\n 'ENSMUSG00000069769': 'Msi2',\n 'ENSMUSG00000029840': 'Mtpn',\n 'ENSMUSG00000025912': 'Mybl1',\n 'ENSMUSG00000020900': 'Myh10',\n 'ENSMUSG00000025885': 'Myo5b',\n 'ENSMUSG00000036282': 'Naa30',\n 'ENSMUSG00000022698': 'Naa50',\n 'ENSMUSG00000044968': 'Napepld',\n 'ENSMUSG00000049001': 'Ndnf',\n 'ENSMUSG00000020396': 'Nefh',\n 'ENSMUSG00000029111': 'Nelfa',\n 'ENSMUSG00000050321': 'Neto1',\n 'ENSMUSG00000003847': 'Nfat5',\n 'ENSMUSG00000028565': 'Nfia',\n 'ENSMUSG00000008575': 'Nfib',\n 'ENSMUSG00000032691': 'Nlrp3',\n 'ENSMUSG00000026833': 'Olfm1',\n 'ENSMUSG00000026761': 'Orc4',\n 'ENSMUSG00000036990': 'Otud4',\n 'ENSMUSG00000027508': 'Pag1',\n 'ENSMUSG00000031284': 'Pak3',\n 'ENSMUSG00000020273': 'Papolg',\n 'ENSMUSG00000021699': 'Pde4d',\n 'ENSMUSG00000034021': 'Pds5b',\n 'ENSMUSG00000074746': 'Pdzd8',\n 'ENSMUSG00000066043': 'Phactr4',\n 'ENSMUSG00000072501': 'Phf20l1',\n 'ENSMUSG00000032253': 'Phip',\n 'ENSMUSG00000044340': 'Phlpp1',\n 'ENSMUSG00000030660': 'Pik3c2a',\n 'ENSMUSG00000004591': 'Pkn2',\n 'ENSMUSG00000006705': 'Pknox1',\n 'ENSMUSG00000026991': 'Pkp4',\n 'ENSMUSG00000051413': 'Plagl2',\n 'ENSMUSG00000024998': 'Plce1',\n 'ENSMUSG00000060716': 'Plekhh1',\n 'ENSMUSG00000030880': 'Polr3e',\n 'ENSMUSG00000099515': 'POU2F1',\n 'ENSMUSG00000026565': 'Pou2f1',\n 'ENSMUSG00000073557': 'Ppp1r12b',\n 'ENSMUSG00000042717': 'Ppp1r3a',\n 'ENSMUSG00000043154': 'Ppp2r3a',\n 'ENSMUSG00000038151': 'Prdm1',\n 'ENSMUSG00000005161': 'Prdx2',\n 'ENSMUSG00000063800': 'Prpf38a',\n 'ENSMUSG00000035597': 'Prpf39',\n 'ENSMUSG00000028134': 'Ptbp2',\n 'ENSMUSG00000043991': 'Pura',\n 'ENSMUSG00000094483': 'Purb',\n 'ENSMUSG00000027519': 'Rab22a',\n 'ENSMUSG00000036943': 'Rab8b',\n 'ENSMUSG00000020817': 'Rabep1',\n 'ENSMUSG00000035437': 'Rabgap1',\n 'ENSMUSG00000026594': 'Ralgps2',\n 'ENSMUSG00000051615': 'Rap2a',\n 'ENSMUSG00000021549': 'Rasa1',\n 'ENSMUSG00000043639': 'Rbm20',\n 'ENSMUSG00000040423': 'Rc3h1',\n 'ENSMUSG00000032320': 'Rcn2',\n 'ENSMUSG00000025921': 'Rdh10',\n 'ENSMUSG00000054364': 'Rhob',\n 'ENSMUSG00000019189': 'Rnf145',\n 'ENSMUSG00000029474': 'Rnf34',\n 'ENSMUSG00000027981': 'Rnpc3',\n 'ENSMUSG00000036192': 'Rorb',\n 'ENSMUSG00000027651': 'Rprd1b',\n 'ENSMUSG00000020516': 'Rps6kb1',\n 'ENSMUSG00000055723': 'Rras2',\n 'ENSMUSG00000048279': 'Sacs',\n 'ENSMUSG00000046201': 'Scaf8',\n 'ENSMUSG00000064329': 'Scn1a',\n 'ENSMUSG00000075318': 'Scn2a1',\n 'ENSMUSG00000057182': 'Scn3a',\n 'ENSMUSG00000058013': 'Sept11',\n 'ENSMUSG00000050379': 'Sept6',\n 'ENSMUSG00000018398': 'Sept8',\n 'ENSMUSG00000040848': 'Sft2d2',\n 'ENSMUSG00000050931': 'Sgms2',\n 'ENSMUSG00000040711': 'Sh3pxd2b',\n 'ENSMUSG00000036840': 'Siah1a',\n 'ENSMUSG00000036087': 'Slain2',\n 'ENSMUSG00000027340': 'Slc23a2',\n 'ENSMUSG00000037996': 'Slc24a2',\n 'ENSMUSG00000040569': 'Slc26a7',\n 'ENSMUSG00000038602': 'Slc35f1',\n 'ENSMUSG00000029924': 'Slc37a3',\n 'ENSMUSG00000053897': 'Slc39a8',\n 'ENSMUSG00000060961': 'Slc4a4',\n 'ENSMUSG00000054640': 'Slc8a1',\n 'ENSMUSG00000041698': 'Slco1a1',\n 'ENSMUSG00000023018': 'Smarcd1',\n 'ENSMUSG00000096546': 'Smlr1',\n 'ENSMUSG00000021136': 'Smoc1',\n 'ENSMUSG00000018363': 'Smurf2',\n 'ENSMUSG00000022676': 'Snai2',\n 'ENSMUSG00000046032': 'Snx12',\n 'ENSMUSG00000063632': 'Sox11',\n 'ENSMUSG00000051910': 'Sox6',\n 'ENSMUSG00000027109': 'Sp3',\n 'ENSMUSG00000021990': 'Spata13',\n 'ENSMUSG00000027351': 'Spred1',\n 'ENSMUSG00000032621': 'Srek1',\n 'ENSMUSG00000030257': 'Srgap3',\n 'ENSMUSG00000014504': 'Srp19',\n 'ENSMUSG00000062604': 'Srpk2',\n 'ENSMUSG00000037013': 'Ss18',\n 'ENSMUSG00000022747': 'St3gal6',\n 'ENSMUSG00000026718': 'Stam',\n 'ENSMUSG00000027030': 'Stk39',\n 'ENSMUSG00000053205': 'Styx',\n 'ENSMUSG00000032423': 'Syncrip',\n 'ENSMUSG00000018263': 'Tbx5',\n 'ENSMUSG00000024498': 'Tcerg1',\n 'ENSMUSG00000034832': 'Tet3',\n 'ENSMUSG00000029287': 'Tgfbr3',\n 'ENSMUSG00000038540': 'Tmc3',\n 'ENSMUSG00000031953': 'Tmem170',\n 'ENSMUSG00000048022': 'Tmem229a',\n 'ENSMUSG00000025666': 'Tmem47',\n 'ENSMUSG00000043252': 'Tmem64',\n 'ENSMUSG00000054537': 'Tmprss11e',\n 'ENSMUSG00000060548': 'Tnfrsf19',\n 'ENSMUSG00000050395': 'Tnfsf15',\n 'ENSMUSG00000040086': 'Tnni3k',\n 'ENSMUSG00000047888': 'Tnrc6b',\n 'ENSMUSG00000071068': 'Treml2',\n 'ENSMUSG00000036989': 'Trim3',\n 'ENSMUSG00000034442': 'Trmt5',\n 'ENSMUSG00000038260': 'Trpm4',\n 'ENSMUSG00000018507': 'Trpv2',\n 'ENSMUSG00000021217': 'Tshz3',\n 'ENSMUSG00000058254': 'Tspan7',\n 'ENSMUSG00000042734': 'Ttc9',\n 'ENSMUSG00000016308': 'Ube2a',\n 'ENSMUSG00000032307': 'Ube2q2',\n 'ENSMUSG00000026667': 'Uhmk1',\n 'ENSMUSG00000004798': 'Ulk2',\n 'ENSMUSG00000005882': 'Uqcc1',\n 'ENSMUSG00000005501': 'Usp40',\n 'ENSMUSG00000039046': 'Usp6nl',\n 'ENSMUSG00000020894': 'Vamp2',\n 'ENSMUSG00000018171': 'Vmp1',\n 'ENSMUSG00000024983': 'Vti1a',\n 'ENSMUSG00000029684': 'Wasl',\n 'ENSMUSG00000047731': 'Wbp1l',\n 'ENSMUSG00000038733': 'Wdr26',\n 'ENSMUSG00000037020': 'Wdr62',\n 'ENSMUSG00000027803': 'Wwtr1',\n 'ENSMUSG00000060509': 'Xcr1',\n 'ENSMUSG00000021952': 'Xpo4',\n 'ENSMUSG00000022773': 'Ypel1',\n 'ENSMUSG00000069114': 'Zbtb10',\n 'ENSMUSG00000063659': 'Zbtb18',\n 'ENSMUSG00000079605': 'Zbtb9',\n 'ENSMUSG00000021012': 'Zc3h14',\n 'ENSMUSG00000061410': 'Zcchc14',\n 'ENSMUSG00000024238': 'Zeb1',\n 'ENSMUSG00000024750': 'Zfand5',\n 'ENSMUSG00000038872': 'Zfhx3',\n 'ENSMUSG00000079509': 'Zfx'}"
     },
     "execution_count": 7,
     "metadata": {},
     "output_type": "execute_result"
    }
   ],
   "source": [
    "mapping_data = predicted_target_info_mouse_data.copy()\n",
    "mapping_data[\"Gene ID\"] = mapping_data[\"Gene ID\"].apply(lambda x: x.split(\".\")[0])\n",
    "ENSMUSG_to_gene_symbol = mapping_data.set_index(\"Gene ID\").to_dict()[\"Gene Symbol\"]\n",
    "ENSMUSG_to_gene_symbol"
   ],
   "metadata": {
    "collapsed": false,
    "pycharm": {
     "name": "#%%\n"
    }
   }
  },
  {
   "cell_type": "code",
   "execution_count": 8,
   "outputs": [
    {
     "data": {
      "text/plain": "'Cpeb3'"
     },
     "execution_count": 8,
     "metadata": {},
     "output_type": "execute_result"
    }
   ],
   "source": [
    "ENSMUSG_to_gene_symbol[\"ENSMUSG00000039652\"]"
   ],
   "metadata": {
    "collapsed": false,
    "pycharm": {
     "name": "#%%\n"
    }
   }
  },
  {
   "cell_type": "code",
   "execution_count": 9,
   "outputs": [
    {
     "data": {
      "text/plain": "     miR Family               Gene ID    Gene Symbol         Transcript ID  \\\n0    miR-223-3p  ENSMUSG00000035401.8  2210018M11Rik  ENSMUST00000038359.4   \n1    miR-223-3p  ENSMUSG00000026319.8  2310035C23Rik  ENSMUST00000086721.4   \n2    miR-223-3p  ENSMUSG00000073741.1  4732440D04Rik  ENSMUST00000097832.1   \n3    miR-223-3p  ENSMUSG00000034959.7  5031414D18Rik  ENSMUST00000036072.7   \n4    miR-223-3p  ENSMUSG00000070690.4  5830473C10Rik  ENSMUST00000094615.4   \n..          ...                   ...            ...                   ...   \n339  miR-223-3p  ENSMUSG00000061410.6        Zcchc14  ENSMUST00000046386.4   \n340  miR-223-3p  ENSMUSG00000024238.8           Zeb1  ENSMUST00000025081.6   \n341  miR-223-3p  ENSMUSG00000024750.5         Zfand5  ENSMUST00000025659.5   \n342  miR-223-3p  ENSMUSG00000038872.9          Zfhx3  ENSMUST00000043896.9   \n343  miR-223-3p  ENSMUSG00000079509.5            Zfx  ENSMUST00000088102.6   \n\n     Species ID  UTR start  UTR end  MSA start  MSA end Seed match   PCT  \n0         10090       1181     1187       2140     2151    7mer-1a  0.45  \n1         10090        484      490        715      723    7mer-m8  0.32  \n2         10090       1239     1246       2372     2379       8mer  0.09  \n3         10090        335      342        822      829       8mer  0.48  \n4         10090       2749     2756       3767     3774       8mer  0.00  \n..          ...        ...      ...        ...      ...        ...   ...  \n339       10090       1680     1687       2860     2871       8mer  0.49  \n340       10090       1245     1251       1936     1944    7mer-1a  0.44  \n341       10090      17515    17521      21933    21939    7mer-1a  0.42  \n342       10090        884      890       1587     1593    7mer-m8  0.46  \n343       10090       2395     2401       3875     3881    7mer-1a  0.40  \n\n[344 rows x 11 columns]",
      "text/html": "<div>\n<style scoped>\n    .dataframe tbody tr th:only-of-type {\n        vertical-align: middle;\n    }\n\n    .dataframe tbody tr th {\n        vertical-align: top;\n    }\n\n    .dataframe thead th {\n        text-align: right;\n    }\n</style>\n<table border=\"1\" class=\"dataframe\">\n  <thead>\n    <tr style=\"text-align: right;\">\n      <th></th>\n      <th>miR Family</th>\n      <th>Gene ID</th>\n      <th>Gene Symbol</th>\n      <th>Transcript ID</th>\n      <th>Species ID</th>\n      <th>UTR start</th>\n      <th>UTR end</th>\n      <th>MSA start</th>\n      <th>MSA end</th>\n      <th>Seed match</th>\n      <th>PCT</th>\n    </tr>\n  </thead>\n  <tbody>\n    <tr>\n      <th>0</th>\n      <td>miR-223-3p</td>\n      <td>ENSMUSG00000035401.8</td>\n      <td>2210018M11Rik</td>\n      <td>ENSMUST00000038359.4</td>\n      <td>10090</td>\n      <td>1181</td>\n      <td>1187</td>\n      <td>2140</td>\n      <td>2151</td>\n      <td>7mer-1a</td>\n      <td>0.45</td>\n    </tr>\n    <tr>\n      <th>1</th>\n      <td>miR-223-3p</td>\n      <td>ENSMUSG00000026319.8</td>\n      <td>2310035C23Rik</td>\n      <td>ENSMUST00000086721.4</td>\n      <td>10090</td>\n      <td>484</td>\n      <td>490</td>\n      <td>715</td>\n      <td>723</td>\n      <td>7mer-m8</td>\n      <td>0.32</td>\n    </tr>\n    <tr>\n      <th>2</th>\n      <td>miR-223-3p</td>\n      <td>ENSMUSG00000073741.1</td>\n      <td>4732440D04Rik</td>\n      <td>ENSMUST00000097832.1</td>\n      <td>10090</td>\n      <td>1239</td>\n      <td>1246</td>\n      <td>2372</td>\n      <td>2379</td>\n      <td>8mer</td>\n      <td>0.09</td>\n    </tr>\n    <tr>\n      <th>3</th>\n      <td>miR-223-3p</td>\n      <td>ENSMUSG00000034959.7</td>\n      <td>5031414D18Rik</td>\n      <td>ENSMUST00000036072.7</td>\n      <td>10090</td>\n      <td>335</td>\n      <td>342</td>\n      <td>822</td>\n      <td>829</td>\n      <td>8mer</td>\n      <td>0.48</td>\n    </tr>\n    <tr>\n      <th>4</th>\n      <td>miR-223-3p</td>\n      <td>ENSMUSG00000070690.4</td>\n      <td>5830473C10Rik</td>\n      <td>ENSMUST00000094615.4</td>\n      <td>10090</td>\n      <td>2749</td>\n      <td>2756</td>\n      <td>3767</td>\n      <td>3774</td>\n      <td>8mer</td>\n      <td>0.00</td>\n    </tr>\n    <tr>\n      <th>...</th>\n      <td>...</td>\n      <td>...</td>\n      <td>...</td>\n      <td>...</td>\n      <td>...</td>\n      <td>...</td>\n      <td>...</td>\n      <td>...</td>\n      <td>...</td>\n      <td>...</td>\n      <td>...</td>\n    </tr>\n    <tr>\n      <th>339</th>\n      <td>miR-223-3p</td>\n      <td>ENSMUSG00000061410.6</td>\n      <td>Zcchc14</td>\n      <td>ENSMUST00000046386.4</td>\n      <td>10090</td>\n      <td>1680</td>\n      <td>1687</td>\n      <td>2860</td>\n      <td>2871</td>\n      <td>8mer</td>\n      <td>0.49</td>\n    </tr>\n    <tr>\n      <th>340</th>\n      <td>miR-223-3p</td>\n      <td>ENSMUSG00000024238.8</td>\n      <td>Zeb1</td>\n      <td>ENSMUST00000025081.6</td>\n      <td>10090</td>\n      <td>1245</td>\n      <td>1251</td>\n      <td>1936</td>\n      <td>1944</td>\n      <td>7mer-1a</td>\n      <td>0.44</td>\n    </tr>\n    <tr>\n      <th>341</th>\n      <td>miR-223-3p</td>\n      <td>ENSMUSG00000024750.5</td>\n      <td>Zfand5</td>\n      <td>ENSMUST00000025659.5</td>\n      <td>10090</td>\n      <td>17515</td>\n      <td>17521</td>\n      <td>21933</td>\n      <td>21939</td>\n      <td>7mer-1a</td>\n      <td>0.42</td>\n    </tr>\n    <tr>\n      <th>342</th>\n      <td>miR-223-3p</td>\n      <td>ENSMUSG00000038872.9</td>\n      <td>Zfhx3</td>\n      <td>ENSMUST00000043896.9</td>\n      <td>10090</td>\n      <td>884</td>\n      <td>890</td>\n      <td>1587</td>\n      <td>1593</td>\n      <td>7mer-m8</td>\n      <td>0.46</td>\n    </tr>\n    <tr>\n      <th>343</th>\n      <td>miR-223-3p</td>\n      <td>ENSMUSG00000079509.5</td>\n      <td>Zfx</td>\n      <td>ENSMUST00000088102.6</td>\n      <td>10090</td>\n      <td>2395</td>\n      <td>2401</td>\n      <td>3875</td>\n      <td>3881</td>\n      <td>7mer-1a</td>\n      <td>0.40</td>\n    </tr>\n  </tbody>\n</table>\n<p>344 rows × 11 columns</p>\n</div>"
     },
     "execution_count": 9,
     "metadata": {},
     "output_type": "execute_result"
    }
   ],
   "source": [
    "predicted_target_info_mouse_data"
   ],
   "metadata": {
    "collapsed": false,
    "pycharm": {
     "name": "#%%\n"
    }
   }
  },
  {
   "cell_type": "code",
   "execution_count": 10,
   "outputs": [],
   "source": [
    "import ast"
   ],
   "metadata": {
    "collapsed": false,
    "pycharm": {
     "name": "#%%\n"
    }
   }
  },
  {
   "cell_type": "code",
   "execution_count": 15,
   "outputs": [],
   "source": [
    "MATCHED_DATA_PATH = \"../TargetScan_summary_match_data_2022-01-13.csv\""
   ],
   "metadata": {
    "collapsed": false,
    "pycharm": {
     "name": "#%%\n"
    }
   }
  },
  {
   "cell_type": "code",
   "execution_count": 16,
   "outputs": [
    {
     "data": {
      "text/plain": "  GENE_LIST_FILENAME  NUM_MATCHED  \\\n0    rna_m0_down.txt            0   \n1      rna_m0_up.txt            1   \n2    rna_m1_down.txt            3   \n3      rna_m1_up.txt            0   \n4    rpf_m0_down.txt           27   \n5      rpf_m0_up.txt           56   \n6    rpf_m1_down.txt           22   \n7      rpf_m1_up.txt           18   \n\n                               MATCHED_GENES_ENSMUSG  \n0                                                 {}  \n1                               {ENSMUSG00000074622}  \n2  {ENSMUSG00000032479, ENSMUSG00000025484, ENSMU...  \n3                                                 {}  \n4  {ENSMUSG00000050103, ENSMUSG00000021952, ENSMU...  \n5  {ENSMUSG00000051615, ENSMUSG00000005161, ENSMU...  \n6  {ENSMUSG00000036282, ENSMUSG00000050103, ENSMU...  \n7  {ENSMUSG00000022773, ENSMUSG00000018398, ENSMU...  ",
      "text/html": "<div>\n<style scoped>\n    .dataframe tbody tr th:only-of-type {\n        vertical-align: middle;\n    }\n\n    .dataframe tbody tr th {\n        vertical-align: top;\n    }\n\n    .dataframe thead th {\n        text-align: right;\n    }\n</style>\n<table border=\"1\" class=\"dataframe\">\n  <thead>\n    <tr style=\"text-align: right;\">\n      <th></th>\n      <th>GENE_LIST_FILENAME</th>\n      <th>NUM_MATCHED</th>\n      <th>MATCHED_GENES_ENSMUSG</th>\n    </tr>\n  </thead>\n  <tbody>\n    <tr>\n      <th>0</th>\n      <td>rna_m0_down.txt</td>\n      <td>0</td>\n      <td>{}</td>\n    </tr>\n    <tr>\n      <th>1</th>\n      <td>rna_m0_up.txt</td>\n      <td>1</td>\n      <td>{ENSMUSG00000074622}</td>\n    </tr>\n    <tr>\n      <th>2</th>\n      <td>rna_m1_down.txt</td>\n      <td>3</td>\n      <td>{ENSMUSG00000032479, ENSMUSG00000025484, ENSMU...</td>\n    </tr>\n    <tr>\n      <th>3</th>\n      <td>rna_m1_up.txt</td>\n      <td>0</td>\n      <td>{}</td>\n    </tr>\n    <tr>\n      <th>4</th>\n      <td>rpf_m0_down.txt</td>\n      <td>27</td>\n      <td>{ENSMUSG00000050103, ENSMUSG00000021952, ENSMU...</td>\n    </tr>\n    <tr>\n      <th>5</th>\n      <td>rpf_m0_up.txt</td>\n      <td>56</td>\n      <td>{ENSMUSG00000051615, ENSMUSG00000005161, ENSMU...</td>\n    </tr>\n    <tr>\n      <th>6</th>\n      <td>rpf_m1_down.txt</td>\n      <td>22</td>\n      <td>{ENSMUSG00000036282, ENSMUSG00000050103, ENSMU...</td>\n    </tr>\n    <tr>\n      <th>7</th>\n      <td>rpf_m1_up.txt</td>\n      <td>18</td>\n      <td>{ENSMUSG00000022773, ENSMUSG00000018398, ENSMU...</td>\n    </tr>\n  </tbody>\n</table>\n</div>"
     },
     "execution_count": 16,
     "metadata": {},
     "output_type": "execute_result"
    }
   ],
   "source": [
    "summary_match_data = pd.read_csv(MATCHED_DATA_PATH)\n",
    "summary_match_data['MATCHED_GENES_ENSMUSG'] = summary_match_data['MATCHED_GENES_ENSMUSG'].apply(lambda x: ast.literal_eval(x))\n",
    "summary_match_data"
   ],
   "metadata": {
    "collapsed": false,
    "pycharm": {
     "name": "#%%\n"
    }
   }
  },
  {
   "cell_type": "code",
   "execution_count": 17,
   "outputs": [
    {
     "data": {
      "text/plain": "{'rna_m0_down.txt': set(),\n 'rna_m0_up.txt': {'ENSMUSG00000074622'},\n 'rna_m1_down.txt': {'ENSMUSG00000002068',\n  'ENSMUSG00000025484',\n  'ENSMUSG00000032479'},\n 'rna_m1_up.txt': set(),\n 'rpf_m0_down.txt': {'ENSMUSG00000002107',\n  'ENSMUSG00000005501',\n  'ENSMUSG00000005882',\n  'ENSMUSG00000018363',\n  'ENSMUSG00000021952',\n  'ENSMUSG00000022802',\n  'ENSMUSG00000024074',\n  'ENSMUSG00000026594',\n  'ENSMUSG00000026718',\n  'ENSMUSG00000026754',\n  'ENSMUSG00000026833',\n  'ENSMUSG00000027651',\n  'ENSMUSG00000028621',\n  'ENSMUSG00000029840',\n  'ENSMUSG00000029924',\n  'ENSMUSG00000032185',\n  'ENSMUSG00000035021',\n  'ENSMUSG00000035401',\n  'ENSMUSG00000038957',\n  'ENSMUSG00000043639',\n  'ENSMUSG00000050103',\n  'ENSMUSG00000054894',\n  'ENSMUSG00000055723',\n  'ENSMUSG00000058254',\n  'ENSMUSG00000063952',\n  'ENSMUSG00000073557',\n  'ENSMUSG00000074513'},\n 'rpf_m0_up.txt': {'ENSMUSG00000000253',\n  'ENSMUSG00000005161',\n  'ENSMUSG00000006705',\n  'ENSMUSG00000007656',\n  'ENSMUSG00000014504',\n  'ENSMUSG00000018171',\n  'ENSMUSG00000019929',\n  'ENSMUSG00000020015',\n  'ENSMUSG00000020864',\n  'ENSMUSG00000020894',\n  'ENSMUSG00000021033',\n  'ENSMUSG00000021477',\n  'ENSMUSG00000021690',\n  'ENSMUSG00000021929',\n  'ENSMUSG00000022365',\n  'ENSMUSG00000022698',\n  'ENSMUSG00000023018',\n  'ENSMUSG00000024750',\n  'ENSMUSG00000024986',\n  'ENSMUSG00000025525',\n  'ENSMUSG00000026083',\n  'ENSMUSG00000026565',\n  'ENSMUSG00000026761',\n  'ENSMUSG00000026843',\n  'ENSMUSG00000027109',\n  'ENSMUSG00000027206',\n  'ENSMUSG00000027508',\n  'ENSMUSG00000027519',\n  'ENSMUSG00000027763',\n  'ENSMUSG00000028134',\n  'ENSMUSG00000030225',\n  'ENSMUSG00000030660',\n  'ENSMUSG00000031659',\n  'ENSMUSG00000031953',\n  'ENSMUSG00000032265',\n  'ENSMUSG00000032307',\n  'ENSMUSG00000032698',\n  'ENSMUSG00000035133',\n  'ENSMUSG00000035559',\n  'ENSMUSG00000036810',\n  'ENSMUSG00000036943',\n  'ENSMUSG00000036989',\n  'ENSMUSG00000038206',\n  'ENSMUSG00000039046',\n  'ENSMUSG00000040396',\n  'ENSMUSG00000040848',\n  'ENSMUSG00000042595',\n  'ENSMUSG00000046032',\n  'ENSMUSG00000048170',\n  'ENSMUSG00000049539',\n  'ENSMUSG00000051413',\n  'ENSMUSG00000051615',\n  'ENSMUSG00000053897',\n  'ENSMUSG00000063659',\n  'ENSMUSG00000066043',\n  'ENSMUSG00000074622'},\n 'rpf_m1_down.txt': {'ENSMUSG00000002068',\n  'ENSMUSG00000002107',\n  'ENSMUSG00000004798',\n  'ENSMUSG00000005501',\n  'ENSMUSG00000005583',\n  'ENSMUSG00000021033',\n  'ENSMUSG00000021549',\n  'ENSMUSG00000026718',\n  'ENSMUSG00000026833',\n  'ENSMUSG00000028621',\n  'ENSMUSG00000029924',\n  'ENSMUSG00000030067',\n  'ENSMUSG00000032423',\n  'ENSMUSG00000032621',\n  'ENSMUSG00000035597',\n  'ENSMUSG00000036282',\n  'ENSMUSG00000038080',\n  'ENSMUSG00000039046',\n  'ENSMUSG00000043639',\n  'ENSMUSG00000050103',\n  'ENSMUSG00000073557',\n  'ENSMUSG00000074513'},\n 'rpf_m1_up.txt': {'ENSMUSG00000004591',\n  'ENSMUSG00000006705',\n  'ENSMUSG00000018171',\n  'ENSMUSG00000018398',\n  'ENSMUSG00000021990',\n  'ENSMUSG00000022773',\n  'ENSMUSG00000025525',\n  'ENSMUSG00000026565',\n  'ENSMUSG00000026843',\n  'ENSMUSG00000032384',\n  'ENSMUSG00000032698',\n  'ENSMUSG00000034442',\n  'ENSMUSG00000036810',\n  'ENSMUSG00000038957',\n  'ENSMUSG00000050395',\n  'ENSMUSG00000063800',\n  'ENSMUSG00000069769',\n  'ENSMUSG00000071068'}}"
     },
     "execution_count": 17,
     "metadata": {},
     "output_type": "execute_result"
    }
   ],
   "source": [
    "match_file_to_genes = summary_match_data.set_index(\"GENE_LIST_FILENAME\").to_dict()[\"MATCHED_GENES_ENSMUSG\"]\n",
    "match_file_to_genes"
   ],
   "metadata": {
    "collapsed": false,
    "pycharm": {
     "name": "#%%\n"
    }
   }
  },
  {
   "cell_type": "code",
   "execution_count": null,
   "outputs": [],
   "source": [],
   "metadata": {
    "collapsed": false,
    "pycharm": {
     "name": "#%%\n"
    }
   }
  },
  {
   "cell_type": "code",
   "execution_count": 18,
   "outputs": [
    {
     "name": "stdout",
     "output_type": "stream",
     "text": [
      "PROCESSING rna_m0_down.txt with 0 genes.\n",
      " [warning] No gene found, skipping ..\n",
      "=======================================================\n",
      "PROCESSING rna_m0_up.txt with 1 genes.\n",
      "=======================================================\n",
      "PROCESSING rna_m1_down.txt with 3 genes.\n",
      "=======================================================\n",
      "PROCESSING rna_m1_up.txt with 0 genes.\n",
      " [warning] No gene found, skipping ..\n",
      "=======================================================\n",
      "PROCESSING rpf_m0_down.txt with 27 genes.\n",
      "=======================================================\n",
      "PROCESSING rpf_m0_up.txt with 56 genes.\n",
      "=======================================================\n",
      "PROCESSING rpf_m1_down.txt with 22 genes.\n",
      "=======================================================\n",
      "PROCESSING rpf_m1_up.txt with 18 genes.\n",
      "=======================================================\n"
     ]
    }
   ],
   "source": [
    "filenames_to_dataframes = {}\n",
    "for filename, input_genes in match_file_to_genes.items():\n",
    "    print(f\"PROCESSING {filename} with {len(input_genes)} genes.\")\n",
    "    if len(input_genes) == 0:\n",
    "        print(\" [warning] No gene found, skipping ..\")\n",
    "        print(\"=======================================================\")\n",
    "        continue\n",
    "\n",
    "    table = construct_table(\n",
    "        input_genes=input_genes,\n",
    "        pred_target_info_data=predicted_target_info_mouse_data,\n",
    "        UTR_seq_data=UTR_seq_mouse_data,\n",
    "        gene_mapping=ENSMUSG_to_gene_symbol,\n",
    "        representative_transcripts=miR_223_representative_transcripts,\n",
    "        motifs=MOTIF_LIST\n",
    "    )\n",
    "    filenames_to_dataframes[filename] = table\n",
    "    print(\"=======================================================\")"
   ],
   "metadata": {
    "collapsed": false,
    "pycharm": {
     "name": "#%%\n"
    }
   }
  },
  {
   "cell_type": "code",
   "execution_count": null,
   "outputs": [],
   "source": [],
   "metadata": {
    "collapsed": false,
    "pycharm": {
     "name": "#%%\n"
    }
   }
  },
  {
   "cell_type": "code",
   "execution_count": 19,
   "outputs": [
    {
     "data": {
      "text/plain": "dict_keys(['rna_m0_up.txt', 'rna_m1_down.txt', 'rpf_m0_down.txt', 'rpf_m0_up.txt', 'rpf_m1_down.txt', 'rpf_m1_up.txt'])"
     },
     "execution_count": 19,
     "metadata": {},
     "output_type": "execute_result"
    }
   ],
   "source": [
    "filenames_to_dataframes.keys()"
   ],
   "metadata": {
    "collapsed": false,
    "pycharm": {
     "name": "#%%\n"
    }
   }
  },
  {
   "cell_type": "code",
   "execution_count": null,
   "outputs": [],
   "source": [],
   "metadata": {
    "collapsed": false,
    "pycharm": {
     "name": "#%%\n"
    }
   }
  },
  {
   "cell_type": "code",
   "execution_count": 25,
   "outputs": [
    {
     "name": "stderr",
     "output_type": "stream",
     "text": [
      "C:\\Users\\ibrah\\anaconda3\\envs\\MyVenvML\\lib\\site-packages\\xlsxwriter\\workbook.py:338: UserWarning: Calling close() on already closed file.\n",
      "  warn(\"Calling close() on already closed file.\")\n"
     ]
    }
   ],
   "source": [
    "writer = pd.ExcelWriter('TargetScan_matched_genes_analysis_updated.xlsx')\n",
    "\n",
    "for filename in filenames_to_dataframes.keys():\n",
    "    filenames_to_dataframes[filename].to_excel(writer, filename, index=False)\n",
    "\n",
    "writer.save()\n",
    "writer.close()"
   ],
   "metadata": {
    "collapsed": false,
    "pycharm": {
     "name": "#%%\n"
    }
   }
  },
  {
   "cell_type": "markdown",
   "source": [
    "---"
   ],
   "metadata": {
    "collapsed": false,
    "pycharm": {
     "name": "#%% md\n"
    }
   }
  },
  {
   "cell_type": "code",
   "execution_count": null,
   "outputs": [],
   "source": [],
   "metadata": {
    "collapsed": false,
    "pycharm": {
     "name": "#%%\n"
    }
   }
  },
  {
   "cell_type": "code",
   "execution_count": null,
   "outputs": [],
   "source": [],
   "metadata": {
    "collapsed": false,
    "pycharm": {
     "name": "#%%\n"
    }
   }
  },
  {
   "cell_type": "code",
   "execution_count": null,
   "outputs": [],
   "source": [
    "data.to_excel(writer,'result')\n",
    "writer.save()"
   ],
   "metadata": {
    "collapsed": false,
    "pycharm": {
     "name": "#%%\n"
    }
   }
  },
  {
   "cell_type": "code",
   "execution_count": null,
   "outputs": [],
   "source": [],
   "metadata": {
    "collapsed": false,
    "pycharm": {
     "name": "#%%\n"
    }
   }
  },
  {
   "cell_type": "code",
   "execution_count": 55,
   "outputs": [],
   "source": [
    "filenames_to_dataframes[\"m0_up.txt\"].to_clipboard(index=False)"
   ],
   "metadata": {
    "collapsed": false,
    "pycharm": {
     "name": "#%%\n"
    }
   }
  },
  {
   "cell_type": "code",
   "execution_count": 56,
   "outputs": [],
   "source": [
    "filenames_to_dataframes[\"m1_down.txt\"].to_clipboard(index=False)"
   ],
   "metadata": {
    "collapsed": false,
    "pycharm": {
     "name": "#%%\n"
    }
   }
  },
  {
   "cell_type": "code",
   "execution_count": 57,
   "outputs": [],
   "source": [
    "filenames_to_dataframes[\"pf_m0_down.txt\"].to_clipboard(index=False)"
   ],
   "metadata": {
    "collapsed": false,
    "pycharm": {
     "name": "#%%\n"
    }
   }
  },
  {
   "cell_type": "code",
   "execution_count": 58,
   "outputs": [],
   "source": [
    "filenames_to_dataframes[\"pf_m0_up.txt\"].to_clipboard(index=False)"
   ],
   "metadata": {
    "collapsed": false,
    "pycharm": {
     "name": "#%%\n"
    }
   }
  },
  {
   "cell_type": "code",
   "execution_count": 59,
   "outputs": [],
   "source": [
    "filenames_to_dataframes[\"pf_m1_down.txt\"].to_clipboard(index=False)"
   ],
   "metadata": {
    "collapsed": false,
    "pycharm": {
     "name": "#%%\n"
    }
   }
  },
  {
   "cell_type": "code",
   "execution_count": 60,
   "outputs": [],
   "source": [
    "filenames_to_dataframes[\"pf_m1_up.txt\"].to_clipboard(index=False)"
   ],
   "metadata": {
    "collapsed": false,
    "pycharm": {
     "name": "#%%\n"
    }
   }
  },
  {
   "cell_type": "code",
   "execution_count": null,
   "outputs": [],
   "source": [],
   "metadata": {
    "collapsed": false,
    "pycharm": {
     "name": "#%%\n"
    }
   }
  },
  {
   "cell_type": "code",
   "execution_count": null,
   "outputs": [],
   "source": [
    "\n",
    "\n",
    "\n"
   ],
   "metadata": {
    "collapsed": false,
    "pycharm": {
     "name": "#%%\n"
    }
   }
  },
  {
   "cell_type": "code",
   "execution_count": 46,
   "outputs": [],
   "source": [],
   "metadata": {
    "collapsed": false,
    "pycharm": {
     "name": "#%%\n"
    }
   }
  },
  {
   "cell_type": "code",
   "execution_count": null,
   "outputs": [],
   "source": [],
   "metadata": {
    "collapsed": false,
    "pycharm": {
     "name": "#%%\n"
    }
   }
  },
  {
   "cell_type": "code",
   "execution_count": null,
   "outputs": [],
   "source": [],
   "metadata": {
    "collapsed": false,
    "pycharm": {
     "name": "#%%\n"
    }
   }
  },
  {
   "cell_type": "code",
   "execution_count": null,
   "outputs": [],
   "source": [],
   "metadata": {
    "collapsed": false,
    "pycharm": {
     "name": "#%%\n"
    }
   }
  },
  {
   "cell_type": "code",
   "execution_count": 31,
   "outputs": [],
   "source": [],
   "metadata": {
    "collapsed": false,
    "pycharm": {
     "name": "#%%\n"
    }
   }
  },
  {
   "cell_type": "code",
   "execution_count": null,
   "outputs": [],
   "source": [],
   "metadata": {
    "collapsed": false,
    "pycharm": {
     "name": "#%%\n"
    }
   }
  },
  {
   "cell_type": "code",
   "execution_count": null,
   "outputs": [],
   "source": [],
   "metadata": {
    "collapsed": false,
    "pycharm": {
     "name": "#%%\n"
    }
   }
  },
  {
   "cell_type": "code",
   "execution_count": 10,
   "outputs": [],
   "source": [],
   "metadata": {
    "collapsed": false,
    "pycharm": {
     "name": "#%%\n"
    }
   }
  },
  {
   "cell_type": "code",
   "execution_count": 11,
   "outputs": [
    {
     "data": {
      "text/plain": "  GENE_NAME        GENE_ENSMUSG  #_SITE    SITE_POSITIONS  AUUUA  UAUUUAU\n0     Lelp1  ENSMUSG00000027927       2  [83:90, 349:356]      0        0\n1   Slc39a8  ENSMUSG00000053897       1       [1387:1393]     14        1",
      "text/html": "<div>\n<style scoped>\n    .dataframe tbody tr th:only-of-type {\n        vertical-align: middle;\n    }\n\n    .dataframe tbody tr th {\n        vertical-align: top;\n    }\n\n    .dataframe thead th {\n        text-align: right;\n    }\n</style>\n<table border=\"1\" class=\"dataframe\">\n  <thead>\n    <tr style=\"text-align: right;\">\n      <th></th>\n      <th>GENE_NAME</th>\n      <th>GENE_ENSMUSG</th>\n      <th>#_SITE</th>\n      <th>SITE_POSITIONS</th>\n      <th>AUUUA</th>\n      <th>UAUUUAU</th>\n    </tr>\n  </thead>\n  <tbody>\n    <tr>\n      <th>0</th>\n      <td>Lelp1</td>\n      <td>ENSMUSG00000027927</td>\n      <td>2</td>\n      <td>[83:90, 349:356]</td>\n      <td>0</td>\n      <td>0</td>\n    </tr>\n    <tr>\n      <th>1</th>\n      <td>Slc39a8</td>\n      <td>ENSMUSG00000053897</td>\n      <td>1</td>\n      <td>[1387:1393]</td>\n      <td>14</td>\n      <td>1</td>\n    </tr>\n  </tbody>\n</table>\n</div>"
     },
     "execution_count": 11,
     "metadata": {},
     "output_type": "execute_result"
    }
   ],
   "source": [
    "construct_table(\n",
    "    input_genes=[\"ENSMUSG00000027927\", \"ENSMUSG00000053897\"],\n",
    "    pred_target_info_data=predicted_target_info_mouse_data,\n",
    "    UTR_seq_data=UTR_seq_mouse_data,\n",
    "    gene_mapping=ENSMUSG_to_gene_symbol,\n",
    "    representative_transcripts=miR_223_representative_transcripts,\n",
    "    motifs=MOTIF_LIST\n",
    ")"
   ],
   "metadata": {
    "collapsed": false,
    "pycharm": {
     "name": "#%%\n"
    }
   }
  },
  {
   "cell_type": "code",
   "execution_count": null,
   "outputs": [],
   "source": [],
   "metadata": {
    "collapsed": false,
    "pycharm": {
     "name": "#%%\n"
    }
   }
  },
  {
   "cell_type": "code",
   "execution_count": null,
   "outputs": [],
   "source": [],
   "metadata": {
    "collapsed": false,
    "pycharm": {
     "name": "#%%\n"
    }
   }
  },
  {
   "cell_type": "code",
   "execution_count": null,
   "outputs": [],
   "source": [],
   "metadata": {
    "collapsed": false,
    "pycharm": {
     "name": "#%%\n"
    }
   }
  }
 ],
 "metadata": {
  "kernelspec": {
   "display_name": "Python 3",
   "language": "python",
   "name": "python3"
  },
  "language_info": {
   "codemirror_mode": {
    "name": "ipython",
    "version": 2
   },
   "file_extension": ".py",
   "mimetype": "text/x-python",
   "name": "python",
   "nbconvert_exporter": "python",
   "pygments_lexer": "ipython2",
   "version": "2.7.6"
  }
 },
 "nbformat": 4,
 "nbformat_minor": 0
}