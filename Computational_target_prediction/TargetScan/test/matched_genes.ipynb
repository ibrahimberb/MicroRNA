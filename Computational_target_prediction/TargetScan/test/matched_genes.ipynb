{
 "cells": [
  {
   "cell_type": "markdown",
   "metadata": {
    "collapsed": true,
    "pycharm": {
     "name": "#%% md\n"
    }
   },
   "source": [
    "# Test"
   ]
  },
  {
   "cell_type": "markdown",
   "source": [
    "## Read prediction files"
   ],
   "metadata": {
    "collapsed": false
   }
  },
  {
   "cell_type": "code",
   "execution_count": 23,
   "outputs": [],
   "source": [
    "import pandas as pd"
   ],
   "metadata": {
    "collapsed": false,
    "pycharm": {
     "name": "#%%\n"
    }
   }
  },
  {
   "cell_type": "code",
   "execution_count": 24,
   "outputs": [],
   "source": [
    "predicted_target_data = pd.read_csv(\"../data/predicted_targets/TargetScanMouse_8.0__miR-223-3p.predicted_targets.txt\", sep=\"\\t\")\n",
    "predicted_target_info_data = pd.read_csv(\"../data/predicted_targets_info/Predicted_Targets_Info_Mouse_miR-223.txt\", sep=\"\\t\")"
   ],
   "metadata": {
    "collapsed": false,
    "pycharm": {
     "name": "#%%\n"
    }
   }
  },
  {
   "cell_type": "code",
   "execution_count": null,
   "outputs": [],
   "source": [],
   "metadata": {
    "collapsed": false,
    "pycharm": {
     "name": "#%%\n"
    }
   }
  },
  {
   "cell_type": "code",
   "execution_count": null,
   "outputs": [],
   "source": [],
   "metadata": {
    "collapsed": false,
    "pycharm": {
     "name": "#%%\n"
    }
   }
  },
  {
   "cell_type": "code",
   "execution_count": 25,
   "outputs": [
    {
     "data": {
      "text/plain": "    Target gene Representative transcript  \\\n0         Lelp1      ENSMUST00000029535.4   \n1          Rhob      ENSMUST00000067384.4   \n2        Gm9938      ENSMUST00000067077.1   \n3         Olfm1      ENSMUST00000102879.3   \n4         Wdr62      ENSMUST00000108190.2   \n..          ...                       ...   \n320      Calml4      ENSMUST00000034777.7   \n321     Ppp2r3a      ENSMUST00000075941.6   \n322       Gstz1      ENSMUST00000063117.8   \n323      Atxn10      ENSMUST00000163242.1   \n324       Ccne1      ENSMUST00000108023.4   \n\n                                             Gene name  3P-seq tags + 5  \\\n0         late cornified envelope-like proline-rich 1                 5   \n1                   ras homolog gene family, member B              4893   \n2                                 predicted gene 9938              1271   \n3                                      olfactomedin 1               455   \n4                                 WD repeat domain 62               225   \n..                                                 ...              ...   \n320                                 calmodulin-like 4              5208   \n321  protein phosphatase 2, regulatory subunit B'',...             1020   \n322  glutathione transferase zeta 1 (maleylacetoace...            23139   \n323                                         ataxin 10              7751   \n324                                         cyclin E1                82   \n\n     Conserved sites total  Conserved 8mer sites  Conserved 7mer-m8 sites  \\\n0                        2                     2                        0   \n1                        1                     1                        0   \n2                        2                     2                        0   \n3                        1                     1                        0   \n4                        1                     1                        0   \n..                     ...                   ...                      ...   \n320                      1                     1                        0   \n321                      1                     0                        1   \n322                      1                     1                        0   \n323                      1                     1                        0   \n324                      1                     0                        0   \n\n     Conserved 7mer-A1 sites Poorly conserved sites total  \\\n0                          0                            0   \n1                          0                            1   \n2                          0                            4   \n3                          0                            0   \n4                          0                            0   \n..                       ...                          ...   \n320                        0                            1   \n321                        0                            0   \n322                        0                            1   \n323                        0                            0   \n324                        1                            0   \n\n     Poorly conserved 8mer sites  ...  Poorly conserved 7mer-A1 sites  \\\n0                              0  ...                               0   \n1                              0  ...                               0   \n2                              2  ...                               1   \n3                              0  ...                               0   \n4                              0  ...                               0   \n..                           ...  ...                             ...   \n320                            0  ...                               1   \n321                            0  ...                               0   \n322                            0  ...                               0   \n323                            0  ...                               0   \n324                            0  ...                               0   \n\n     6mer sites  Representative miRNA Predicted occupancy (low miRNA)  \\\n0             0        mmu-miR-223-3p                          0.0379   \n1             0        mmu-miR-223-3p                          0.0405   \n2             1        mmu-miR-223-3p                          0.0536   \n3             0        mmu-miR-223-3p                          0.0316   \n4             0        mmu-miR-223-3p                          0.0360   \n..          ...                   ...                             ...   \n320           0        mmu-miR-223-3p                          0.0000   \n321           0        mmu-miR-223-3p                          0.0003   \n322           0        mmu-miR-223-3p                          0.0018   \n323           0        mmu-miR-223-3p                          0.0008   \n324           0        mmu-miR-223-3p                          0.0002   \n\n     Predicted occupancy (high miRNA)  \\\n0                              0.2499   \n1                              0.2625   \n2                              0.3627   \n3                              0.1939   \n4                              0.2244   \n..                                ...   \n320                            0.0001   \n321                            0.0019   \n322                            0.0128   \n323                            0.0059   \n324                            0.0011   \n\n     Predicted occupancy (transfected miRNA)  \\\n0                                     1.0264   \n1                                     1.0527   \n2                                     1.7130   \n3                                     0.6369   \n4                                     0.8357   \n..                                       ...   \n320                                   0.0002   \n321                                   0.0135   \n322                                   0.0873   \n323                                   0.0405   \n324                                   0.0083   \n\n     Cumulative weighted context++ score  Total context++ score  \\\n0                                  -1.25                  -1.25   \n1                                  -0.85                  -0.88   \n2                                  -0.74                  -1.43   \n3                                  -0.73                  -0.74   \n4                                  -0.64                  -0.66   \n..                                   ...                    ...   \n320                                 0.00                  -0.55   \n321                                 0.00                  -0.06   \n322                                 0.00                  -0.20   \n323                                 0.00                  -0.21   \n324                                 0.00                  -0.08   \n\n     Aggregate PCT Previous TargetScan publication(s)  \n0             0.66                          2007, '11  \n1             0.61                2005, '07, '09, '11  \n2             0.33                                NaN  \n3             0.44                               2011  \n4             0.44                     2005, '07, '11  \n..             ...                                ...  \n320           0.49                          2005, '07  \n321           0.48                                NaN  \n322          < 0.1                                NaN  \n323          < 0.1                                NaN  \n324           0.42                                NaN  \n\n[325 rows x 21 columns]",
      "text/html": "<div>\n<style scoped>\n    .dataframe tbody tr th:only-of-type {\n        vertical-align: middle;\n    }\n\n    .dataframe tbody tr th {\n        vertical-align: top;\n    }\n\n    .dataframe thead th {\n        text-align: right;\n    }\n</style>\n<table border=\"1\" class=\"dataframe\">\n  <thead>\n    <tr style=\"text-align: right;\">\n      <th></th>\n      <th>Target gene</th>\n      <th>Representative transcript</th>\n      <th>Gene name</th>\n      <th>3P-seq tags + 5</th>\n      <th>Conserved sites total</th>\n      <th>Conserved 8mer sites</th>\n      <th>Conserved 7mer-m8 sites</th>\n      <th>Conserved 7mer-A1 sites</th>\n      <th>Poorly conserved sites total</th>\n      <th>Poorly conserved 8mer sites</th>\n      <th>...</th>\n      <th>Poorly conserved 7mer-A1 sites</th>\n      <th>6mer sites</th>\n      <th>Representative miRNA</th>\n      <th>Predicted occupancy (low miRNA)</th>\n      <th>Predicted occupancy (high miRNA)</th>\n      <th>Predicted occupancy (transfected miRNA)</th>\n      <th>Cumulative weighted context++ score</th>\n      <th>Total context++ score</th>\n      <th>Aggregate PCT</th>\n      <th>Previous TargetScan publication(s)</th>\n    </tr>\n  </thead>\n  <tbody>\n    <tr>\n      <th>0</th>\n      <td>Lelp1</td>\n      <td>ENSMUST00000029535.4</td>\n      <td>late cornified envelope-like proline-rich 1</td>\n      <td>5</td>\n      <td>2</td>\n      <td>2</td>\n      <td>0</td>\n      <td>0</td>\n      <td>0</td>\n      <td>0</td>\n      <td>...</td>\n      <td>0</td>\n      <td>0</td>\n      <td>mmu-miR-223-3p</td>\n      <td>0.0379</td>\n      <td>0.2499</td>\n      <td>1.0264</td>\n      <td>-1.25</td>\n      <td>-1.25</td>\n      <td>0.66</td>\n      <td>2007, '11</td>\n    </tr>\n    <tr>\n      <th>1</th>\n      <td>Rhob</td>\n      <td>ENSMUST00000067384.4</td>\n      <td>ras homolog gene family, member B</td>\n      <td>4893</td>\n      <td>1</td>\n      <td>1</td>\n      <td>0</td>\n      <td>0</td>\n      <td>1</td>\n      <td>0</td>\n      <td>...</td>\n      <td>0</td>\n      <td>0</td>\n      <td>mmu-miR-223-3p</td>\n      <td>0.0405</td>\n      <td>0.2625</td>\n      <td>1.0527</td>\n      <td>-0.85</td>\n      <td>-0.88</td>\n      <td>0.61</td>\n      <td>2005, '07, '09, '11</td>\n    </tr>\n    <tr>\n      <th>2</th>\n      <td>Gm9938</td>\n      <td>ENSMUST00000067077.1</td>\n      <td>predicted gene 9938</td>\n      <td>1271</td>\n      <td>2</td>\n      <td>2</td>\n      <td>0</td>\n      <td>0</td>\n      <td>4</td>\n      <td>2</td>\n      <td>...</td>\n      <td>1</td>\n      <td>1</td>\n      <td>mmu-miR-223-3p</td>\n      <td>0.0536</td>\n      <td>0.3627</td>\n      <td>1.7130</td>\n      <td>-0.74</td>\n      <td>-1.43</td>\n      <td>0.33</td>\n      <td>NaN</td>\n    </tr>\n    <tr>\n      <th>3</th>\n      <td>Olfm1</td>\n      <td>ENSMUST00000102879.3</td>\n      <td>olfactomedin 1</td>\n      <td>455</td>\n      <td>1</td>\n      <td>1</td>\n      <td>0</td>\n      <td>0</td>\n      <td>0</td>\n      <td>0</td>\n      <td>...</td>\n      <td>0</td>\n      <td>0</td>\n      <td>mmu-miR-223-3p</td>\n      <td>0.0316</td>\n      <td>0.1939</td>\n      <td>0.6369</td>\n      <td>-0.73</td>\n      <td>-0.74</td>\n      <td>0.44</td>\n      <td>2011</td>\n    </tr>\n    <tr>\n      <th>4</th>\n      <td>Wdr62</td>\n      <td>ENSMUST00000108190.2</td>\n      <td>WD repeat domain 62</td>\n      <td>225</td>\n      <td>1</td>\n      <td>1</td>\n      <td>0</td>\n      <td>0</td>\n      <td>0</td>\n      <td>0</td>\n      <td>...</td>\n      <td>0</td>\n      <td>0</td>\n      <td>mmu-miR-223-3p</td>\n      <td>0.0360</td>\n      <td>0.2244</td>\n      <td>0.8357</td>\n      <td>-0.64</td>\n      <td>-0.66</td>\n      <td>0.44</td>\n      <td>2005, '07, '11</td>\n    </tr>\n    <tr>\n      <th>...</th>\n      <td>...</td>\n      <td>...</td>\n      <td>...</td>\n      <td>...</td>\n      <td>...</td>\n      <td>...</td>\n      <td>...</td>\n      <td>...</td>\n      <td>...</td>\n      <td>...</td>\n      <td>...</td>\n      <td>...</td>\n      <td>...</td>\n      <td>...</td>\n      <td>...</td>\n      <td>...</td>\n      <td>...</td>\n      <td>...</td>\n      <td>...</td>\n      <td>...</td>\n      <td>...</td>\n    </tr>\n    <tr>\n      <th>320</th>\n      <td>Calml4</td>\n      <td>ENSMUST00000034777.7</td>\n      <td>calmodulin-like 4</td>\n      <td>5208</td>\n      <td>1</td>\n      <td>1</td>\n      <td>0</td>\n      <td>0</td>\n      <td>1</td>\n      <td>0</td>\n      <td>...</td>\n      <td>1</td>\n      <td>0</td>\n      <td>mmu-miR-223-3p</td>\n      <td>0.0000</td>\n      <td>0.0001</td>\n      <td>0.0002</td>\n      <td>0.00</td>\n      <td>-0.55</td>\n      <td>0.49</td>\n      <td>2005, '07</td>\n    </tr>\n    <tr>\n      <th>321</th>\n      <td>Ppp2r3a</td>\n      <td>ENSMUST00000075941.6</td>\n      <td>protein phosphatase 2, regulatory subunit B'',...</td>\n      <td>1020</td>\n      <td>1</td>\n      <td>0</td>\n      <td>1</td>\n      <td>0</td>\n      <td>0</td>\n      <td>0</td>\n      <td>...</td>\n      <td>0</td>\n      <td>0</td>\n      <td>mmu-miR-223-3p</td>\n      <td>0.0003</td>\n      <td>0.0019</td>\n      <td>0.0135</td>\n      <td>0.00</td>\n      <td>-0.06</td>\n      <td>0.48</td>\n      <td>NaN</td>\n    </tr>\n    <tr>\n      <th>322</th>\n      <td>Gstz1</td>\n      <td>ENSMUST00000063117.8</td>\n      <td>glutathione transferase zeta 1 (maleylacetoace...</td>\n      <td>23139</td>\n      <td>1</td>\n      <td>1</td>\n      <td>0</td>\n      <td>0</td>\n      <td>1</td>\n      <td>0</td>\n      <td>...</td>\n      <td>0</td>\n      <td>0</td>\n      <td>mmu-miR-223-3p</td>\n      <td>0.0018</td>\n      <td>0.0128</td>\n      <td>0.0873</td>\n      <td>0.00</td>\n      <td>-0.20</td>\n      <td>&lt; 0.1</td>\n      <td>NaN</td>\n    </tr>\n    <tr>\n      <th>323</th>\n      <td>Atxn10</td>\n      <td>ENSMUST00000163242.1</td>\n      <td>ataxin 10</td>\n      <td>7751</td>\n      <td>1</td>\n      <td>1</td>\n      <td>0</td>\n      <td>0</td>\n      <td>0</td>\n      <td>0</td>\n      <td>...</td>\n      <td>0</td>\n      <td>0</td>\n      <td>mmu-miR-223-3p</td>\n      <td>0.0008</td>\n      <td>0.0059</td>\n      <td>0.0405</td>\n      <td>0.00</td>\n      <td>-0.21</td>\n      <td>&lt; 0.1</td>\n      <td>NaN</td>\n    </tr>\n    <tr>\n      <th>324</th>\n      <td>Ccne1</td>\n      <td>ENSMUST00000108023.4</td>\n      <td>cyclin E1</td>\n      <td>82</td>\n      <td>1</td>\n      <td>0</td>\n      <td>0</td>\n      <td>1</td>\n      <td>0</td>\n      <td>0</td>\n      <td>...</td>\n      <td>0</td>\n      <td>0</td>\n      <td>mmu-miR-223-3p</td>\n      <td>0.0002</td>\n      <td>0.0011</td>\n      <td>0.0083</td>\n      <td>0.00</td>\n      <td>-0.08</td>\n      <td>0.42</td>\n      <td>NaN</td>\n    </tr>\n  </tbody>\n</table>\n<p>325 rows × 21 columns</p>\n</div>"
     },
     "execution_count": 25,
     "metadata": {},
     "output_type": "execute_result"
    }
   ],
   "source": [
    "predicted_target_data"
   ],
   "metadata": {
    "collapsed": false,
    "pycharm": {
     "name": "#%%\n"
    }
   }
  },
  {
   "cell_type": "code",
   "execution_count": 34,
   "outputs": [
    {
     "data": {
      "text/plain": "     miR Family               Gene ID    Gene Symbol         Transcript ID  \\\n0    miR-223-3p  ENSMUSG00000035401.8  2210018M11Rik  ENSMUST00000038359.4   \n1    miR-223-3p  ENSMUSG00000026319.8  2310035C23Rik  ENSMUST00000086721.4   \n2    miR-223-3p  ENSMUSG00000073741.1  4732440D04Rik  ENSMUST00000097832.1   \n3    miR-223-3p  ENSMUSG00000034959.7  5031414D18Rik  ENSMUST00000036072.7   \n4    miR-223-3p  ENSMUSG00000070690.4  5830473C10Rik  ENSMUST00000094615.4   \n..          ...                   ...            ...                   ...   \n339  miR-223-3p  ENSMUSG00000061410.6        Zcchc14  ENSMUST00000046386.4   \n340  miR-223-3p  ENSMUSG00000024238.8           Zeb1  ENSMUST00000025081.6   \n341  miR-223-3p  ENSMUSG00000024750.5         Zfand5  ENSMUST00000025659.5   \n342  miR-223-3p  ENSMUSG00000038872.9          Zfhx3  ENSMUST00000043896.9   \n343  miR-223-3p  ENSMUSG00000079509.5            Zfx  ENSMUST00000088102.6   \n\n     Species ID  UTR start  UTR end  MSA start  MSA end Seed match   PCT  \n0         10090       1181     1187       2140     2151    7mer-1a  0.45  \n1         10090        484      490        715      723    7mer-m8  0.32  \n2         10090       1239     1246       2372     2379       8mer  0.09  \n3         10090        335      342        822      829       8mer  0.48  \n4         10090       2749     2756       3767     3774       8mer  0.00  \n..          ...        ...      ...        ...      ...        ...   ...  \n339       10090       1680     1687       2860     2871       8mer  0.49  \n340       10090       1245     1251       1936     1944    7mer-1a  0.44  \n341       10090      17515    17521      21933    21939    7mer-1a  0.42  \n342       10090        884      890       1587     1593    7mer-m8  0.46  \n343       10090       2395     2401       3875     3881    7mer-1a  0.40  \n\n[344 rows x 11 columns]",
      "text/html": "<div>\n<style scoped>\n    .dataframe tbody tr th:only-of-type {\n        vertical-align: middle;\n    }\n\n    .dataframe tbody tr th {\n        vertical-align: top;\n    }\n\n    .dataframe thead th {\n        text-align: right;\n    }\n</style>\n<table border=\"1\" class=\"dataframe\">\n  <thead>\n    <tr style=\"text-align: right;\">\n      <th></th>\n      <th>miR Family</th>\n      <th>Gene ID</th>\n      <th>Gene Symbol</th>\n      <th>Transcript ID</th>\n      <th>Species ID</th>\n      <th>UTR start</th>\n      <th>UTR end</th>\n      <th>MSA start</th>\n      <th>MSA end</th>\n      <th>Seed match</th>\n      <th>PCT</th>\n    </tr>\n  </thead>\n  <tbody>\n    <tr>\n      <th>0</th>\n      <td>miR-223-3p</td>\n      <td>ENSMUSG00000035401.8</td>\n      <td>2210018M11Rik</td>\n      <td>ENSMUST00000038359.4</td>\n      <td>10090</td>\n      <td>1181</td>\n      <td>1187</td>\n      <td>2140</td>\n      <td>2151</td>\n      <td>7mer-1a</td>\n      <td>0.45</td>\n    </tr>\n    <tr>\n      <th>1</th>\n      <td>miR-223-3p</td>\n      <td>ENSMUSG00000026319.8</td>\n      <td>2310035C23Rik</td>\n      <td>ENSMUST00000086721.4</td>\n      <td>10090</td>\n      <td>484</td>\n      <td>490</td>\n      <td>715</td>\n      <td>723</td>\n      <td>7mer-m8</td>\n      <td>0.32</td>\n    </tr>\n    <tr>\n      <th>2</th>\n      <td>miR-223-3p</td>\n      <td>ENSMUSG00000073741.1</td>\n      <td>4732440D04Rik</td>\n      <td>ENSMUST00000097832.1</td>\n      <td>10090</td>\n      <td>1239</td>\n      <td>1246</td>\n      <td>2372</td>\n      <td>2379</td>\n      <td>8mer</td>\n      <td>0.09</td>\n    </tr>\n    <tr>\n      <th>3</th>\n      <td>miR-223-3p</td>\n      <td>ENSMUSG00000034959.7</td>\n      <td>5031414D18Rik</td>\n      <td>ENSMUST00000036072.7</td>\n      <td>10090</td>\n      <td>335</td>\n      <td>342</td>\n      <td>822</td>\n      <td>829</td>\n      <td>8mer</td>\n      <td>0.48</td>\n    </tr>\n    <tr>\n      <th>4</th>\n      <td>miR-223-3p</td>\n      <td>ENSMUSG00000070690.4</td>\n      <td>5830473C10Rik</td>\n      <td>ENSMUST00000094615.4</td>\n      <td>10090</td>\n      <td>2749</td>\n      <td>2756</td>\n      <td>3767</td>\n      <td>3774</td>\n      <td>8mer</td>\n      <td>0.00</td>\n    </tr>\n    <tr>\n      <th>...</th>\n      <td>...</td>\n      <td>...</td>\n      <td>...</td>\n      <td>...</td>\n      <td>...</td>\n      <td>...</td>\n      <td>...</td>\n      <td>...</td>\n      <td>...</td>\n      <td>...</td>\n      <td>...</td>\n    </tr>\n    <tr>\n      <th>339</th>\n      <td>miR-223-3p</td>\n      <td>ENSMUSG00000061410.6</td>\n      <td>Zcchc14</td>\n      <td>ENSMUST00000046386.4</td>\n      <td>10090</td>\n      <td>1680</td>\n      <td>1687</td>\n      <td>2860</td>\n      <td>2871</td>\n      <td>8mer</td>\n      <td>0.49</td>\n    </tr>\n    <tr>\n      <th>340</th>\n      <td>miR-223-3p</td>\n      <td>ENSMUSG00000024238.8</td>\n      <td>Zeb1</td>\n      <td>ENSMUST00000025081.6</td>\n      <td>10090</td>\n      <td>1245</td>\n      <td>1251</td>\n      <td>1936</td>\n      <td>1944</td>\n      <td>7mer-1a</td>\n      <td>0.44</td>\n    </tr>\n    <tr>\n      <th>341</th>\n      <td>miR-223-3p</td>\n      <td>ENSMUSG00000024750.5</td>\n      <td>Zfand5</td>\n      <td>ENSMUST00000025659.5</td>\n      <td>10090</td>\n      <td>17515</td>\n      <td>17521</td>\n      <td>21933</td>\n      <td>21939</td>\n      <td>7mer-1a</td>\n      <td>0.42</td>\n    </tr>\n    <tr>\n      <th>342</th>\n      <td>miR-223-3p</td>\n      <td>ENSMUSG00000038872.9</td>\n      <td>Zfhx3</td>\n      <td>ENSMUST00000043896.9</td>\n      <td>10090</td>\n      <td>884</td>\n      <td>890</td>\n      <td>1587</td>\n      <td>1593</td>\n      <td>7mer-m8</td>\n      <td>0.46</td>\n    </tr>\n    <tr>\n      <th>343</th>\n      <td>miR-223-3p</td>\n      <td>ENSMUSG00000079509.5</td>\n      <td>Zfx</td>\n      <td>ENSMUST00000088102.6</td>\n      <td>10090</td>\n      <td>2395</td>\n      <td>2401</td>\n      <td>3875</td>\n      <td>3881</td>\n      <td>7mer-1a</td>\n      <td>0.40</td>\n    </tr>\n  </tbody>\n</table>\n<p>344 rows × 11 columns</p>\n</div>"
     },
     "execution_count": 34,
     "metadata": {},
     "output_type": "execute_result"
    }
   ],
   "source": [
    "predicted_target_info_data"
   ],
   "metadata": {
    "collapsed": false,
    "pycharm": {
     "name": "#%%\n"
    }
   }
  },
  {
   "cell_type": "code",
   "execution_count": 37,
   "outputs": [
    {
     "name": "stdout",
     "output_type": "stream",
     "text": [
      "325\n"
     ]
    },
    {
     "data": {
      "text/plain": "['ENSMUSG00000035401', 'ENSMUSG00000026319', 'ENSMUSG00000073741']"
     },
     "execution_count": 37,
     "metadata": {},
     "output_type": "execute_result"
    }
   ],
   "source": [
    "predicted_target_genes = predicted_target_info_data[\"Gene ID\"].apply(lambda x: x.split(\".\")[0]).unique().tolist()\n",
    "print(len(predicted_target_genes))\n",
    "predicted_target_genes[:3]"
   ],
   "metadata": {
    "collapsed": false,
    "pycharm": {
     "name": "#%%\n"
    }
   }
  },
  {
   "cell_type": "code",
   "execution_count": null,
   "outputs": [],
   "source": [],
   "metadata": {
    "collapsed": false,
    "pycharm": {
     "name": "#%%\n"
    }
   }
  },
  {
   "cell_type": "code",
   "execution_count": 32,
   "outputs": [
    {
     "name": "stdout",
     "output_type": "stream",
     "text": [
      "325\n",
      "325\n"
     ]
    },
    {
     "data": {
      "text/plain": "True"
     },
     "execution_count": 32,
     "metadata": {},
     "output_type": "execute_result"
    }
   ],
   "source": [
    "L1 = sorted(predicted_target_data[\"Representative transcript\"].unique())\n",
    "L2 = sorted(predicted_target_info_data[\"Transcript ID\"].unique())\n",
    "\n",
    "print(len(L1))\n",
    "print(len(L2))\n",
    "\n",
    "L1 == L2"
   ],
   "metadata": {
    "collapsed": false,
    "pycharm": {
     "name": "#%%\n"
    }
   }
  },
  {
   "cell_type": "code",
   "execution_count": null,
   "outputs": [],
   "source": [],
   "metadata": {
    "collapsed": false,
    "pycharm": {
     "name": "#%%\n"
    }
   }
  },
  {
   "cell_type": "markdown",
   "source": [
    "## Read out files"
   ],
   "metadata": {
    "collapsed": false,
    "pycharm": {
     "name": "#%% md\n"
    }
   }
  },
  {
   "cell_type": "code",
   "execution_count": 33,
   "outputs": [],
   "source": [
    "import glob\n",
    "import os.path as op\n",
    "\n",
    "OUT_GENE_FILE_PATHS = glob.glob(r\"..\\..\\..\\gen_lists\\original\\*\")"
   ],
   "metadata": {
    "collapsed": false,
    "pycharm": {
     "name": "#%%\n"
    }
   }
  },
  {
   "cell_type": "code",
   "execution_count": 16,
   "outputs": [],
   "source": [
    "def read_genes(file_param):\n",
    "    with open(file_param) as file:\n",
    "        lines = [line.strip() for line in file.readlines()]\n",
    "        lines = sorted(set(lines))\n",
    "\n",
    "    return lines"
   ],
   "metadata": {
    "collapsed": false,
    "pycharm": {
     "name": "#%%\n"
    }
   }
  },
  {
   "cell_type": "code",
   "execution_count": 20,
   "outputs": [
    {
     "data": {
      "text/plain": "63"
     },
     "execution_count": 20,
     "metadata": {},
     "output_type": "execute_result"
    }
   ],
   "source": [
    "len(read_genes(r\"..\\..\\..\\gen_lists\\original\\rna_m0_down.txt\"))"
   ],
   "metadata": {
    "collapsed": false,
    "pycharm": {
     "name": "#%%\n"
    }
   }
  },
  {
   "cell_type": "code",
   "execution_count": 21,
   "outputs": [
    {
     "name": "stdout",
     "output_type": "stream",
     "text": [
      "rna_m0_down.txt\n",
      "rna_m0_up.txt\n",
      "rna_m1_down.txt\n",
      "rna_m1_up.txt\n",
      "rpf_m0_down.txt\n",
      "rpf_m0_up.txt\n",
      "rpf_m1_down.txt\n",
      "rpf_m1_up.txt\n"
     ]
    }
   ],
   "source": [
    "filename_to_genes = {}\n",
    "for file_path in OUT_GENE_FILE_PATHS:\n",
    "    print(op.basename(file_path))\n",
    "    filename_to_genes[op.basename(file_path)] = read_genes(file_path)"
   ],
   "metadata": {
    "collapsed": false,
    "pycharm": {
     "name": "#%%\n"
    }
   }
  },
  {
   "cell_type": "code",
   "execution_count": null,
   "outputs": [],
   "source": [],
   "metadata": {
    "collapsed": false,
    "pycharm": {
     "name": "#%%\n"
    }
   }
  },
  {
   "cell_type": "markdown",
   "source": [
    "# Find matched genes"
   ],
   "metadata": {
    "collapsed": false,
    "pycharm": {
     "name": "#%% md\n"
    }
   }
  },
  {
   "cell_type": "code",
   "execution_count": 41,
   "outputs": [
    {
     "name": "stdout",
     "output_type": "stream",
     "text": [
      "rna_m0_down.txt: 0 genes matched.\n",
      "set()\n",
      "==================================================\n",
      "\n",
      "rna_m0_up.txt: 1 genes matched.\n",
      "{'ENSMUSG00000074622'}\n",
      "==================================================\n",
      "\n",
      "rna_m1_down.txt: 3 genes matched.\n",
      "{'ENSMUSG00000032479', 'ENSMUSG00000025484', 'ENSMUSG00000002068'}\n",
      "==================================================\n",
      "\n",
      "rna_m1_up.txt: 0 genes matched.\n",
      "set()\n",
      "==================================================\n",
      "\n",
      "rpf_m0_down.txt: 27 genes matched.\n",
      "{'ENSMUSG00000055723', 'ENSMUSG00000032185', 'ENSMUSG00000035401', 'ENSMUSG00000028621', 'ENSMUSG00000026594', 'ENSMUSG00000024074', 'ENSMUSG00000074513', 'ENSMUSG00000054894', 'ENSMUSG00000038957', 'ENSMUSG00000027651', 'ENSMUSG00000026754', 'ENSMUSG00000022802', 'ENSMUSG00000058254', 'ENSMUSG00000063952', 'ENSMUSG00000043639', 'ENSMUSG00000029840', 'ENSMUSG00000018363', 'ENSMUSG00000050103', 'ENSMUSG00000026833', 'ENSMUSG00000021952', 'ENSMUSG00000035021', 'ENSMUSG00000002107', 'ENSMUSG00000005882', 'ENSMUSG00000005501', 'ENSMUSG00000073557', 'ENSMUSG00000026718', 'ENSMUSG00000029924'}\n",
      "==================================================\n",
      "\n",
      "rpf_m0_up.txt: 56 genes matched.\n",
      "{'ENSMUSG00000042595', 'ENSMUSG00000007656', 'ENSMUSG00000020864', 'ENSMUSG00000026565', 'ENSMUSG00000051615', 'ENSMUSG00000026843', 'ENSMUSG00000018171', 'ENSMUSG00000027206', 'ENSMUSG00000035133', 'ENSMUSG00000005161', 'ENSMUSG00000032307', 'ENSMUSG00000019929', 'ENSMUSG00000046032', 'ENSMUSG00000063659', 'ENSMUSG00000031953', 'ENSMUSG00000027508', 'ENSMUSG00000030225', 'ENSMUSG00000051413', 'ENSMUSG00000038206', 'ENSMUSG00000036989', 'ENSMUSG00000026761', 'ENSMUSG00000048170', 'ENSMUSG00000014504', 'ENSMUSG00000021033', 'ENSMUSG00000024986', 'ENSMUSG00000040848', 'ENSMUSG00000031659', 'ENSMUSG00000020015', 'ENSMUSG00000021929', 'ENSMUSG00000021477', 'ENSMUSG00000049539', 'ENSMUSG00000028134', 'ENSMUSG00000066043', 'ENSMUSG00000035559', 'ENSMUSG00000025525', 'ENSMUSG00000032265', 'ENSMUSG00000021690', 'ENSMUSG00000023018', 'ENSMUSG00000036943', 'ENSMUSG00000022698', 'ENSMUSG00000022365', 'ENSMUSG00000030660', 'ENSMUSG00000027763', 'ENSMUSG00000039046', 'ENSMUSG00000027519', 'ENSMUSG00000020894', 'ENSMUSG00000053897', 'ENSMUSG00000074622', 'ENSMUSG00000000253', 'ENSMUSG00000040396', 'ENSMUSG00000024750', 'ENSMUSG00000032698', 'ENSMUSG00000006705', 'ENSMUSG00000027109', 'ENSMUSG00000036810', 'ENSMUSG00000026083'}\n",
      "==================================================\n",
      "\n",
      "rpf_m1_down.txt: 22 genes matched.\n",
      "{'ENSMUSG00000036282', 'ENSMUSG00000028621', 'ENSMUSG00000021549', 'ENSMUSG00000074513', 'ENSMUSG00000004798', 'ENSMUSG00000002068', 'ENSMUSG00000032621', 'ENSMUSG00000021033', 'ENSMUSG00000043639', 'ENSMUSG00000050103', 'ENSMUSG00000038080', 'ENSMUSG00000032423', 'ENSMUSG00000026833', 'ENSMUSG00000005583', 'ENSMUSG00000039046', 'ENSMUSG00000002107', 'ENSMUSG00000005501', 'ENSMUSG00000073557', 'ENSMUSG00000026718', 'ENSMUSG00000035597', 'ENSMUSG00000029924', 'ENSMUSG00000030067'}\n",
      "==================================================\n",
      "\n",
      "rpf_m1_up.txt: 18 genes matched.\n",
      "{'ENSMUSG00000063800', 'ENSMUSG00000038957', 'ENSMUSG00000034442', 'ENSMUSG00000069769', 'ENSMUSG00000050395', 'ENSMUSG00000071068', 'ENSMUSG00000021990', 'ENSMUSG00000026565', 'ENSMUSG00000025525', 'ENSMUSG00000018171', 'ENSMUSG00000026843', 'ENSMUSG00000006705', 'ENSMUSG00000032698', 'ENSMUSG00000032384', 'ENSMUSG00000004591', 'ENSMUSG00000036810', 'ENSMUSG00000022773', 'ENSMUSG00000018398'}\n",
      "==================================================\n",
      "\n"
     ]
    }
   ],
   "source": [
    "for filename, genes in filename_to_genes.items():\n",
    "    matched_genes = set(predicted_target_genes).intersection(set(genes))\n",
    "    print(f\"{filename}: {len(matched_genes)} genes matched.\")\n",
    "    print(matched_genes)\n",
    "    print(\"==================================================\\n\")"
   ],
   "metadata": {
    "collapsed": false,
    "pycharm": {
     "name": "#%%\n"
    }
   }
  },
  {
   "cell_type": "code",
   "execution_count": null,
   "outputs": [],
   "source": [],
   "metadata": {
    "collapsed": false,
    "pycharm": {
     "name": "#%%\n"
    }
   }
  },
  {
   "cell_type": "code",
   "execution_count": 44,
   "outputs": [
    {
     "name": "stdout",
     "output_type": "stream",
     "text": [
      "rna_m0_down.txt: 0 genes matched.\n",
      "set()\n",
      "==================================================\n",
      "rna_m0_up.txt: 1 genes matched.\n",
      "{'ENSMUSG00000074622'}\n",
      "==================================================\n",
      "rna_m1_down.txt: 3 genes matched.\n",
      "{'ENSMUSG00000032479', 'ENSMUSG00000025484', 'ENSMUSG00000002068'}\n",
      "==================================================\n",
      "rna_m1_up.txt: 0 genes matched.\n",
      "set()\n",
      "==================================================\n",
      "rpf_m0_down.txt: 27 genes matched.\n",
      "{'ENSMUSG00000055723', 'ENSMUSG00000032185', 'ENSMUSG00000035401', 'ENSMUSG00000028621', 'ENSMUSG00000026594', 'ENSMUSG00000024074', 'ENSMUSG00000074513', 'ENSMUSG00000054894', 'ENSMUSG00000038957', 'ENSMUSG00000027651', 'ENSMUSG00000026754', 'ENSMUSG00000022802', 'ENSMUSG00000058254', 'ENSMUSG00000063952', 'ENSMUSG00000043639', 'ENSMUSG00000029840', 'ENSMUSG00000018363', 'ENSMUSG00000050103', 'ENSMUSG00000026833', 'ENSMUSG00000021952', 'ENSMUSG00000035021', 'ENSMUSG00000002107', 'ENSMUSG00000005882', 'ENSMUSG00000005501', 'ENSMUSG00000073557', 'ENSMUSG00000026718', 'ENSMUSG00000029924'}\n",
      "==================================================\n",
      "rpf_m0_up.txt: 56 genes matched.\n",
      "{'ENSMUSG00000042595', 'ENSMUSG00000007656', 'ENSMUSG00000020864', 'ENSMUSG00000026565', 'ENSMUSG00000051615', 'ENSMUSG00000026843', 'ENSMUSG00000018171', 'ENSMUSG00000027206', 'ENSMUSG00000035133', 'ENSMUSG00000005161', 'ENSMUSG00000032307', 'ENSMUSG00000019929', 'ENSMUSG00000046032', 'ENSMUSG00000063659', 'ENSMUSG00000031953', 'ENSMUSG00000027508', 'ENSMUSG00000030225', 'ENSMUSG00000051413', 'ENSMUSG00000038206', 'ENSMUSG00000036989', 'ENSMUSG00000026761', 'ENSMUSG00000048170', 'ENSMUSG00000014504', 'ENSMUSG00000021033', 'ENSMUSG00000024986', 'ENSMUSG00000040848', 'ENSMUSG00000031659', 'ENSMUSG00000020015', 'ENSMUSG00000021929', 'ENSMUSG00000021477', 'ENSMUSG00000049539', 'ENSMUSG00000028134', 'ENSMUSG00000066043', 'ENSMUSG00000035559', 'ENSMUSG00000025525', 'ENSMUSG00000032265', 'ENSMUSG00000021690', 'ENSMUSG00000023018', 'ENSMUSG00000036943', 'ENSMUSG00000022698', 'ENSMUSG00000022365', 'ENSMUSG00000030660', 'ENSMUSG00000027763', 'ENSMUSG00000039046', 'ENSMUSG00000027519', 'ENSMUSG00000020894', 'ENSMUSG00000053897', 'ENSMUSG00000074622', 'ENSMUSG00000000253', 'ENSMUSG00000040396', 'ENSMUSG00000024750', 'ENSMUSG00000032698', 'ENSMUSG00000006705', 'ENSMUSG00000027109', 'ENSMUSG00000036810', 'ENSMUSG00000026083'}\n",
      "==================================================\n",
      "rpf_m1_down.txt: 22 genes matched.\n",
      "{'ENSMUSG00000036282', 'ENSMUSG00000028621', 'ENSMUSG00000021549', 'ENSMUSG00000074513', 'ENSMUSG00000004798', 'ENSMUSG00000002068', 'ENSMUSG00000032621', 'ENSMUSG00000021033', 'ENSMUSG00000043639', 'ENSMUSG00000050103', 'ENSMUSG00000038080', 'ENSMUSG00000032423', 'ENSMUSG00000026833', 'ENSMUSG00000005583', 'ENSMUSG00000039046', 'ENSMUSG00000002107', 'ENSMUSG00000005501', 'ENSMUSG00000073557', 'ENSMUSG00000026718', 'ENSMUSG00000035597', 'ENSMUSG00000029924', 'ENSMUSG00000030067'}\n",
      "==================================================\n",
      "rpf_m1_up.txt: 18 genes matched.\n",
      "{'ENSMUSG00000063800', 'ENSMUSG00000038957', 'ENSMUSG00000034442', 'ENSMUSG00000069769', 'ENSMUSG00000050395', 'ENSMUSG00000071068', 'ENSMUSG00000021990', 'ENSMUSG00000026565', 'ENSMUSG00000025525', 'ENSMUSG00000018171', 'ENSMUSG00000026843', 'ENSMUSG00000006705', 'ENSMUSG00000032698', 'ENSMUSG00000032384', 'ENSMUSG00000004591', 'ENSMUSG00000036810', 'ENSMUSG00000022773', 'ENSMUSG00000018398'}\n",
      "==================================================\n"
     ]
    },
    {
     "data": {
      "text/plain": "  GENE_LIST_FILENAME  NUM_MATCHED  \\\n0    rna_m0_down.txt            0   \n1      rna_m0_up.txt            1   \n2    rna_m1_down.txt            3   \n3      rna_m1_up.txt            0   \n4    rpf_m0_down.txt           27   \n5      rpf_m0_up.txt           56   \n6    rpf_m1_down.txt           22   \n7      rpf_m1_up.txt           18   \n\n                               MATCHED_GENES_ENSMUSG  \n0                                                 {}  \n1                               {ENSMUSG00000074622}  \n2  {ENSMUSG00000032479, ENSMUSG00000025484, ENSMU...  \n3                                                 {}  \n4  {ENSMUSG00000055723, ENSMUSG00000032185, ENSMU...  \n5  {ENSMUSG00000042595, ENSMUSG00000007656, ENSMU...  \n6  {ENSMUSG00000036282, ENSMUSG00000028621, ENSMU...  \n7  {ENSMUSG00000063800, ENSMUSG00000038957, ENSMU...  ",
      "text/html": "<div>\n<style scoped>\n    .dataframe tbody tr th:only-of-type {\n        vertical-align: middle;\n    }\n\n    .dataframe tbody tr th {\n        vertical-align: top;\n    }\n\n    .dataframe thead th {\n        text-align: right;\n    }\n</style>\n<table border=\"1\" class=\"dataframe\">\n  <thead>\n    <tr style=\"text-align: right;\">\n      <th></th>\n      <th>GENE_LIST_FILENAME</th>\n      <th>NUM_MATCHED</th>\n      <th>MATCHED_GENES_ENSMUSG</th>\n    </tr>\n  </thead>\n  <tbody>\n    <tr>\n      <th>0</th>\n      <td>rna_m0_down.txt</td>\n      <td>0</td>\n      <td>{}</td>\n    </tr>\n    <tr>\n      <th>1</th>\n      <td>rna_m0_up.txt</td>\n      <td>1</td>\n      <td>{ENSMUSG00000074622}</td>\n    </tr>\n    <tr>\n      <th>2</th>\n      <td>rna_m1_down.txt</td>\n      <td>3</td>\n      <td>{ENSMUSG00000032479, ENSMUSG00000025484, ENSMU...</td>\n    </tr>\n    <tr>\n      <th>3</th>\n      <td>rna_m1_up.txt</td>\n      <td>0</td>\n      <td>{}</td>\n    </tr>\n    <tr>\n      <th>4</th>\n      <td>rpf_m0_down.txt</td>\n      <td>27</td>\n      <td>{ENSMUSG00000055723, ENSMUSG00000032185, ENSMU...</td>\n    </tr>\n    <tr>\n      <th>5</th>\n      <td>rpf_m0_up.txt</td>\n      <td>56</td>\n      <td>{ENSMUSG00000042595, ENSMUSG00000007656, ENSMU...</td>\n    </tr>\n    <tr>\n      <th>6</th>\n      <td>rpf_m1_down.txt</td>\n      <td>22</td>\n      <td>{ENSMUSG00000036282, ENSMUSG00000028621, ENSMU...</td>\n    </tr>\n    <tr>\n      <th>7</th>\n      <td>rpf_m1_up.txt</td>\n      <td>18</td>\n      <td>{ENSMUSG00000063800, ENSMUSG00000038957, ENSMU...</td>\n    </tr>\n  </tbody>\n</table>\n</div>"
     },
     "execution_count": 44,
     "metadata": {},
     "output_type": "execute_result"
    }
   ],
   "source": [
    "summary_match_entries = []\n",
    "for filename, genes in filename_to_genes.items():\n",
    "    matched_genes = set(predicted_target_genes).intersection(set(genes))\n",
    "    print(f\"{filename}: {len(matched_genes)} genes matched.\")\n",
    "    print(matched_genes)\n",
    "\n",
    "    summary_match_entries.append(\n",
    "        (\n",
    "            filename,\n",
    "            len(matched_genes),\n",
    "            matched_genes,\n",
    "        )\n",
    "    )\n",
    "\n",
    "    print(\"==================================================\")\n",
    "\n",
    "\n",
    "summary_match_data = pd.DataFrame(summary_match_entries)\n",
    "summary_match_data.columns = [\"GENE_LIST_FILENAME\", \"NUM_MATCHED\", \"MATCHED_GENES_ENSMUSG\"]\n",
    "summary_match_data"
   ],
   "metadata": {
    "collapsed": false,
    "pycharm": {
     "name": "#%%\n"
    }
   }
  },
  {
   "cell_type": "code",
   "execution_count": 45,
   "outputs": [],
   "source": [
    "summary_match_data.to_csv(\"TargetScan_summary_match_data_2022-01-13.csv\", index=False)"
   ],
   "metadata": {
    "collapsed": false,
    "pycharm": {
     "name": "#%%\n"
    }
   }
  },
  {
   "cell_type": "code",
   "execution_count": null,
   "outputs": [],
   "source": [],
   "metadata": {
    "collapsed": false,
    "pycharm": {
     "name": "#%%\n"
    }
   }
  },
  {
   "cell_type": "code",
   "execution_count": null,
   "outputs": [],
   "source": [],
   "metadata": {
    "collapsed": false,
    "pycharm": {
     "name": "#%%\n"
    }
   }
  },
  {
   "cell_type": "code",
   "execution_count": null,
   "outputs": [],
   "source": [],
   "metadata": {
    "collapsed": false,
    "pycharm": {
     "name": "#%%\n"
    }
   }
  },
  {
   "cell_type": "code",
   "execution_count": null,
   "outputs": [],
   "source": [],
   "metadata": {
    "collapsed": false,
    "pycharm": {
     "name": "#%%\n"
    }
   }
  },
  {
   "cell_type": "code",
   "execution_count": null,
   "outputs": [],
   "source": [],
   "metadata": {
    "collapsed": false,
    "pycharm": {
     "name": "#%%\n"
    }
   }
  },
  {
   "cell_type": "code",
   "execution_count": null,
   "outputs": [],
   "source": [],
   "metadata": {
    "collapsed": false,
    "pycharm": {
     "name": "#%%\n"
    }
   }
  },
  {
   "cell_type": "code",
   "execution_count": null,
   "outputs": [],
   "source": [],
   "metadata": {
    "collapsed": false,
    "pycharm": {
     "name": "#%%\n"
    }
   }
  },
  {
   "cell_type": "code",
   "execution_count": null,
   "outputs": [],
   "source": [],
   "metadata": {
    "collapsed": false,
    "pycharm": {
     "name": "#%%\n"
    }
   }
  }
 ],
 "metadata": {
  "kernelspec": {
   "display_name": "Python 3",
   "language": "python",
   "name": "python3"
  },
  "language_info": {
   "codemirror_mode": {
    "name": "ipython",
    "version": 2
   },
   "file_extension": ".py",
   "mimetype": "text/x-python",
   "name": "python",
   "nbconvert_exporter": "python",
   "pygments_lexer": "ipython2",
   "version": "2.7.6"
  }
 },
 "nbformat": 4,
 "nbformat_minor": 0
}