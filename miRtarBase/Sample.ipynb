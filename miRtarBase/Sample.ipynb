{
 "cells": [
  {
   "cell_type": "markdown",
   "source": [
    "# MiTarBase"
   ],
   "metadata": {
    "collapsed": false,
    "pycharm": {
     "name": "#%% md\n"
    }
   }
  },
  {
   "cell_type": "code",
   "execution_count": 1,
   "metadata": {
    "collapsed": true
   },
   "outputs": [],
   "source": [
    "import pandas as pd\n",
    "\n",
    "DATA_PATH = \"data/miRTarBase_MTI.xlsx\""
   ]
  },
  {
   "cell_type": "code",
   "execution_count": 3,
   "outputs": [],
   "source": [
    "data = pd.read_excel(DATA_PATH)"
   ],
   "metadata": {
    "collapsed": false,
    "pycharm": {
     "name": "#%%\n"
    }
   }
  },
  {
   "cell_type": "code",
   "execution_count": 4,
   "outputs": [
    {
     "data": {
      "text/plain": "  miRTarBase ID           miRNA       Species (miRNA) Target Gene  \\\n0    MIRT002091  ath-miR398c-3p  Arabidopsis thaliana        CSD2   \n1    MIRT002091  ath-miR398c-3p  Arabidopsis thaliana        CSD2   \n2    MIRT002092  ath-miR398b-3p  Arabidopsis thaliana        CSD2   \n3    MIRT002092  ath-miR398b-3p  Arabidopsis thaliana        CSD2   \n4    MIRT002093  ath-miR398c-3p  Arabidopsis thaliana        CSD1   \n\n   Target Gene (Entrez ID) Species (Target Gene)            Experiments  \\\n0                   817365  Arabidopsis thaliana           Western blot   \n1                   817365  Arabidopsis thaliana  5\"RACE//Northern blot   \n2                   817365  Arabidopsis thaliana           Western blot   \n3                   817365  Arabidopsis thaliana  5\"RACE//Northern blot   \n4                   837405  Arabidopsis thaliana           Western blot   \n\n            Support Type  References (PMID)  \n0         Functional MTI           18392778  \n1  Functional MTI (Weak)           20400846  \n2         Functional MTI           18392778  \n3  Functional MTI (Weak)           20400846  \n4         Functional MTI           18392778  ",
      "text/html": "<div>\n<style scoped>\n    .dataframe tbody tr th:only-of-type {\n        vertical-align: middle;\n    }\n\n    .dataframe tbody tr th {\n        vertical-align: top;\n    }\n\n    .dataframe thead th {\n        text-align: right;\n    }\n</style>\n<table border=\"1\" class=\"dataframe\">\n  <thead>\n    <tr style=\"text-align: right;\">\n      <th></th>\n      <th>miRTarBase ID</th>\n      <th>miRNA</th>\n      <th>Species (miRNA)</th>\n      <th>Target Gene</th>\n      <th>Target Gene (Entrez ID)</th>\n      <th>Species (Target Gene)</th>\n      <th>Experiments</th>\n      <th>Support Type</th>\n      <th>References (PMID)</th>\n    </tr>\n  </thead>\n  <tbody>\n    <tr>\n      <th>0</th>\n      <td>MIRT002091</td>\n      <td>ath-miR398c-3p</td>\n      <td>Arabidopsis thaliana</td>\n      <td>CSD2</td>\n      <td>817365</td>\n      <td>Arabidopsis thaliana</td>\n      <td>Western blot</td>\n      <td>Functional MTI</td>\n      <td>18392778</td>\n    </tr>\n    <tr>\n      <th>1</th>\n      <td>MIRT002091</td>\n      <td>ath-miR398c-3p</td>\n      <td>Arabidopsis thaliana</td>\n      <td>CSD2</td>\n      <td>817365</td>\n      <td>Arabidopsis thaliana</td>\n      <td>5\"RACE//Northern blot</td>\n      <td>Functional MTI (Weak)</td>\n      <td>20400846</td>\n    </tr>\n    <tr>\n      <th>2</th>\n      <td>MIRT002092</td>\n      <td>ath-miR398b-3p</td>\n      <td>Arabidopsis thaliana</td>\n      <td>CSD2</td>\n      <td>817365</td>\n      <td>Arabidopsis thaliana</td>\n      <td>Western blot</td>\n      <td>Functional MTI</td>\n      <td>18392778</td>\n    </tr>\n    <tr>\n      <th>3</th>\n      <td>MIRT002092</td>\n      <td>ath-miR398b-3p</td>\n      <td>Arabidopsis thaliana</td>\n      <td>CSD2</td>\n      <td>817365</td>\n      <td>Arabidopsis thaliana</td>\n      <td>5\"RACE//Northern blot</td>\n      <td>Functional MTI (Weak)</td>\n      <td>20400846</td>\n    </tr>\n    <tr>\n      <th>4</th>\n      <td>MIRT002093</td>\n      <td>ath-miR398c-3p</td>\n      <td>Arabidopsis thaliana</td>\n      <td>CSD1</td>\n      <td>837405</td>\n      <td>Arabidopsis thaliana</td>\n      <td>Western blot</td>\n      <td>Functional MTI</td>\n      <td>18392778</td>\n    </tr>\n  </tbody>\n</table>\n</div>"
     },
     "execution_count": 4,
     "metadata": {},
     "output_type": "execute_result"
    }
   ],
   "source": [
    "data.head()"
   ],
   "metadata": {
    "collapsed": false,
    "pycharm": {
     "name": "#%%\n"
    }
   }
  },
  {
   "cell_type": "code",
   "execution_count": 11,
   "outputs": [
    {
     "data": {
      "text/plain": "       miRTarBase ID           miRNA       Species (miRNA) Target Gene  \\\n0         MIRT002091  ath-miR398c-3p  Arabidopsis thaliana        CSD2   \n1         MIRT002091  ath-miR398c-3p  Arabidopsis thaliana        CSD2   \n2         MIRT002092  ath-miR398b-3p  Arabidopsis thaliana        CSD2   \n3         MIRT002092  ath-miR398b-3p  Arabidopsis thaliana        CSD2   \n4         MIRT002093  ath-miR398c-3p  Arabidopsis thaliana        CSD1   \n...              ...             ...                   ...         ...   \n557177    MIRT005367      xla-miR-1b        Xenopus laevis     hand2-a   \n557178    MIRT032507     xla-miR-427        Xenopus laevis     lefty.S   \n557179    MIRT032508     xla-miR-427        Xenopus laevis    nodal6.S   \n557180    MIRT032509     xla-miR-427        Xenopus laevis    nodal5.L   \n557181    MIRT006009    xtr-miR-9-5p    Xenopus tropicalis        hes1   \n\n        Target Gene (Entrez ID) Species (Target Gene)  \\\n0                        817365  Arabidopsis thaliana   \n1                        817365  Arabidopsis thaliana   \n2                        817365  Arabidopsis thaliana   \n3                        817365  Arabidopsis thaliana   \n4                        837405  Arabidopsis thaliana   \n...                         ...                   ...   \n557177                   373641        Xenopus laevis   \n557178                   398193        Xenopus laevis   \n557179                   734176        Xenopus laevis   \n557180                   780748        Xenopus laevis   \n557181                   496617    Xenopus tropicalis   \n\n                      Experiments           Support Type  References (PMID)  \n0                    Western blot         Functional MTI           18392778  \n1           5\"RACE//Northern blot  Functional MTI (Weak)           20400846  \n2                    Western blot         Functional MTI           18392778  \n3           5\"RACE//Northern blot  Functional MTI (Weak)           20400846  \n4                    Western blot         Functional MTI           18392778  \n...                           ...                    ...                ...  \n557177  Luciferase reporter assay         Functional MTI           15951802  \n557178                      Other         Functional MTI           19386261  \n557179                      Other         Functional MTI           19386261  \n557180                      Other         Functional MTI           19386261  \n557181  Luciferase reporter assay         Functional MTI           21238922  \n\n[557182 rows x 9 columns]",
      "text/html": "<div>\n<style scoped>\n    .dataframe tbody tr th:only-of-type {\n        vertical-align: middle;\n    }\n\n    .dataframe tbody tr th {\n        vertical-align: top;\n    }\n\n    .dataframe thead th {\n        text-align: right;\n    }\n</style>\n<table border=\"1\" class=\"dataframe\">\n  <thead>\n    <tr style=\"text-align: right;\">\n      <th></th>\n      <th>miRTarBase ID</th>\n      <th>miRNA</th>\n      <th>Species (miRNA)</th>\n      <th>Target Gene</th>\n      <th>Target Gene (Entrez ID)</th>\n      <th>Species (Target Gene)</th>\n      <th>Experiments</th>\n      <th>Support Type</th>\n      <th>References (PMID)</th>\n    </tr>\n  </thead>\n  <tbody>\n    <tr>\n      <th>0</th>\n      <td>MIRT002091</td>\n      <td>ath-miR398c-3p</td>\n      <td>Arabidopsis thaliana</td>\n      <td>CSD2</td>\n      <td>817365</td>\n      <td>Arabidopsis thaliana</td>\n      <td>Western blot</td>\n      <td>Functional MTI</td>\n      <td>18392778</td>\n    </tr>\n    <tr>\n      <th>1</th>\n      <td>MIRT002091</td>\n      <td>ath-miR398c-3p</td>\n      <td>Arabidopsis thaliana</td>\n      <td>CSD2</td>\n      <td>817365</td>\n      <td>Arabidopsis thaliana</td>\n      <td>5\"RACE//Northern blot</td>\n      <td>Functional MTI (Weak)</td>\n      <td>20400846</td>\n    </tr>\n    <tr>\n      <th>2</th>\n      <td>MIRT002092</td>\n      <td>ath-miR398b-3p</td>\n      <td>Arabidopsis thaliana</td>\n      <td>CSD2</td>\n      <td>817365</td>\n      <td>Arabidopsis thaliana</td>\n      <td>Western blot</td>\n      <td>Functional MTI</td>\n      <td>18392778</td>\n    </tr>\n    <tr>\n      <th>3</th>\n      <td>MIRT002092</td>\n      <td>ath-miR398b-3p</td>\n      <td>Arabidopsis thaliana</td>\n      <td>CSD2</td>\n      <td>817365</td>\n      <td>Arabidopsis thaliana</td>\n      <td>5\"RACE//Northern blot</td>\n      <td>Functional MTI (Weak)</td>\n      <td>20400846</td>\n    </tr>\n    <tr>\n      <th>4</th>\n      <td>MIRT002093</td>\n      <td>ath-miR398c-3p</td>\n      <td>Arabidopsis thaliana</td>\n      <td>CSD1</td>\n      <td>837405</td>\n      <td>Arabidopsis thaliana</td>\n      <td>Western blot</td>\n      <td>Functional MTI</td>\n      <td>18392778</td>\n    </tr>\n    <tr>\n      <th>...</th>\n      <td>...</td>\n      <td>...</td>\n      <td>...</td>\n      <td>...</td>\n      <td>...</td>\n      <td>...</td>\n      <td>...</td>\n      <td>...</td>\n      <td>...</td>\n    </tr>\n    <tr>\n      <th>557177</th>\n      <td>MIRT005367</td>\n      <td>xla-miR-1b</td>\n      <td>Xenopus laevis</td>\n      <td>hand2-a</td>\n      <td>373641</td>\n      <td>Xenopus laevis</td>\n      <td>Luciferase reporter assay</td>\n      <td>Functional MTI</td>\n      <td>15951802</td>\n    </tr>\n    <tr>\n      <th>557178</th>\n      <td>MIRT032507</td>\n      <td>xla-miR-427</td>\n      <td>Xenopus laevis</td>\n      <td>lefty.S</td>\n      <td>398193</td>\n      <td>Xenopus laevis</td>\n      <td>Other</td>\n      <td>Functional MTI</td>\n      <td>19386261</td>\n    </tr>\n    <tr>\n      <th>557179</th>\n      <td>MIRT032508</td>\n      <td>xla-miR-427</td>\n      <td>Xenopus laevis</td>\n      <td>nodal6.S</td>\n      <td>734176</td>\n      <td>Xenopus laevis</td>\n      <td>Other</td>\n      <td>Functional MTI</td>\n      <td>19386261</td>\n    </tr>\n    <tr>\n      <th>557180</th>\n      <td>MIRT032509</td>\n      <td>xla-miR-427</td>\n      <td>Xenopus laevis</td>\n      <td>nodal5.L</td>\n      <td>780748</td>\n      <td>Xenopus laevis</td>\n      <td>Other</td>\n      <td>Functional MTI</td>\n      <td>19386261</td>\n    </tr>\n    <tr>\n      <th>557181</th>\n      <td>MIRT006009</td>\n      <td>xtr-miR-9-5p</td>\n      <td>Xenopus tropicalis</td>\n      <td>hes1</td>\n      <td>496617</td>\n      <td>Xenopus tropicalis</td>\n      <td>Luciferase reporter assay</td>\n      <td>Functional MTI</td>\n      <td>21238922</td>\n    </tr>\n  </tbody>\n</table>\n<p>557182 rows × 9 columns</p>\n</div>"
     },
     "execution_count": 11,
     "metadata": {},
     "output_type": "execute_result"
    }
   ],
   "source": [
    "data"
   ],
   "metadata": {
    "collapsed": false,
    "pycharm": {
     "name": "#%%\n"
    }
   }
  },
  {
   "cell_type": "code",
   "execution_count": 23,
   "outputs": [
    {
     "data": {
      "text/plain": "       miRTarBase ID            miRNA Species (miRNA) Target Gene  \\\n557173    MIRT004806  mmu-miR-146a-5p    Mus musculus     VSIVgp2   \n557174    MIRT004804    mmu-miR-93-5p    Mus musculus     VSIVgp2   \n557175    MIRT004805  mmu-miR-378a-5p    Mus musculus     VSIVgp2   \n557176    MIRT004803    mmu-miR-24-3p    Mus musculus     VSIVgp5   \n\n        Target Gene (Entrez ID)               Species (Target Gene)  \\\n557173                  1489832  Vesicular stomatitis Indiana virus   \n557174                  1489832  Vesicular stomatitis Indiana virus   \n557175                  1489832  Vesicular stomatitis Indiana virus   \n557176                  1489835  Vesicular stomatitis Indiana virus   \n\n                      Experiments        Support Type  References (PMID)  \n557173  Luciferase reporter assay  Non-Functional MTI           17613256  \n557174  Luciferase reporter assay      Functional MTI           17613256  \n557175  Luciferase reporter assay  Non-Functional MTI           17613256  \n557176  Luciferase reporter assay      Functional MTI           17613256  ",
      "text/html": "<div>\n<style scoped>\n    .dataframe tbody tr th:only-of-type {\n        vertical-align: middle;\n    }\n\n    .dataframe tbody tr th {\n        vertical-align: top;\n    }\n\n    .dataframe thead th {\n        text-align: right;\n    }\n</style>\n<table border=\"1\" class=\"dataframe\">\n  <thead>\n    <tr style=\"text-align: right;\">\n      <th></th>\n      <th>miRTarBase ID</th>\n      <th>miRNA</th>\n      <th>Species (miRNA)</th>\n      <th>Target Gene</th>\n      <th>Target Gene (Entrez ID)</th>\n      <th>Species (Target Gene)</th>\n      <th>Experiments</th>\n      <th>Support Type</th>\n      <th>References (PMID)</th>\n    </tr>\n  </thead>\n  <tbody>\n    <tr>\n      <th>557173</th>\n      <td>MIRT004806</td>\n      <td>mmu-miR-146a-5p</td>\n      <td>Mus musculus</td>\n      <td>VSIVgp2</td>\n      <td>1489832</td>\n      <td>Vesicular stomatitis Indiana virus</td>\n      <td>Luciferase reporter assay</td>\n      <td>Non-Functional MTI</td>\n      <td>17613256</td>\n    </tr>\n    <tr>\n      <th>557174</th>\n      <td>MIRT004804</td>\n      <td>mmu-miR-93-5p</td>\n      <td>Mus musculus</td>\n      <td>VSIVgp2</td>\n      <td>1489832</td>\n      <td>Vesicular stomatitis Indiana virus</td>\n      <td>Luciferase reporter assay</td>\n      <td>Functional MTI</td>\n      <td>17613256</td>\n    </tr>\n    <tr>\n      <th>557175</th>\n      <td>MIRT004805</td>\n      <td>mmu-miR-378a-5p</td>\n      <td>Mus musculus</td>\n      <td>VSIVgp2</td>\n      <td>1489832</td>\n      <td>Vesicular stomatitis Indiana virus</td>\n      <td>Luciferase reporter assay</td>\n      <td>Non-Functional MTI</td>\n      <td>17613256</td>\n    </tr>\n    <tr>\n      <th>557176</th>\n      <td>MIRT004803</td>\n      <td>mmu-miR-24-3p</td>\n      <td>Mus musculus</td>\n      <td>VSIVgp5</td>\n      <td>1489835</td>\n      <td>Vesicular stomatitis Indiana virus</td>\n      <td>Luciferase reporter assay</td>\n      <td>Functional MTI</td>\n      <td>17613256</td>\n    </tr>\n  </tbody>\n</table>\n</div>"
     },
     "execution_count": 23,
     "metadata": {},
     "output_type": "execute_result"
    }
   ],
   "source": [
    "data[\n",
    "    (data[\"Species (miRNA)\"] != data[\"Species (Target Gene)\"])\n",
    "]"
   ],
   "metadata": {
    "collapsed": false,
    "pycharm": {
     "name": "#%%\n"
    }
   }
  },
  {
   "cell_type": "markdown",
   "source": [
    "## Which organisms we have?"
   ],
   "metadata": {
    "collapsed": false,
    "pycharm": {
     "name": "#%% md\n"
    }
   }
  },
  {
   "cell_type": "code",
   "execution_count": 7,
   "outputs": [
    {
     "data": {
      "text/plain": "Homo sapiens                             502652\nMus musculus                              49834\nCaenorhabditis elegans                     3199\nRattus norvegicus                           632\nBos taurus                                  266\nDrosophila melanogaster                     192\nDanio rerio                                 152\nArabidopsis thaliana                        106\nGallus gallus                                82\nSus scrofa                                   36\nBombyx mori                                   8\nXenopus laevis                                4\nCanis familiaris                              3\nOvis aries                                    3\nEpstein Barr virus                            2\nCricetulus griseus                            2\nTaeniopygia guttata                           2\nOryza sativa                                  2\nHuman cytomegalovirus                         2\nOryzias latipes                               1\nKaposi sarcoma-associated herpesvirus         1\nXenopus tropicalis                            1\nName: Species (miRNA), dtype: int64"
     },
     "execution_count": 7,
     "metadata": {},
     "output_type": "execute_result"
    }
   ],
   "source": [
    "data[\"Species (miRNA)\"].value_counts()"
   ],
   "metadata": {
    "collapsed": false,
    "pycharm": {
     "name": "#%%\n"
    }
   }
  },
  {
   "cell_type": "markdown",
   "source": [
    "## Looking for Mouse miR-223\n",
    "\n",
    "Species: *Mus musculus*\n",
    "miRNA: **mmu-miR-223**\n",
    "\n",
    "There are 4 entries whose _Species (miRNA)_ is not the same as their _Species (Target Gene)_."
   ],
   "metadata": {
    "collapsed": false
   }
  },
  {
   "cell_type": "code",
   "execution_count": 32,
   "outputs": [
    {
     "data": {
      "text/plain": "(324, 9)"
     },
     "execution_count": 32,
     "metadata": {},
     "output_type": "execute_result"
    }
   ],
   "source": [
    "data_mouse_miRNA_223 = data[\n",
    "    (data[\"Species (miRNA)\"] == \"Mus musculus\") &\n",
    "    (data[\"Species (Target Gene)\"] == \"Mus musculus\") &\n",
    "    (data[\"miRNA\"].str.contains(\"mmu-miR-223\"))\n",
    "].copy()\n",
    "\n",
    "data_mouse_miRNA_223.shape"
   ],
   "metadata": {
    "collapsed": false,
    "pycharm": {
     "name": "#%%\n"
    }
   }
  },
  {
   "cell_type": "code",
   "execution_count": 44,
   "outputs": [
    {
     "data": {
      "text/plain": "       miRTarBase ID           miRNA Species (miRNA) Target Gene  \\\n506819    MIRT002001  mmu-miR-223-3p    Mus musculus       Mef2c   \n506820    MIRT002001  mmu-miR-223-3p    Mus musculus       Mef2c   \n507185    MIRT004686  mmu-miR-223-3p    Mus musculus       Fbxw7   \n507416    MIRT005917  mmu-miR-223-3p    Mus musculus        Gzmb   \n507574    MIRT006826  mmu-miR-223-3p    Mus musculus       Stat3   \n...              ...             ...             ...         ...   \n553061    MIRT604646  mmu-miR-223-3p    Mus musculus     Spata13   \n555179    MIRT732258  mmu-miR-223-3p    Mus musculus      Il17rd   \n555331    MIRT733294  mmu-miR-223-3p    Mus musculus        KRT3   \n555409    MIRT733882  mmu-miR-223-3p    Mus musculus         Lif   \n555561    MIRT735275  mmu-miR-223-3p    Mus musculus         Il6   \n\n        Target Gene (Entrez ID) Species (Target Gene)  \\\n506819                    17260          Mus musculus   \n506820                    17260          Mus musculus   \n507185                    50754          Mus musculus   \n507416                    14939          Mus musculus   \n507574                    20848          Mus musculus   \n...                         ...                   ...   \n553061                   219140          Mus musculus   \n555179                   171463          Mus musculus   \n555331                     3850          Mus musculus   \n555409                    16878          Mus musculus   \n555561                    16193          Mus musculus   \n\n                                              Experiments  \\\n506819  Luciferase reporter assay//Western blot//Repor...   \n506820                Reporter assay;Western blot;qRT-PCR   \n507185                 Luciferase reporter assay//qRT-PCR   \n507416  Luciferase reporter assay//Microarray//Norther...   \n507574   Luciferase reporter assay//qRT-PCR//Western blot   \n...                                                   ...   \n553061                                          HITS-CLIP   \n555179                              qRT-PCR//Western blot   \n555331   Luciferase reporter assay//qRT-PCR//Western blot   \n555409  Immunohistochemistry//Luciferase reporter assa...   \n555561  Flow//Immunohistochemistry//Luciferase reporte...   \n\n                 Support Type  References (PMID)  \n506819         Functional MTI           18278031  \n506820         Functional MTI           21213211  \n507185         Functional MTI           20826802  \n507416         Functional MTI           20935160  \n507574         Functional MTI           22937006  \n...                       ...                ...  \n553061  Functional MTI (Weak)           21258322  \n555179         Functional MTI           28056105  \n555331     Non-Functional MTI           25944670  \n555409         Functional MTI           27158401  \n555561         Functional MTI           27679493  \n\n[324 rows x 9 columns]",
      "text/html": "<div>\n<style scoped>\n    .dataframe tbody tr th:only-of-type {\n        vertical-align: middle;\n    }\n\n    .dataframe tbody tr th {\n        vertical-align: top;\n    }\n\n    .dataframe thead th {\n        text-align: right;\n    }\n</style>\n<table border=\"1\" class=\"dataframe\">\n  <thead>\n    <tr style=\"text-align: right;\">\n      <th></th>\n      <th>miRTarBase ID</th>\n      <th>miRNA</th>\n      <th>Species (miRNA)</th>\n      <th>Target Gene</th>\n      <th>Target Gene (Entrez ID)</th>\n      <th>Species (Target Gene)</th>\n      <th>Experiments</th>\n      <th>Support Type</th>\n      <th>References (PMID)</th>\n    </tr>\n  </thead>\n  <tbody>\n    <tr>\n      <th>506819</th>\n      <td>MIRT002001</td>\n      <td>mmu-miR-223-3p</td>\n      <td>Mus musculus</td>\n      <td>Mef2c</td>\n      <td>17260</td>\n      <td>Mus musculus</td>\n      <td>Luciferase reporter assay//Western blot//Repor...</td>\n      <td>Functional MTI</td>\n      <td>18278031</td>\n    </tr>\n    <tr>\n      <th>506820</th>\n      <td>MIRT002001</td>\n      <td>mmu-miR-223-3p</td>\n      <td>Mus musculus</td>\n      <td>Mef2c</td>\n      <td>17260</td>\n      <td>Mus musculus</td>\n      <td>Reporter assay;Western blot;qRT-PCR</td>\n      <td>Functional MTI</td>\n      <td>21213211</td>\n    </tr>\n    <tr>\n      <th>507185</th>\n      <td>MIRT004686</td>\n      <td>mmu-miR-223-3p</td>\n      <td>Mus musculus</td>\n      <td>Fbxw7</td>\n      <td>50754</td>\n      <td>Mus musculus</td>\n      <td>Luciferase reporter assay//qRT-PCR</td>\n      <td>Functional MTI</td>\n      <td>20826802</td>\n    </tr>\n    <tr>\n      <th>507416</th>\n      <td>MIRT005917</td>\n      <td>mmu-miR-223-3p</td>\n      <td>Mus musculus</td>\n      <td>Gzmb</td>\n      <td>14939</td>\n      <td>Mus musculus</td>\n      <td>Luciferase reporter assay//Microarray//Norther...</td>\n      <td>Functional MTI</td>\n      <td>20935160</td>\n    </tr>\n    <tr>\n      <th>507574</th>\n      <td>MIRT006826</td>\n      <td>mmu-miR-223-3p</td>\n      <td>Mus musculus</td>\n      <td>Stat3</td>\n      <td>20848</td>\n      <td>Mus musculus</td>\n      <td>Luciferase reporter assay//qRT-PCR//Western blot</td>\n      <td>Functional MTI</td>\n      <td>22937006</td>\n    </tr>\n    <tr>\n      <th>...</th>\n      <td>...</td>\n      <td>...</td>\n      <td>...</td>\n      <td>...</td>\n      <td>...</td>\n      <td>...</td>\n      <td>...</td>\n      <td>...</td>\n      <td>...</td>\n    </tr>\n    <tr>\n      <th>553061</th>\n      <td>MIRT604646</td>\n      <td>mmu-miR-223-3p</td>\n      <td>Mus musculus</td>\n      <td>Spata13</td>\n      <td>219140</td>\n      <td>Mus musculus</td>\n      <td>HITS-CLIP</td>\n      <td>Functional MTI (Weak)</td>\n      <td>21258322</td>\n    </tr>\n    <tr>\n      <th>555179</th>\n      <td>MIRT732258</td>\n      <td>mmu-miR-223-3p</td>\n      <td>Mus musculus</td>\n      <td>Il17rd</td>\n      <td>171463</td>\n      <td>Mus musculus</td>\n      <td>qRT-PCR//Western blot</td>\n      <td>Functional MTI</td>\n      <td>28056105</td>\n    </tr>\n    <tr>\n      <th>555331</th>\n      <td>MIRT733294</td>\n      <td>mmu-miR-223-3p</td>\n      <td>Mus musculus</td>\n      <td>KRT3</td>\n      <td>3850</td>\n      <td>Mus musculus</td>\n      <td>Luciferase reporter assay//qRT-PCR//Western blot</td>\n      <td>Non-Functional MTI</td>\n      <td>25944670</td>\n    </tr>\n    <tr>\n      <th>555409</th>\n      <td>MIRT733882</td>\n      <td>mmu-miR-223-3p</td>\n      <td>Mus musculus</td>\n      <td>Lif</td>\n      <td>16878</td>\n      <td>Mus musculus</td>\n      <td>Immunohistochemistry//Luciferase reporter assa...</td>\n      <td>Functional MTI</td>\n      <td>27158401</td>\n    </tr>\n    <tr>\n      <th>555561</th>\n      <td>MIRT735275</td>\n      <td>mmu-miR-223-3p</td>\n      <td>Mus musculus</td>\n      <td>Il6</td>\n      <td>16193</td>\n      <td>Mus musculus</td>\n      <td>Flow//Immunohistochemistry//Luciferase reporte...</td>\n      <td>Functional MTI</td>\n      <td>27679493</td>\n    </tr>\n  </tbody>\n</table>\n<p>324 rows × 9 columns</p>\n</div>"
     },
     "execution_count": 44,
     "metadata": {},
     "output_type": "execute_result"
    }
   ],
   "source": [
    "data_mouse_miRNA_223"
   ],
   "metadata": {
    "collapsed": false,
    "pycharm": {
     "name": "#%%\n"
    }
   }
  },
  {
   "cell_type": "code",
   "execution_count": 42,
   "outputs": [
    {
     "data": {
      "text/plain": "True"
     },
     "execution_count": 42,
     "metadata": {},
     "output_type": "execute_result"
    }
   ],
   "source": [
    "(data_mouse_miRNA_223[\"Species (miRNA)\"] == data_mouse_miRNA_223[\"Species (Target Gene)\"]).all()"
   ],
   "metadata": {
    "collapsed": false,
    "pycharm": {
     "name": "#%%\n"
    }
   }
  },
  {
   "cell_type": "code",
   "execution_count": 50,
   "outputs": [
    {
     "name": "stdout",
     "output_type": "stream",
     "text": [
      "Number of genes: 311\n"
     ]
    },
    {
     "data": {
      "text/plain": "['Mef2c', 'Fbxw7', 'Gzmb', 'Stat3', 'Gria2']"
     },
     "execution_count": 50,
     "metadata": {},
     "output_type": "execute_result"
    }
   ],
   "source": [
    "target_genes_mouse_miRNA_223 = list(data_mouse_miRNA_223[\"Target Gene\"].unique())\n",
    "print(f\"Number of genes: {len(target_genes_mouse_miRNA_223)}\")\n",
    "target_genes_mouse_miRNA_223[:5]"
   ],
   "metadata": {
    "collapsed": false,
    "pycharm": {
     "name": "#%%\n"
    }
   }
  },
  {
   "cell_type": "markdown",
   "source": [
    "## Export the genes"
   ],
   "metadata": {
    "collapsed": false,
    "pycharm": {
     "name": "#%% md\n"
    }
   }
  },
  {
   "cell_type": "code",
   "execution_count": 46,
   "outputs": [],
   "source": [
    "from utils import extract_genes"
   ],
   "metadata": {
    "collapsed": false,
    "pycharm": {
     "name": "#%%\n"
    }
   }
  },
  {
   "cell_type": "code",
   "execution_count": 52,
   "outputs": [
    {
     "name": "stdout",
     "output_type": "stream",
     "text": [
      "Genes are exported successfully into file target_genes_mouse_miRNA_223_2022-01-10.txt\n"
     ]
    }
   ],
   "source": [
    "extract_genes(target_genes_mouse_miRNA_223, file_name=\"target_genes_mouse_miRNA_223\")"
   ],
   "metadata": {
    "collapsed": false,
    "pycharm": {
     "name": "#%%\n"
    }
   }
  },
  {
   "cell_type": "code",
   "execution_count": null,
   "outputs": [],
   "source": [],
   "metadata": {
    "collapsed": false,
    "pycharm": {
     "name": "#%%\n"
    }
   }
  }
 ],
 "metadata": {
  "kernelspec": {
   "display_name": "Python 3",
   "language": "python",
   "name": "python3"
  },
  "language_info": {
   "codemirror_mode": {
    "name": "ipython",
    "version": 2
   },
   "file_extension": ".py",
   "mimetype": "text/x-python",
   "name": "python",
   "nbconvert_exporter": "python",
   "pygments_lexer": "ipython2",
   "version": "2.7.6"
  }
 },
 "nbformat": 4,
 "nbformat_minor": 0
}